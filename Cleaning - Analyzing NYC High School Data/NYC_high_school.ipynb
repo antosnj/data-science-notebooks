{
  "cells": [
    {
      "metadata": {
        "_uuid": "c07f350c4ca0e0632dbf9a8ffff4142b7e80c42d"
      },
      "cell_type": "markdown",
      "source": "# Table of contents\n*  [Introduction](#section1) \n*  [Read in the data](#section2)\n      - [School data](#section3)\n      - [Survey data](#section4)\n* [Cleaning](#section5)\n    - [Add DBN columns](#section6)\n    - [Convert columns to numeric](#section7)\n    - [Condense datasets](#section8)\n    - [Convert AP scores to numeric](#section9)\n    - [Combine the datasets](#section10)\n    - [Add a school district column for mapping](#section11)\n* [Analysis](#section12)\n    - [Find correlations](#section13)\n    - [Plotting survey correlations](#section14)\n    - [Geographic data](#section15)\n    - [Race and gender](#section16)\n* [Schools vs. Neighborhoods](#section17)\n* [High School Ranking by SAT Score](#section18)\n    \n    \nby @antosnj\n"
    },
    {
      "metadata": {
        "_uuid": "d677c8dd60d9cd3830443ca0cc0edd2c725c18f3"
      },
      "cell_type": "markdown",
      "source": " <a id='section1'></a>\n# Introduction\nThis project aims to analyze NYC High School Data. The starting datasets have been taken from https://opendata.cityofnewyork.us/."
    },
    {
      "metadata": {
        "trusted": true,
        "_uuid": "7cc1137f362b1dc8481986bcafb0414ac588ded8"
      },
      "cell_type": "code",
      "source": "%autosave 2\n\nimport pandas as pd\nimport numpy\nimport re\nimport warnings\nimport matplotlib.pyplot as plt\n\n%matplotlib inline\n\nwarnings.filterwarnings('ignore') ",
      "execution_count": null,
      "outputs": []
    },
    {
      "metadata": {
        "_uuid": "492e14a1e05595e0e7ebc8b0115b62373e71339e"
      },
      "cell_type": "markdown",
      "source": " <a id='section2'></a>\n# Read in the data\n <a id='section3'></a>\n## School data"
    },
    {
      "metadata": {
        "trusted": true,
        "_uuid": "cdebb6dd82acae4fc62ff032922afac5559e3eb2"
      },
      "cell_type": "code",
      "source": "data_files = [\n    \"ap_2010.csv\",\n    \"class_size.csv\",\n    \"demographics.csv\",\n    \"graduation.csv\",\n    \"hs_directory.csv\",\n    \"sat_results.csv\"\n]\n\ndata = {}\n\nfor f in data_files:\n    d = pd.read_csv(\"../input/nyc-data/nyc_highschool_data/schools/{0}\".format(f))\n\n    data[f.replace(\".csv\", \"\")] = d",
      "execution_count": null,
      "outputs": []
    },
    {
      "metadata": {
        "_uuid": "b3c871adb3eb5422620a744bb3a1cb7ff6f2012c"
      },
      "cell_type": "markdown",
      "source": " <a id='section4'></a>\n# Read in the surveys"
    },
    {
      "metadata": {
        "trusted": true,
        "_uuid": "ceb45bbdc7857acf4153847c970b57fd1bd2d859"
      },
      "cell_type": "code",
      "source": "all_survey = pd.read_csv(\"../input/nyc-data/nyc_highschool_data/schools/survey_all.txt\", delimiter=\"\\t\", encoding='windows-1252')\nd75_survey = pd.read_csv(\"../input/nyc-data/nyc_highschool_data/schools/survey_d75.txt\", delimiter=\"\\t\", encoding='windows-1252')\nsurvey = pd.concat([all_survey, d75_survey], axis=0)\n\nsurvey[\"DBN\"] = survey[\"dbn\"]\n\nsurvey_fields = [\n    \"DBN\", \n    \"rr_s\", \n    \"rr_t\", \n    \"rr_p\", \n    \"N_s\", \n    \"N_t\", \n    \"N_p\", \n    \"saf_p_11\", \n    \"com_p_11\", \n    \"eng_p_11\", \n    \"aca_p_11\", \n    \"saf_t_11\", \n    \"com_t_11\", \n    \"eng_t_11\", \n    \"aca_t_11\", \n    \"saf_s_11\", \n    \"com_s_11\", \n    \"eng_s_11\", \n    \"aca_s_11\", \n    \"saf_tot_11\", \n    \"com_tot_11\", \n    \"eng_tot_11\", \n    \"aca_tot_11\",\n]\nsurvey = survey.loc[:,survey_fields]\ndata[\"survey\"] = survey",
      "execution_count": null,
      "outputs": []
    },
    {
      "metadata": {
        "_uuid": "8827ab585a6f311ec5b2a2ccffe9e3c673f247c9"
      },
      "cell_type": "markdown",
      "source": " <a id='section5'></a>\n# Cleaning\n <a id='section6'></a>\n## Add DBN columns"
    },
    {
      "metadata": {
        "trusted": true,
        "_uuid": "66e72492bd55e8e124ac1fe2e6821e7a7cf14730"
      },
      "cell_type": "code",
      "source": "data[\"hs_directory\"][\"DBN\"] = data[\"hs_directory\"][\"dbn\"]\n\ndef pad_csd(num):\n    string_representation = str(num)\n    if len(string_representation) > 1:\n        return string_representation\n    else:\n        return \"0\" + string_representation\n    \ndata[\"class_size\"][\"padded_csd\"] = data[\"class_size\"][\"CSD\"].apply(pad_csd)\ndata[\"class_size\"][\"DBN\"] = data[\"class_size\"][\"padded_csd\"] + data[\"class_size\"][\"SCHOOL CODE\"]",
      "execution_count": null,
      "outputs": []
    },
    {
      "metadata": {
        "_uuid": "d4c7fcc8fba875ad3397a03c60d20e827a7c9cf2"
      },
      "cell_type": "markdown",
      "source": " <a id='section7'></a>\n## Convert columns to numeric"
    },
    {
      "metadata": {
        "trusted": true,
        "_uuid": "7f2015fc10d02aec99c079b3f954adb96d483b2e"
      },
      "cell_type": "code",
      "source": "cols = ['SAT Math Avg. Score', 'SAT Critical Reading Avg. Score', 'SAT Writing Avg. Score']\nfor c in cols:\n    data[\"sat_results\"][c] = pd.to_numeric(data[\"sat_results\"][c], errors=\"coerce\")\n\ndata['sat_results']['sat_score'] = data['sat_results'][cols[0]] + data['sat_results'][cols[1]] + data['sat_results'][cols[2]]\n\ndef find_lat(loc):\n    coords = re.findall(\"\\(.+, .+\\)\", loc)\n    lat = coords[0].split(\",\")[0].replace(\"(\", \"\")\n    return lat\n\ndef find_lon(loc):\n    coords = re.findall(\"\\(.+, .+\\)\", loc)\n    lon = coords[0].split(\",\")[1].replace(\")\", \"\").strip()\n    return lon\n\ndata[\"hs_directory\"][\"lat\"] = data[\"hs_directory\"][\"Location 1\"].apply(find_lat)\ndata[\"hs_directory\"][\"lon\"] = data[\"hs_directory\"][\"Location 1\"].apply(find_lon)\n\ndata[\"hs_directory\"][\"lat\"] = pd.to_numeric(data[\"hs_directory\"][\"lat\"], errors=\"coerce\")\ndata[\"hs_directory\"][\"lon\"] = pd.to_numeric(data[\"hs_directory\"][\"lon\"], errors=\"coerce\")",
      "execution_count": null,
      "outputs": []
    },
    {
      "metadata": {
        "_uuid": "a5253ed5377472b829065f0e141278afe9cdf371"
      },
      "cell_type": "markdown",
      "source": " <a id='section8'></a>\n## Condense datasets"
    },
    {
      "metadata": {
        "trusted": true,
        "_uuid": "0397cdf422238c24b6cef5b743f23c4012c56d8a"
      },
      "cell_type": "code",
      "source": "class_size = data[\"class_size\"]\nclass_size = class_size[class_size[\"GRADE \"] == \"09-12\"]\nclass_size = class_size[class_size[\"PROGRAM TYPE\"] == \"GEN ED\"]\n\nclass_size = class_size.groupby(\"DBN\").agg(numpy.mean)\nclass_size.reset_index(inplace=True)\ndata[\"class_size\"] = class_size\n\ndata[\"demographics\"] = data[\"demographics\"][data[\"demographics\"][\"schoolyear\"] == 20112012]\n\ndata[\"graduation\"] = data[\"graduation\"][data[\"graduation\"][\"Cohort\"] == \"2006\"]\ndata[\"graduation\"] = data[\"graduation\"][data[\"graduation\"][\"Demographic\"] == \"Total Cohort\"]",
      "execution_count": null,
      "outputs": []
    },
    {
      "metadata": {
        "_uuid": "7e0147af9396ca03cda7e91d2b6675e270cebfbd"
      },
      "cell_type": "markdown",
      "source": " <a id='section9'></a>\n## Convert AP scores to numeric"
    },
    {
      "metadata": {
        "trusted": true,
        "_uuid": "581853ada330511d8d89109cc94bdd914b3307ca"
      },
      "cell_type": "code",
      "source": "cols = ['AP Test Takers ', 'Total Exams Taken', 'Number of Exams with scores 3 4 or 5']\n\nfor col in cols:\n    data[\"ap_2010\"][col] = pd.to_numeric(data[\"ap_2010\"][col], errors=\"coerce\")",
      "execution_count": null,
      "outputs": []
    },
    {
      "metadata": {
        "_uuid": "eaab8f65a5fb674007ae7aa3e918372cba393094"
      },
      "cell_type": "markdown",
      "source": " <a id='section10'></a>\n## Combine the datasets"
    },
    {
      "metadata": {
        "trusted": true,
        "_uuid": "68a2a133a56af025a990d071dc58ea5d52adac42"
      },
      "cell_type": "code",
      "source": "combined = data[\"sat_results\"]\n\ncombined = combined.merge(data[\"ap_2010\"], on=\"DBN\", how=\"left\")\ncombined = combined.merge(data[\"graduation\"], on=\"DBN\", how=\"left\")\n\nto_merge = [\"class_size\", \"demographics\", \"survey\", \"hs_directory\"]\n\nfor m in to_merge:\n    combined = combined.merge(data[m], on=\"DBN\", how=\"inner\")\n\ncombined = combined.fillna(combined.mean())\ncombined = combined.fillna(0)",
      "execution_count": null,
      "outputs": []
    },
    {
      "metadata": {
        "_uuid": "094e01d00e5f931a46b92dca2cb0f1fa44ba0196"
      },
      "cell_type": "markdown",
      "source": " <a id='section11'></a>\n## Add a school district column for mapping"
    },
    {
      "metadata": {
        "trusted": true,
        "_uuid": "7fceec7a7af6ecd3ae21b9d0f67cdb363d70d4a9"
      },
      "cell_type": "code",
      "source": "def get_first_two_chars(dbn):\n    return dbn[0:2]\n\ncombined[\"school_dist\"] = combined[\"DBN\"].apply(get_first_two_chars)\nschool_dist = combined[\"school_dist\"]",
      "execution_count": null,
      "outputs": []
    },
    {
      "metadata": {
        "_uuid": "98abfefa593b225a5f701ef9cc22a11fbd556929"
      },
      "cell_type": "markdown",
      "source": " <a id='section12'></a>\n# Analysis\n <a id='section13'></a>\n## Find correlations"
    },
    {
      "metadata": {
        "trusted": true,
        "_uuid": "cc853d51cb6300ad1b3ba08f112f1691d7ed09c8"
      },
      "cell_type": "code",
      "source": "correlations = combined.corr()\ncorrelations = correlations[\"sat_score\"]\nprint(correlations)",
      "execution_count": null,
      "outputs": []
    },
    {
      "metadata": {
        "_uuid": "da24c41ab471307f158af103b373274d58e310d5"
      },
      "cell_type": "markdown",
      "source": " <a id='section14'></a>\n## Plotting survey correlations"
    },
    {
      "metadata": {
        "scrolled": true,
        "trusted": true,
        "_uuid": "8d9bedee6c34df7bc44b6a40250ee5c6845f645e"
      },
      "cell_type": "code",
      "source": "# Remove DBN since it's a unique identifier, not a useful numerical value for correlation.\nsurvey_fields.remove(\"DBN\")",
      "execution_count": null,
      "outputs": []
    },
    {
      "metadata": {
        "trusted": true,
        "_uuid": "cadc4f571a1242f1623f7da5a8d2d825eeaaf4b0",
        "_kg_hide-input": true,
        "_kg_hide-output": true
      },
      "cell_type": "code",
      "source": "fig = plt.figure()\ncombined.corr().loc['sat_score', survey_fields].plot.bar()\nplt.ylabel('sat_score')",
      "execution_count": null,
      "outputs": []
    },
    {
      "metadata": {
        "collapsed": true,
        "_uuid": "ab303795aea8323abcab0256d9b970636f4286cf"
      },
      "cell_type": "markdown",
      "source": "We can observe that many of the fields are correlated with the SAT scores. In particular, the number of student, teacher and parent respondents, as well as the safety score from students and teachers present a strong correlation.\n\nLet's take a closer look at how the way students perceive safety at their schools affects SAT scores."
    },
    {
      "metadata": {
        "trusted": true,
        "_uuid": "67cdac3ab989c4f82153e5ad9d3e9b30c55b0847",
        "_kg_hide-input": true,
        "_kg_hide-output": true
      },
      "cell_type": "code",
      "source": "combined.plot.scatter(x='sat_score', y='saf_s_11') ",
      "execution_count": null,
      "outputs": []
    },
    {
      "metadata": {
        "_uuid": "c28c079389bd0ab0dae99bb26507340fe4006b7b"
      },
      "cell_type": "markdown",
      "source": "We can see the less safe students think their school is, the worse their SAT scores tend to be, and viceversa. \n\n <a id='section15'></a>\n## Geographic Data\nIn order to dig into this relationship a bit more, let's map out safety scores by geographic area in NYC, along with the SAT score."
    },
    {
      "metadata": {
        "trusted": true,
        "_uuid": "73ce629a980ccd4168a0013bbb103f5e69e036b3"
      },
      "cell_type": "code",
      "source": "import numpy as np\nfrom mpl_toolkits.basemap import Basemap\n\ngrouped = combined.groupby('school_dist')\nav_school_dist = grouped.agg(np.mean)\n\nm = Basemap(\n    projection='merc', \n    llcrnrlat=40.496044, \n    urcrnrlat=40.915256, \n    llcrnrlon=-74.255735, \n    urcrnrlon=-73.700272,\n    resolution='i'\n    )\n\nlongitudes = av_school_dist['lon'].tolist()\nlatitudes = av_school_dist['lat'].tolist()\n\nfig = plt.figure(figsize=(15,10))\n\nax1 = fig.add_subplot(1,2,1)\nax1.set_title('Safety Score (Students) by District')\nm.drawmapboundary(fill_color='#85A6D9')\nm.drawcoastlines(color='#6D5F47', linewidth=.4)\nm.drawrivers(color='#6D5F47', linewidth=.4)\nm.scatter(longitudes, latitudes, s=50, zorder=2, latlon=True, c=av_school_dist['saf_s_11'], cmap='summer')\n\nax2 = fig.add_subplot(1,2,2)\nax2.set_title('SAT Scores by District')\nm.drawmapboundary(fill_color='#85A6D9')\nm.drawcoastlines(color='#6D5F47', linewidth=.4)\nm.drawrivers(color='#6D5F47', linewidth=.4)\nm.scatter(longitudes, latitudes, s=50, zorder=2, latlon=True, c=av_school_dist['sat_score'], cmap='summer')\n\nplt.show()\n\n",
      "execution_count": null,
      "outputs": []
    },
    {
      "metadata": {
        "collapsed": true,
        "_uuid": "7f6d83ba4c8dee940196ddd55af1cd1494dacbbc"
      },
      "cell_type": "markdown",
      "source": "The map shows Brooklyn and The Bronx have for the most part a lower safety score based on student surveys, whereas Queens, Staten Island and Manhattan have a higher one. SAT scores can be observed to be higher in Queens and Staten Island, followed by Manhattan, while Brooklyn and The Bronx present a lower one. \n\nTherefore, we could say there is indeed a positive correlation between how safe students feel at their schools and the SAT scores they get."
    },
    {
      "metadata": {
        "_uuid": "458cbab70cb0449509274e82eb8689af2b1ff97d"
      },
      "cell_type": "markdown",
      "source": " <a id='section16'></a>\n## Race and gender\n\nNow, let's analyse how the percentage of each race at a given school affects SAT scores."
    },
    {
      "metadata": {
        "trusted": true,
        "_uuid": "73d2a7e06b285c538b1d77937830855b9d8e9157"
      },
      "cell_type": "code",
      "source": "races = ['white_per', 'asian_per', 'black_per', 'hispanic_per']\n\nfig = plt.figure()\ncombined.corr().loc['sat_score', races].plot.bar()\nplt.ylabel('sat_score')",
      "execution_count": null,
      "outputs": []
    },
    {
      "metadata": {
        "_uuid": "1dce5832b43127bde0e1abcafe3a0c0ace9b1af8"
      },
      "cell_type": "markdown",
      "source": "It's clearly shown that races white and asian present a strong positive correlation with the SAT scores, while correlation with races black and hispanic is shown to be negative. \n\nLet's dig deeper into the results on the hispanic race."
    },
    {
      "metadata": {
        "trusted": true,
        "_uuid": "5f7ac54d9438b113f741e84915ddf4648bcf5d38"
      },
      "cell_type": "code",
      "source": "combined.plot.scatter(x='hispanic_per', y='sat_score')",
      "execution_count": null,
      "outputs": []
    },
    {
      "metadata": {
        "_uuid": "6620b1c8958ebd5af29a212a8243b55477ec33c8"
      },
      "cell_type": "markdown",
      "source": "At first, we can see how the bigger the percentage of hispanic people in schools, the lower the SAT score tends to be, given how most of the scatter points are concentrated in the lower right corner of the plot. \n\nHowever, a significant number of schools with a low percentage of hispanic people also shows low grades, which tells us the fact that there are hispanics in those schools is not the only cause of low SAT scores. "
    },
    {
      "metadata": {
        "scrolled": true,
        "trusted": true,
        "_uuid": "e0720e803dd4451ba1f2565545ce7864f7eeeddb"
      },
      "cell_type": "code",
      "source": "high_hispanic = combined[combined['hispanic_per']>95]\nprint(high_hispanic['SCHOOL NAME'])",
      "execution_count": null,
      "outputs": []
    },
    {
      "metadata": {
        "trusted": true,
        "_uuid": "ef3b6ea6bac97f0bcc11b889f1a43e6b5c5b3656"
      },
      "cell_type": "code",
      "source": "low_hispanic = combined[combined['hispanic_per']<10]\nhigh_SAT_hisp = low_hispanic[low_hispanic['sat_score']>1800]\n\nprint(high_SAT_hisp['SCHOOL NAME'])",
      "execution_count": null,
      "outputs": []
    },
    {
      "metadata": {
        "trusted": true,
        "_uuid": "bb9a467ee3516a31254acc37ced78f7f81e87e8b"
      },
      "cell_type": "code",
      "source": "gender = ['male_per', 'female_per']\n\nfig = plt.figure()\ncombined.corr().loc['sat_score', gender].plot.bar()\nplt.ylabel('sat_score')",
      "execution_count": null,
      "outputs": []
    },
    {
      "metadata": {
        "_uuid": "1811077235e02d90470050e2ba34f3dd8d2a02de"
      },
      "cell_type": "markdown",
      "source": "We can see neither of the genders present a significant correlation, and the male has a negative correlation whereas the female is positive."
    },
    {
      "metadata": {
        "trusted": true,
        "_uuid": "41d73b22baea32249b8a08b997e98170483d1bfc"
      },
      "cell_type": "code",
      "source": "combined.plot.scatter(x='female_per', y='sat_score')",
      "execution_count": null,
      "outputs": []
    },
    {
      "metadata": {
        "trusted": true,
        "_uuid": "b9d458adc85fbe907b459ac00a3b4d7895daccb6"
      },
      "cell_type": "code",
      "source": "high_female = combined[combined['female_per']>60]\nhigh_SAT_female = high_female[high_female['sat_score']>1700]\n\nprint(high_SAT_female['SCHOOL NAME'])",
      "execution_count": null,
      "outputs": []
    },
    {
      "metadata": {
        "_uuid": "58101d8544dbfdba87839144667684de42bbb682"
      },
      "cell_type": "markdown",
      "source": "In addition, it could be an interesting next step to analyse how the percentage of AP Test takers might potentially affect SAT scores."
    },
    {
      "metadata": {
        "trusted": true,
        "_uuid": "5bf080168de4bef8c447a9dd6e8428bb5c59542e"
      },
      "cell_type": "code",
      "source": "combined['ap_per'] = combined['AP Test Takers '] / combined['total_enrollment']\ncombined.plot.scatter(x='ap_per', y='sat_score')\nprint(\"Pearson coefficient (r):\", combined.corr().loc['sat_score', 'ap_per'])",
      "execution_count": null,
      "outputs": []
    },
    {
      "metadata": {
        "_uuid": "ea6fa365151b098d585f22e2e93deaaa18168d25"
      },
      "cell_type": "markdown",
      "source": "It can be observed and concluded based on the Pearson coefficient that the percentage of students in each school that took an AP exam is not correlated to the SAT scores."
    },
    {
      "metadata": {
        "_uuid": "806be81b07b9439bb7ba0ceb3261f27b424d3973"
      },
      "cell_type": "markdown",
      "source": "Let's find out if the class size is."
    },
    {
      "metadata": {
        "trusted": true,
        "_uuid": "a4b2f350f304b58776f0278fc0e230ab8528fda9"
      },
      "cell_type": "code",
      "source": "combined.plot.scatter(x='AVERAGE CLASS SIZE', y='sat_score')\nprint(\"Pearson coefficient (r):\", combined.corr().loc['AVERAGE CLASS SIZE', 'ap_per'])",
      "execution_count": null,
      "outputs": []
    },
    {
      "metadata": {
        "collapsed": true,
        "_uuid": "53c3bb3b21d011bb4de5aea8d1ebbcf5cc83abf9"
      },
      "cell_type": "markdown",
      "source": "As we could expect, the class size is negatively correlated to the SAT score.\n\nThis means the bigger the number of students in class, the lower the potential SAT score is, which makes sense in terms of  the difference in the level of personal attention teachers can achieve depending on the class size."
    },
    {
      "metadata": {
        "collapsed": true,
        "_uuid": "5510fa8d5350569e8ff7feb4ab38e038d1976ef1"
      },
      "cell_type": "markdown",
      "source": "<a id='section17'></a>\n# Schools vs. Neighborhoods\nIt would be interesting to figure out which neighborhoods have the best schools. In order to do that, let's first read a dataset containing property values in NYC, which can be found at https://www.kaggle.com/new-york-city/nyc-property-sales#nyc-rolling-sales.csv."
    },
    {
      "metadata": {
        "trusted": true,
        "_uuid": "51bd4f361e4677a49c2a63237110d0d9f9d0c77c"
      },
      "cell_type": "code",
      "source": "properties = pd.read_csv('../input/nyc-data/nyc_highschool_data/nyc_properties/nyc-rolling-sales.csv')\ndata['properties'.replace('.csv','')] = properties\n\nprint(properties.columns)\nproperties.head()",
      "execution_count": null,
      "outputs": []
    },
    {
      "metadata": {
        "_uuid": "4f45cf70c272d634e0a7ed5d42973b067722ed56"
      },
      "cell_type": "markdown",
      "source": "Let's now see some general stats."
    },
    {
      "metadata": {
        "trusted": true,
        "_uuid": "64827f30f1aef79f7eafe49bbb6c4954e015a9ed"
      },
      "cell_type": "code",
      "source": "properties.describe()",
      "execution_count": null,
      "outputs": []
    },
    {
      "metadata": {
        "_uuid": "88b50a8f78104bafb577b01b28ac16ec4e6c3b3a"
      },
      "cell_type": "markdown",
      "source": "Values in the 'BOROUGH' column go from 1 to 5, such that:\n\n1 - Manhattan\n2 - The Bronx\n3 - Brooklyn\n4 - Queens\n5 - Staten Island\n\nLet's replace numbers with each borough name."
    },
    {
      "metadata": {
        "trusted": true,
        "_uuid": "43a3ede61b177eac777de6fc721fe4414d8db4db"
      },
      "cell_type": "code",
      "source": "boroughs = {\n            '1': 'Manhattan',\n            '2': 'The Bronx',\n            '3': 'Brooklyn',\n            '4': 'Queens',\n            '5': 'Staten Island'\n            }\n\ndef number2borough(number):\n    return boroughs[str(number)]\n\nproperties['BOROUGH'] = properties['BOROUGH'].apply(number2borough)",
      "execution_count": null,
      "outputs": []
    },
    {
      "metadata": {
        "_uuid": "3c32e2647a14734940cf905ca553bfba7562f340"
      },
      "cell_type": "markdown",
      "source": "Neighborhoods are often categorized based on property valuation. For this particular case, let's break them down in such way.\n\nSince we are only interested in studying the property sale price/value, let's take a look at the 'SALE PRICE' column:"
    },
    {
      "metadata": {
        "trusted": true,
        "_uuid": "7f95a04e4502647d4e5aa5ea355518af7f5cd7fe"
      },
      "cell_type": "code",
      "source": "properties['SALE PRICE'].value_counts()",
      "execution_count": null,
      "outputs": []
    },
    {
      "metadata": {
        "_uuid": "95b76002feb739dbccad66f5f0f5f8bc5733c822"
      },
      "cell_type": "markdown",
      "source": "Seems like there is a significant number of properties whose value does not make much sense, in particular, those with a sale price of $0 or $10, as well as those without a value. \n\nLet's get rid of those."
    },
    {
      "metadata": {
        "scrolled": true,
        "trusted": true,
        "_uuid": "0eccd80d70093ebeb0017110a18655792cf7d637"
      },
      "cell_type": "code",
      "source": "properties['SALE PRICE'] = pd.to_numeric(properties['SALE PRICE'], errors='coerce')\nproperties.drop(properties.index[properties[properties['SALE PRICE']<=10].index], inplace=True)\n\nproperties['SALE PRICE'].value_counts()",
      "execution_count": null,
      "outputs": []
    },
    {
      "metadata": {
        "trusted": true,
        "_uuid": "cd1a8d8101c6fa4e48affbc19cdc80a2b58be3bb"
      },
      "cell_type": "code",
      "source": "properties = properties.groupby('BOROUGH').agg(numpy.mean)\nproperties.reset_index(inplace=True)\n\nproperties.plot.bar(x='BOROUGH', y='SALE PRICE', rot=30, legend=False)\nplt.ylabel('SALE PRICE ($)')\n",
      "execution_count": null,
      "outputs": []
    },
    {
      "metadata": {
        "_uuid": "e0c80fb5bcedb8e764565e79711da196dd86f62c"
      },
      "cell_type": "markdown",
      "source": "It is clear that Manhattan has the highest average property value, at a price close to \\$3.5M, followed by Brooklyn, valued at close to \\$1.5M, and The Bronx, Queens and Staten Island, priced between \\$500k - \\$1M.\n\nEarlier in this project, I showed how beside some exceptions, SAT scores tended to be lower in Brooklyn and The Bronx, while higher in the rest of boroughs. Even though Manhattan also present good scores, the best ones were gotten at Queens and Staten Island. \n\nThat means, in conclusion, that for the most part the least expensive neighborhoods have the best schools."
    },
    {
      "metadata": {
        "_uuid": "a0e35cca5cc77c313e42177398985d163efd2877"
      },
      "cell_type": "markdown",
      "source": "<a id='section18'></a>\n# High School Ranking by SAT Score\nTo conclude, let's rank schools by their SAT scores to check the observations and conclusions are consistent."
    },
    {
      "metadata": {
        "trusted": true,
        "_uuid": "264b540799e8ec00c39f50101a6476823d6d3f94"
      },
      "cell_type": "code",
      "source": "sorted_SAT = combined.sort_values('sat_score', ascending=False)\nsorted_SAT['SCHOOL NAME'].reset_index()",
      "execution_count": null,
      "outputs": []
    },
    {
      "metadata": {
        "trusted": true,
        "_uuid": "5ef3384988206cd58d11f9c10b1aba94d929b531"
      },
      "cell_type": "code",
      "source": "",
      "execution_count": null,
      "outputs": []
    }
  ],
  "metadata": {
    "kernelspec": {
      "display_name": "Python 3",
      "language": "python",
      "name": "python3"
    },
    "language_info": {
      "name": "python",
      "version": "3.6.6",
      "mimetype": "text/x-python",
      "codemirror_mode": {
        "name": "ipython",
        "version": 3
      },
      "pygments_lexer": "ipython3",
      "nbconvert_exporter": "python",
      "file_extension": ".py"
    }
  },
  "nbformat": 4,
  "nbformat_minor": 1
}