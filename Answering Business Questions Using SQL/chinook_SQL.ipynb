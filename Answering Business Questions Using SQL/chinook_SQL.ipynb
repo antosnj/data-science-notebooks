{
  "cells": [
    {
      "metadata": {
        "_uuid": "25589fffdbbccf957313beb415399f17b462fba9"
      },
      "cell_type": "markdown",
      "source": "# Table of contents\n*  [Introduction](#section1) \n*  [Helper functions](#section2)\n*  [Database Schema](#section3)\n*  [Analysis](#section4)\n    *  [Top selling genres](#section5) \n    *  [Total Sales per Agent](#section6) \n    *  [Sales by Country](#section7) \n*  [Purchasing Strategy: Album vs. Individual Tracks](#section8)\n*  [Protected vs Non-protected Media Types](#section9)\n\nby @antosnj"
    },
    {
      "metadata": {
        "_uuid": "068d35f4dcc4f58446a9ab80b62e4f85ca6f91bd"
      },
      "cell_type": "markdown",
      "source": "---\n<a id='section1'></a>\n# Introduction\nThis project aims to analyze and answer key business questions about a fictional music record store called Chinook."
    },
    {
      "metadata": {
        "trusted": true,
        "_uuid": "644a2292ceb2b4d7ce191f7c5ea43cdece60a3c7"
      },
      "cell_type": "code",
      "source": "import sqlite3\nimport pandas as pd\nimport numpy as np\nimport matplotlib.pyplot as plt\nfrom matplotlib import cm\nfrom IPython.display import Image\nimport warnings\n\n%matplotlib inline\n\nwarnings.filterwarnings('ignore')\nfont = {'family' : 'DejaVu Sans',\n        'weight' : 'regular',\n        'size'   : 19}\n\nplt.rc('font', **font)\n",
      "execution_count": null,
      "outputs": []
    },
    {
      "metadata": {
        "_uuid": "92297f70307cb7364859aec6f8c19f30ee937ded"
      },
      "cell_type": "markdown",
      "source": "<a id='section2'></a>\n# Helper functions"
    },
    {
      "metadata": {
        "trusted": true,
        "_uuid": "c6d09ae36208cfa5298750932abe9d016b53e18b"
      },
      "cell_type": "code",
      "source": "#run_query(q): Takes a SQL query as an argument and returns a pandas dataframe by using the connection as a SQLite built-in context manager. \ndef run_query(q):\n    with sqlite3.connect('../input/chinook.db') as conn:\n        return pd.read_sql_query(q, conn)\n    \n#run_command(c): Takes a SQL command as an argument and executes it using the sqlite module.\ndef run_command(c):\n    with sqlite3.connect('../input/chinook.db') as conn:\n        conn.isolation_level = None\n        conn.execute(c)\n    \n#show_tables(): calls the run_query() function to return a list of all tables and views in the database.\ndef show_tables():\n    q = '''SELECT\n            name,\n            type\n        FROM sqlite_master\n        WHERE type IN (\"table\",\"view\");\n        '''\n    return run_query(q)    \n    ",
      "execution_count": null,
      "outputs": []
    },
    {
      "metadata": {
        "trusted": true,
        "_uuid": "7fdde7c60b643b5afc0416a0b59bc141aceaa68f"
      },
      "cell_type": "code",
      "source": "#Initial state of the database\nshow_tables()",
      "execution_count": null,
      "outputs": []
    },
    {
      "metadata": {
        "_uuid": "912d9049e3595c309923b29712b89704f6bdf670"
      },
      "cell_type": "markdown",
      "source": "<a id='section3'></a>\n# Database Schema\nThe schema diagram for the Chinook database looks like the following:"
    },
    {
      "metadata": {
        "trusted": true,
        "_uuid": "aa73c2c25c07387beaad5bb976125753f32daace"
      },
      "cell_type": "code",
      "source": "Image(filename='../input/schema_diagram.png')",
      "execution_count": null,
      "outputs": []
    },
    {
      "metadata": {
        "_uuid": "23102ea3b94fdf9e707d45eb38e8591a1628cb1d"
      },
      "cell_type": "markdown",
      "source": "<a id='section4'></a>\n# Analysis\n<a id='section5'></a>\n## Top Selling Genres\n\nThe first question to answer comes from the hypothetical situation where a record label asks the music store to promote its artits, and so it needs to find out __which genres sell the most tracks in the USA__, in order for them to select one artist or another."
    },
    {
      "metadata": {
        "trusted": true,
        "_uuid": "bc7ae2db7a600c0e5180c64d946722f4bbbea9ad"
      },
      "cell_type": "code",
      "source": "q1 = '''\n    WITH \n        genre_track_sold AS\n            (\n            SELECT \n                g.name genre,\n                il.quantity,\n                il.invoice_id\n            FROM genre g \n            INNER JOIN track t ON g.genre_id = t.genre_id\n            INNER JOIN invoice_line il ON t.track_id = il.track_id\n            ),\n        \n        sold_USA AS\n            (\n            SELECT\n                gts.genre,\n                gts.quantity,\n                c.country\n            FROM genre_track_sold gts\n            INNER JOIN invoice i ON i.invoice_id = gts.invoice_id\n            INNER JOIN customer c ON c.customer_id = i.customer_id\n            WHERE country = 'USA'\n            )\n    \n    SELECT \n        genre,\n        SUM(quantity) tracks_sold,\n        CAST(SUM(quantity) as float) / (SELECT COUNT(*) FROM sold_USA) percentage\n    FROM sold_USA\n    GROUP BY 1\n    ORDER BY 2 DESC \n    LIMIT 10;\n    '''\n\ngenre_sales_usa = run_query(q1)\nrun_query(q1)",
      "execution_count": null,
      "outputs": []
    },
    {
      "metadata": {
        "trusted": true,
        "_uuid": "57b0b6763e2aaa330023328d1146294226de0e04"
      },
      "cell_type": "code",
      "source": "genre_sales_usa = genre_sales_usa.set_index('genre', drop=True)\nax = genre_sales_usa.plot.barh(xlim=(0, 625), \n                               colormap=plt.cm.Accent, \n                               legend=False,\n                               width=1.1,\n                               figsize=(20,10)\n                              )\n\nfor i, label in enumerate(list(genre_sales_usa.index)):\n    score = genre_sales_usa.loc[label, \"tracks_sold\"]\n    label = (genre_sales_usa.loc[label, \"percentage\"] * 100).astype(int).astype(str) + \"%\"\n    plt.annotate(str(label), (score + 8, i - 0.36))\n    \nax.set_title('Top 10 Genres in the USA', fontsize=35, y=1.05)\nax.set_xlabel('Tracks Sold', fontsize=24)\nax.tick_params(axis = 'both', labelsize = 20)\nplt.ylabel('')\n                \nplt.tight_layout()\nplt.show();",
      "execution_count": null,
      "outputs": []
    },
    {
      "metadata": {
        "_uuid": "aa1dd191e2cb6667ccf7ba3ac00e9603a6a352dc"
      },
      "cell_type": "markdown",
      "source": "The record label particularly have rising artists in the genres of Hip-Hop, Punk, Pop and Blues. \n\nBased on the results, seeing how each genre has been selling makes it clear that the company/music store should select artists from the label that produce Punk music first, since they have sold better than the other genres. Following Punk, Blues artists have the second best chance to sell well, with Pop and Hip-Hop being the last options, in that order.\n\nBesides the artists currently signed to that label, the company should stay tuned and pay attention to upcoming artists in the Rock genre, since compared to the 18% the previous four genres add up to, it represents a 53% of the store total sales."
    },
    {
      "metadata": {
        "_uuid": "9e34121ab51ffb837614ede3fd1606b9a7b8fc5c"
      },
      "cell_type": "markdown",
      "source": "<a id='section6'></a>\n## Total Sales per Agent\n\nNext, analyzing the purchases of customers belonging to each employee will show if any sales support agent is performing either better or worse than the others."
    },
    {
      "metadata": {
        "trusted": true,
        "_uuid": "f77474f2242a819eb2b262c086f530e90f5e221a"
      },
      "cell_type": "code",
      "source": "q2 = '''\n    WITH sales_per_customer AS\n        (\n        SELECT \n            i.customer_id,\n            c.support_rep_id,\n            SUM(total) dollars_spent\n        FROM invoice i \n        INNER JOIN customer c ON c.customer_id = i.customer_id\n        GROUP BY 1\n        )\n        \n        \n    SELECT \n        e.first_name || \" \" || e.last_name agent_name,    \n        SUM(spc.dollars_spent) sales_amount,\n        e.hire_date\n    FROM employee e\n    INNER JOIN sales_per_customer spc ON spc.support_rep_id = e.employee_id\n    GROUP BY 1\n    ORDER BY 2 DESC;  \n    \n'''\n\nsales_per_agent = run_query(q2)\nsales_per_agent",
      "execution_count": null,
      "outputs": []
    },
    {
      "metadata": {
        "trusted": true,
        "_uuid": "c9cd84da01a72071c6966199560b790c6c356ffe"
      },
      "cell_type": "code",
      "source": "fig, axes = plt.subplots(nrows=2, ncols=1, figsize=(25, 30))\n\nax1, ax2 = axes.flatten()\nfig.subplots_adjust(hspace=0.8, wspace=3)\n\n#Top axis\nagent_names = sales_per_agent['agent_name'].tolist()\namounts = sales_per_agent['sales_amount'].tolist()\npercentage_sales = np.array(amounts)/sum(amounts)\ncolors = ['#ff9999','#66b3ff','#99ff99']\n\npatches, texts, autotexts = ax1.pie(percentage_sales, \n                                    colors=colors, \n                                    labels=agent_names, \n                                    autopct='%1.1f%%', \n                                    startangle=90)\n\ncentre_circle = plt.Circle((0,0), 0.85, fc='white')\naxes[0].add_patch(centre_circle)\n\nfor i in range(0,3):\n    texts[i].set_fontsize(45)\n    autotexts[i].set_fontsize(38)\n    \n\nax1.set_title('Sales Breakdown by Agent', fontsize=55, y=0.96)\nax1.axis('equal')\n\n\n#Bottom axis\nsales_per_agent.plot.bar(x='agent_name', \n                         y='sales_amount', \n                         ax=ax2, \n                         colormap=plt.cm.ocean,\n                         width=0.5,\n                         legend=False,\n                         rot=40)\n\n\nfor i in ax2.spines.keys():\n        ax2.spines[i].set_visible(False)\n        \nfor p in ax2.patches:\n    ax2.annotate(str(round(p.get_height())) + \"$\", \n                 (p.get_x() * 1.01, \n                  p.get_height() * 0.93),\n                  fontsize=50, color='white', weight='bold'\n                )  \n\nax2.tick_params(axis = 'x', labelsize = 35, top=\"off\", left=\"off\", right=\"off\", bottom='off')\nax2.set_xlabel('')\ny_axis = ax2.axes.get_yaxis()\ny_axis.set_visible(False)\nax2.set_title('Total Sales by Agent', fontsize=55, y=1.05)\n\nplt.subplots_adjust(hspace=1.3)\nplt.tight_layout()\nplt.show()",
      "execution_count": null,
      "outputs": []
    },
    {
      "metadata": {
        "collapsed": true,
        "_uuid": "6e7adb91fef79d74f1286328cdb99aaf9355c375"
      },
      "cell_type": "markdown",
      "source": "Jane Peacock has made the highest amount of sales so far, with a 36.8% of the total, followed by Margaret Park and Steve Johnson, with a 33.6% and 29.6% respectively.\n\nEven though there is just a slight difference in the percentage of the total sales amount between all three agents, in terms of total amount in dollars, the best agent, Jane Peacock, has sold about 20% more than the last agent, Steve Johnson.\n\nTaking a look at the previous table, we can conclude that the difference in sales correlates with the time each employee has been working in the company, i.e. their hiring dates."
    },
    {
      "metadata": {
        "_uuid": "571090fe4632e727f41e632da672ea53e2043dc6"
      },
      "cell_type": "markdown",
      "source": "<a id='section7'></a>\n## Sales by Country\nAnalyzing sales by country will tell the company which ones may have potential for growth and therefore be good choices to run new advertising campaigns in. "
    },
    {
      "metadata": {
        "scrolled": true,
        "trusted": true,
        "_uuid": "002973ec901ab3d631563ec0e916ad3a925f8896"
      },
      "cell_type": "code",
      "source": "q3 = '''\n    WITH \n        sales_by_country AS\n        (\n            SELECT \n                c.customer_id,\n                CASE\n                   WHEN (\n                         SELECT count(*)\n                         FROM customer\n                         where country = c.country\n                        ) = 1 THEN \"Other\"\n                   ELSE c.country\n                   END AS country,\n                il.invoice_id,\n                il.unit_price\n            FROM invoice_line il\n            INNER JOIN invoice i ON i.invoice_id = il.invoice_id\n            INNER JOIN customer c ON c.customer_id = i.customer_id\n            \n        )\n        \n        \n    SELECT\n        country,\n        number_of_customers,\n        total_sales,\n        avg_sale_value,\n        avg_order_value\n    FROM\n        ( \n        SELECT\n            country,\n            COUNT(DISTINCT customer_id) number_of_customers,\n            SUM(unit_price) total_sales,\n            SUM(unit_price) / COUNT(DISTINCT customer_id) avg_sale_value,\n            SUM(unit_price) / COUNT(DISTINCT invoice_id) avg_order_value,\n            CASE \n                WHEN country = 'Other' THEN 1\n                ELSE 0\n                END AS sort\n        FROM sales_by_country\n        GROUP BY country\n        )\n    ORDER BY sort ASC, total_sales DESC;\n\n'''\n\nsales_by_country = run_query(q3)\nrun_query(q3)",
      "execution_count": null,
      "outputs": []
    },
    {
      "metadata": {
        "scrolled": true,
        "trusted": true,
        "_uuid": "9099850daa5d7c80aeb6a127bdfaefc15e25e5e2"
      },
      "cell_type": "code",
      "source": "fig, axes = plt.subplots(nrows=2, ncols=2, figsize=(22,17))\nax1, ax2, ax3, ax4 = axes.flatten()\n\n#Top left axis\ncountries = sales_by_country['country'].tolist()\namounts = sales_by_country['total_sales'].tolist()\npercentage_sales = np.array(amounts)/sum(amounts)\ncolors = cm.Set3(np.arange(10)/10.)\nexplode = [0]*10\nexplode[0] = 0.1\n\npatches, texts, autotexts = ax1.pie(percentage_sales, \n                                    colors=colors, \n                                    labels=countries, \n                                    autopct='%1.1f%%',\n                                    explode=explode,\n                                    startangle=-90,\n                                    shadow=True)\n\nfor i in range(0,10):\n    texts[i].set_fontsize(18)\n    autotexts[i].set_fontsize(0)\n    \nax1.set_title('Sales Breakdown by Country', fontsize=32, y=1.1)\nax1.axis('equal') \n\n\n\n#Top right axis\nmean_value_orders = sales_by_country['avg_order_value'].mean()\nsales_by_country_copy = sales_by_country[['country', 'avg_order_value']]\ndifferences = sales_by_country_copy['avg_order_value'] - mean_value_orders \nsales_by_country_copy['percentage_difference'] = differences/mean_value_orders\n    \n    \nsales_by_country_copy.plot.bar(x='country', \n                               y='percentage_difference', \n                               ax=ax2, \n                               colormap=plt.cm.Reds,\n                               width=0.5,\n                               legend=False,\n                               rot=40)\n\nax2.set_xlabel('')\nax2.set_ylabel('Pct Difference')\nax2.set_title('Average Order Value\\nPct Difference From Mean', fontsize=30, y=1.04)\nax2.tick_params(top=\"off\", right=\"off\", left=\"off\", bottom=\"off\")\nax2.spines[\"top\"].set_visible(False)\nax2.spines[\"right\"].set_visible(False)\nax2.spines[\"bottom\"].set_visible(False)\n\n\n\n#Bottom left axis\nax_overlap = ax3.twinx()\n\nsales_by_country.plot.bar(x='country', \n                         y='total_sales', \n                         ax=ax3, \n                         colormap=plt.cm.Accent,\n                         width=0.5,\n                         legend=False,\n                         alpha=0.2,\n                         rot=40)\n\nax_overlap.plot(sales_by_country['number_of_customers'], lw=2,marker='o')\n\nax3.set_title('Sales vs. Number of \\nCustomers by Country', fontsize=32, y=1.05)\nax3.set_ylabel('Total Sales ($)')\nax_overlap.set_ylabel('Number of Customers')\nax3.set_xlabel('')\nax3.spines[\"top\"].set_visible(False)\nax_overlap.spines[\"top\"].set_visible(False)\nax3.tick_params(top=\"off\", left=\"off\", right=\"off\", bottom='off')\nax_overlap.tick_params(top=\"off\", left=\"off\", right=\"off\", bottom='off')\n\nfor i in range(0,7):\n    ax3.get_yticklabels()[i].set_color(\"green\")\nfor i in range(0,8):\n    ax_overlap.get_yticklabels()[i].set_color(\"blue\")\n\n\n    \n    \n#Bottom right axis\nsales_by_country.plot.bar(x='country', \n                         y='avg_sale_value', \n                         ax=ax4, \n                         width=0.5,\n                         colormap=plt.cm.jet,\n                         legend=False,\n                         alpha=1,\n                         rot=40)\n\nfor i in ax4.patches:\n    ax4.text(i.get_x()+.15, i.get_height()-8, \\\n            str(round((i.get_height()))) + ' $', fontsize=20, color='white', rotation=90, weight='bold')\n\nax4.set_title('Sales per Customer \\nAverage by Country', fontsize=32, y=1.05)\nax4.set_xlabel('')\nax4.tick_params(top=\"off\", left=\"off\", right=\"off\", bottom='off')\nax4.spines[\"top\"].set_visible(False)\nax4.spines[\"left\"].set_visible(False)\nax4.spines[\"right\"].set_visible(False)\nax4.spines[\"bottom\"].set_visible(False)\ny_axis = ax4.axes.get_yaxis()\ny_axis.set_visible(False)\n\nplt.subplots_adjust(hspace=1, wspace=.85)\nplt.tight_layout()\nplt.show()\n\n\n",
      "execution_count": null,
      "outputs": []
    },
    {
      "metadata": {
        "_uuid": "75839eaa1fc1af22c23974e51ba66c38c81a6c68"
      },
      "cell_type": "markdown",
      "source": "Looking at the results from the data, based on the total amount of sales, USA and Canada are the biggest markets for the company, followed by countries like Brazil or France. \n\nHowever, based on the number of customers, what unique customers have spent so far, and the average order values, __Czech Republic, the UK, India and Portugal__ show a big potential for growth, since they have less customers that, on average, spend a higher total and per order amount of money.\n\nIt should be pointed out that based on the sample size, in order for these data references to be more accurate and give the advertising team more confidence, I would advise the company to start out by running smaller marketing campaigns in those countries, collecting data from new customers and scaling up once the results are proved to be consistent with the current trends. "
    },
    {
      "metadata": {
        "_uuid": "f9e210ad162b52ee42e8c2085085d3b242347e58"
      },
      "cell_type": "markdown",
      "source": "<a id='section8'></a>\n# Purchasing Strategy: Album vs. Individual Tracks\nThe Chinook store is setup in a way that allows customer to make purchases in one of the two ways:\n\n- Purchase a whole album.\n- Purchase a collection of one or more individual tracks.\n\nIn a fictional scenario, the company is considering changing their purchasing strategy to save money, so that users can purchase only the most popular tracks from each album from record companies, instead of purchasing every track from an album. \n\nFinding what percentage of purchases are individual tracks vs whole albums will allow management to use that data to understand the effect this decision might have on overall revenue."
    },
    {
      "metadata": {
        "trusted": true,
        "_uuid": "b5870b80740f085e63f850ac1656d87b2a0fa6fa"
      },
      "cell_type": "code",
      "source": "q4 = '''\n    WITH    \n        album_invoice AS\n                (\n                SELECT \n                    il.invoice_id,\n                    il.track_id,\n                    t.album_id\n                FROM invoice_line il\n                INNER JOIN track t ON t.track_id = il.track_id\n                ),\n        \n        \n        invoice_info AS\n                (\n                SELECT \n                    invoice_id,\n                    COUNT(DISTINCT album_id) num_albums,\n                    COUNT(track_id) num_tracks,\n                    CASE\n                        COUNT(DISTINCT album_id)\n                        WHEN 1 THEN album_id\n                        ELSE NULL\n                        END AS album_id\n                FROM album_invoice\n                GROUP BY invoice_id\n                ),\n            \n            \n        track_album AS\n                (\n                SELECT \n                    COUNT(track_id) num_tracks,\n                    album_id\n                FROM track t\n                WHERE album_id IN (\n                                  SELECT album_id FROM invoice_info\n                                  WHERE num_albums = 1    \n                                 )\n                GROUP BY album_id\n                ORDER BY album_id ASC\n                )\n          \n       \n       \n    SELECT \n        album_purchase,\n        COUNT(invoice_id) num_invoices,\n        CAST(COUNT(invoice_id) as float)/(SELECT COUNT(*) FROM invoice) percent \n    FROM\n      (\n        SELECT\n            invoice_id,\n            CASE\n                WHEN (ii.album_id == ta.album_id AND ii.num_tracks == ta.num_tracks) THEN 'Yes'\n                ELSE 'No'\n                END AS album_purchase\n        FROM invoice_info ii\n        LEFT JOIN track_album ta ON ii.album_id = ta.album_id\n      ) \n    GROUP BY album_purchase;\n\n'''\n\nalbum_purchases = run_query(q4)\nrun_query(q4)",
      "execution_count": null,
      "outputs": []
    },
    {
      "metadata": {
        "trusted": true,
        "_uuid": "80969b33ae7d4d97dc2a0f418a6b66f602a41317"
      },
      "cell_type": "code",
      "source": "fig = plt.figure(figsize=(9,6))\n\ncases = ['Album', 'Individual Tracks']\namounts = album_purchases['num_invoices'].tolist()\npercentage_purchases = np.array(album_purchases['percent'].tolist())\nexplode = [0]*2\nexplode[0] = 0.1\n\ncolors = ['#d46231', '#872424']\npatches, texts, autotexts = plt.pie(percentage_purchases, \n                                    colors=colors, \n                                    labels=cases, \n                                    explode=explode,\n                                    autopct='%1.1f%%', \n                                    startangle=200\n                                   )\n\nfor i in range(0,2):\n    texts[i].set_fontsize(18)\n    autotexts[i].set_fontsize(15)\n    autotexts[i].set_color('white')\n    autotexts[i].set_weight('bold')\n    \n\nplt.title('Purchases\\nAlbum vs. Individual Tracks', fontsize=20, y=1.08)\nplt.axis('equal')\nplt.tight_layout()\nplt.show()",
      "execution_count": null,
      "outputs": []
    },
    {
      "metadata": {
        "_uuid": "0c863c4eba0e0455b0edbd948350b4dec669f75c"
      },
      "cell_type": "markdown",
      "source": "I would suggest keeping the current strategy, since allowing users to buy only the most popular tracks from albums from record companies could potentially reduce the number of individual track purchases, which right now represents one fifth of the total revenue. "
    },
    {
      "metadata": {
        "_uuid": "913933e1ccb061ee34ae67c51441aebcb4b1da65"
      },
      "cell_type": "markdown",
      "source": "<a id='section9'></a>\n# Protected vs Non-protected Media Types \nStudying the effect protected vs non-protected media types have on popularity based on revenue can help the company make better decisions regarding the media types offered to users in the store."
    },
    {
      "metadata": {
        "trusted": true,
        "_uuid": "1d734da8451e4563f1d6ce6b30e3d189cfab3528"
      },
      "cell_type": "code",
      "source": "q5 = '''\n    WITH media_type_sold AS\n        (\n            SELECT\n                il.track_id,\n                sm.song,\n                sm.media_type,\n                SUM(il.quantity) units_sold\n\n            FROM invoice_line il\n            LEFT JOIN \n                    (\n                        SELECT\n                            t.track_id,\n                            t.name song,\n                            mt.name media_type\n                        FROM media_type mt\n                        INNER JOIN track t ON t.media_type_id = mt.media_type_id\n                    ) sm ON il.track_id = sm.track_id\n\n            GROUP BY il.track_id\n        )\n    \n    \n    SELECT \n        media_type,\n        SUM(units_sold) tracks_sold\n    FROM media_type_sold\n    GROUP BY media_type\n    ORDER BY tracks_sold DESC;\n    \n    \n'''\n\nmedia_type_units = run_query(q5)\nrun_query(q5)",
      "execution_count": null,
      "outputs": []
    },
    {
      "metadata": {
        "trusted": true,
        "_uuid": "a968c4e2a8f11f22616bf508146e79717afd137f"
      },
      "cell_type": "code",
      "source": "ax4 = media_type_units.plot.bar(x='media_type', \n                         y='tracks_sold',  \n                         width=0.5,\n                         colormap=plt.cm.magma,\n                         legend=False,\n                         alpha=1,\n                         figsize=(15,12),\n                         rot=40)\n\nfor i in ax4.patches:\n    ax4.text(i.get_x()+.15, i.get_height()+105, \\\n            str(round((i.get_height()))), fontsize=22, color='black')\n    \n    \nax4.set_title('Media Types - Units Sold', fontsize=26, y=1.05)\nax4.set_xlabel('')\nax4.tick_params(top=\"off\", left=\"off\", right=\"off\", bottom='off')\nax4.spines[\"top\"].set_visible(False)\nax4.spines[\"left\"].set_visible(False)\nax4.spines[\"right\"].set_visible(False)\nax4.spines[\"bottom\"].set_visible(False)\ny_axis = ax4.axes.get_yaxis()\ny_axis.set_visible(False)\n\nplt.subplots_adjust(hspace=1, wspace=.85)\nplt.tight_layout()\nplt.show()\n",
      "execution_count": null,
      "outputs": []
    },
    {
      "metadata": {
        "collapsed": true,
        "_uuid": "a443b4d2ac626df2d544abbb184a1c6de2c662c6"
      },
      "cell_type": "markdown",
      "source": "The most purchased media type is MPEG audio file, a non-protected media type, selling close to 1000% more than the second most purchased (protected AAC audio file). \n\nWhile both protected and non-protected are present and contribute to the store revenue, MPEG audio files are leading sales by a huge difference, which means a non-protected media type is by far the most popular."
    },
    {
      "metadata": {
        "trusted": true,
        "_uuid": "5ea3592ba9c88977b88b980dd6118252f2169d1f"
      },
      "cell_type": "code",
      "source": "",
      "execution_count": null,
      "outputs": []
    }
  ],
  "metadata": {
    "kernelspec": {
      "display_name": "Python 3",
      "language": "python",
      "name": "python3"
    },
    "language_info": {
      "name": "python",
      "version": "3.6.6",
      "mimetype": "text/x-python",
      "codemirror_mode": {
        "name": "ipython",
        "version": 3
      },
      "pygments_lexer": "ipython3",
      "nbconvert_exporter": "python",
      "file_extension": ".py"
    }
  },
  "nbformat": 4,
  "nbformat_minor": 1
}