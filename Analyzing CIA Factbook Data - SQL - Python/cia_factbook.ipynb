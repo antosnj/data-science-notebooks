{
  "cells": [
    {
      "metadata": {
        "_uuid": "6ec762fbdfb9e2cabd1c67e78bfff165f978f5f0"
      },
      "cell_type": "markdown",
      "source": "# Introduction \n\nThis project aims to analyze CIA Factbook Data, a compendium of statistics about all of the countries on Earth."
    },
    {
      "metadata": {
        "scrolled": true,
        "trusted": true,
        "_uuid": "f3b13b4a5b386a517743a6c7ee4419f19ddd6ebe"
      },
      "cell_type": "code",
      "source": "import pandas as pd\nimport sqlite3\n\nconn = sqlite3.connect('../input/factbook.db')\n\nq1 = \"SELECT * FROM sqlite_master WHERE type='table';\" \npd.read_sql_query(q1, conn)",
      "execution_count": null,
      "outputs": []
    },
    {
      "metadata": {
        "trusted": true,
        "_uuid": "4458e3b23bebd42f916c94db380899ec8504666c"
      },
      "cell_type": "code",
      "source": "q2 = \"SELECT * FROM facts LIMIT 5;\"\npd.read_sql_query(q2, conn)",
      "execution_count": null,
      "outputs": []
    },
    {
      "metadata": {
        "_uuid": "4e8d9108b584ba927fdc0f3cdeb34ca44c1e8c82"
      },
      "cell_type": "markdown",
      "source": "# Basic Statistics"
    },
    {
      "metadata": {
        "trusted": true,
        "_uuid": "bb2de404bfd750ba78b75e6271bc061c2370d4c9"
      },
      "cell_type": "code",
      "source": "q3 = '''\nSELECT MIN(Population) min_population, MAX(Population) max_population,\nMIN(population_growth) min_pop_growth, MAX(population_growth) max_pop_growth\nFROM facts\n'''\npd.read_sql_query(q3, conn)",
      "execution_count": null,
      "outputs": []
    },
    {
      "metadata": {
        "_uuid": "deb8264a8a94c544fad0e68ba3f6eb73e77603e6"
      },
      "cell_type": "markdown",
      "source": "# Outliers\n\nSeems like there is a country with a population of 0 people and another with more than 7.2 billion people.\n\nLet's find out which ones those are."
    },
    {
      "metadata": {
        "trusted": true,
        "_uuid": "cc8bc8177f317b9caebba83513379f5e39fda616"
      },
      "cell_type": "code",
      "source": "q4 = '''\nSELECT name, population FROM facts\nWHERE population = 0 OR population > 7000000000\n'''\npd.read_sql_query(q4, conn)",
      "execution_count": null,
      "outputs": []
    },
    {
      "metadata": {
        "_uuid": "cdc5837753eae40049e145504564f706b5515997"
      },
      "cell_type": "markdown",
      "source": "According to the CIA Factbook page for Antarctica, there are no indigenous inhabitants even though there are both permanent and summer-only staffed research stations, which explains the population of 0. Also, the table contains a row for the entire world, whose population is over 7.2 billion people."
    },
    {
      "metadata": {
        "_uuid": "6ef24ee3466b9d1747b2a148cffb9c97af89ffc4"
      },
      "cell_type": "markdown",
      "source": "# Analysis"
    },
    {
      "metadata": {
        "_uuid": "2ab19d44bebadc82454574ea562c24c5f4bfde9f"
      },
      "cell_type": "markdown",
      "source": "Let's start the analysis by studying the birth/death rate, along with the population and population growth rate."
    },
    {
      "metadata": {
        "trusted": true,
        "_uuid": "e0127a4c212f875e13c06824fbfa4fece190ab30"
      },
      "cell_type": "code",
      "source": "import matplotlib.pyplot as plt\nimport seaborn as sns\n\n%matplotlib inline\n\nq5 = '''\nSELECT population, population_growth, birth_rate, death_rate FROM facts\nWHERE population < (SELECT MAX(Population) FROM facts) AND population > 0;\n'''\ndf1 = pd.read_sql_query(q5, conn)\n\nfig = plt.figure(figsize=(10,8));\nax1 = fig.add_subplot(1,1,1);\ndf1.hist(ax=ax1);\nax1.grid(False)",
      "execution_count": null,
      "outputs": []
    },
    {
      "metadata": {
        "collapsed": true,
        "_uuid": "781935bc12c3c892edd02054a4a8031fe4e49e6a"
      },
      "cell_type": "markdown",
      "source": "The birth rate appears to be up to 25 per 1000 people in the majority of the countries in the world, whereas the death rate doesn't exceed 15 per 1000 people. \n\nLooking at the peaks, we can also see that mostly 10-15 per 1000 people are born and around 7 per 1000 people die, which generally speaking is a positive survival ratio. \n\nSomething interesting is that almost any country in the world, except for a few of them, has a population of up to around 100 million people, with up to 4% growth rate.\n\nLet's find out the top 10 countries that exceed this number."
    },
    {
      "metadata": {
        "scrolled": true,
        "trusted": true,
        "_uuid": "3c34feee0dd810cdb50c33ae676f10314ad6d8ac"
      },
      "cell_type": "code",
      "source": "q6 = '''\nSELECT name heavily_populated, population FROM facts\nWHERE population > 100000000 AND name != (SELECT name FROM facts WHERE name IN ('European Union'))\nORDER BY population DESC\nLIMIT 11;\n'''\n\nheavily_populated = pd.read_sql_query(q6, conn)\nheavily_populated = heavily_populated[heavily_populated['heavily_populated']!='World']\n\nax = heavily_populated.plot(x='heavily_populated', y='population', kind='bar', rot=40, legend=False)\nax.set_title('Heavily Populated Countries')\nax.set_xlabel(\"Country\")\nax.set_ylabel(\"Population\")\nax.grid(False);",
      "execution_count": null,
      "outputs": []
    },
    {
      "metadata": {
        "_uuid": "fcbc869307252968a5915f4ee2a1dcf116844b6e"
      },
      "cell_type": "markdown",
      "source": "Clearly lead by China and India, with over 1.2 billion inhabitants, the most populated countries in the world feature USA, Indonesia or Brazil.\n\nNext, let's take a look at the population density per square meter and plot an histogram to visualize it."
    },
    {
      "metadata": {
        "trusted": true,
        "_uuid": "80f69054ad4e893a58925bcdb905ff8278451b68"
      },
      "cell_type": "code",
      "source": "q7 = '''\nSELECT name, CAST(population as float)/CAST(area_land as float) population_density FROM facts\nWHERE population < (SELECT MAX(Population) FROM facts) AND population > 0;\n'''\n\npopulation_density = pd.read_sql_query(q7, conn)\nfig = plt.figure(figsize=(10,8));\nax3 = fig.add_subplot(1,1,1);\npopulation_density.hist(ax=ax3);\nax3.grid(False)",
      "execution_count": null,
      "outputs": []
    },
    {
      "metadata": {
        "_uuid": "83f8432aeb5ea58f6b6bc4a2db644a2c1a4b3ace"
      },
      "cell_type": "markdown",
      "source": "Most countries have a population density of up to about 2500 people per square meter, except for a little few that have from 5000 to 20000 people/square meter.\n\nLet's find out which countries have the highest population density, and whether or not they are the same as the most populated."
    },
    {
      "metadata": {
        "scrolled": true,
        "trusted": true,
        "_uuid": "62b94a4a6db64ece5efee2d30808550a249da531"
      },
      "cell_type": "code",
      "source": "population_density.sort_values('population_density', ascending=False, inplace=True)\nprint(population_density.head(20))",
      "execution_count": null,
      "outputs": []
    },
    {
      "metadata": {
        "_uuid": "75b13c58e3f29f98d2da59ad7f58a4dfd864a5e2"
      },
      "cell_type": "markdown",
      "source": "We can see how almost any of the top 10 most populated countries are inside the most densely populated ones, which in many cases happen to be small countries like Monaco, Malta or Gibraltar.\n\nHowever, it would be insteresting to see which country, among the most heavily populated ones, has the highest population density. Let's find that out."
    },
    {
      "metadata": {
        "trusted": true,
        "_uuid": "5fbf4e061c740c6c3290d4412308b8b4f4378781"
      },
      "cell_type": "code",
      "source": "populated_countries = heavily_populated['heavily_populated'].tolist()\npopulated_countries_density = population_density[population_density['name'].isin(populated_countries)]\npopulated_countries_density = populated_countries_density.sort_values('population_density', ascending=False)\n\nq8 = \"SELECT * FROM facts;\"\ncountries = pd.read_sql_query(q8, conn)\nlarge_countries = countries[countries['name'].isin(populated_countries)].sort_values('area_land', ascending=False)\n\nax1 = populated_countries_density.plot(x='name', y='population_density', kind='bar', rot=40, legend=False)\nax1.set_title('Population Density of\\n Highly Populated Countries')\nax1.set_xlabel(\"Country\")\nax1.set_ylabel(\"Population Density/Square Meter\")\nax1.grid(False);\n\nax2 = large_countries.plot(x='name', y='area_land', kind='bar', rot=40, legend=False)\nax2.set_title('Area of Highly Populated Countries')\nax2.set_xlabel(\"Country\")\nax2.set_ylabel(\"Area (Square Meters)\")\nax2.grid(False);",
      "execution_count": null,
      "outputs": []
    },
    {
      "metadata": {
        "_uuid": "913ecab1a885cfe47cb01a579d46b54136db6a02"
      },
      "cell_type": "markdown",
      "source": "Even though we saw how China and India were the two most populated countries in the world, only India keeps its place as the second most densely populated one, since China is much bigger by area. \n\nWhile Russia has a smaller population, it is the largest country in the world, which explains why inside this top 10 it is the least densely populated one of all. On the other hand, Bangladesh, which initially showed much less population than India or China but has a much smaller area, which makes it the leader in the denity population graph.\n\n"
    },
    {
      "metadata": {
        "_uuid": "54178e4fef9a44a4938c4ffa44591e1add4b7536"
      },
      "cell_type": "markdown",
      "source": "Next, let's explore which countries have the highest ratios of water to land."
    },
    {
      "metadata": {
        "scrolled": true,
        "trusted": true,
        "_uuid": "6dee299ea0f57b93ea22fb3b916f518f894712c8"
      },
      "cell_type": "code",
      "source": "q9 = '''\nSELECT name, CAST(area_water as float)/CAST(area as float) water_ratio FROM facts\nWHERE population < (SELECT MAX(Population) FROM facts) AND population > 0;\n'''\n\nwater_ratio = pd.read_sql_query(q9, conn).sort_values('water_ratio', ascending=False).head(20)\nwater_ratio",
      "execution_count": null,
      "outputs": []
    },
    {
      "metadata": {
        "_uuid": "2d9beb3bac9454ffdda87dd20a7da53683054621"
      },
      "cell_type": "markdown",
      "source": "As we could expect, countries fully or partially surrounded by water lead this ranking. However, the difference between the country with the largest water area in the world, Virgin Islands, and the rest is pretty big, with an 80% over a 35% percent in the second country, Puerto Rico. \n\nIn fact, if we take a look at which countries have more water than land, we come across a surprising result:"
    },
    {
      "metadata": {
        "scrolled": true,
        "trusted": true,
        "_uuid": "24147628b37045f95b0f16042bfa8a7d16e8a9dd"
      },
      "cell_type": "code",
      "source": "q11 = '''\nSELECT name water_countries FROM facts\nWHERE area_water > area_land AND (population < (SELECT MAX(Population) FROM facts) AND population > 0);\n'''\n\nwater_countries = pd.read_sql_query(q11, conn).head(20)\nwater_countries",
      "execution_count": null,
      "outputs": []
    },
    {
      "metadata": {
        "_uuid": "d383ec4fdd0bc8c6c162705dd6b2c9b47a90c37a"
      },
      "cell_type": "markdown",
      "source": "Based on this data set, the only country in the world that has more water than land is Virgin Islands."
    },
    {
      "metadata": {
        "trusted": true,
        "_uuid": "786222d6d70e660487b1c27fd31b59cbbcefb329"
      },
      "cell_type": "code",
      "source": "",
      "execution_count": null,
      "outputs": []
    }
  ],
  "metadata": {
    "kernelspec": {
      "display_name": "Python 3",
      "language": "python",
      "name": "python3"
    },
    "language_info": {
      "name": "python",
      "version": "3.6.6",
      "mimetype": "text/x-python",
      "codemirror_mode": {
        "name": "ipython",
        "version": 3
      },
      "pygments_lexer": "ipython3",
      "nbconvert_exporter": "python",
      "file_extension": ".py"
    }
  },
  "nbformat": 4,
  "nbformat_minor": 1
}