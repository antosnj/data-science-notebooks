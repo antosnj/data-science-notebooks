{
  "cells": [
    {
      "metadata": {
        "_uuid": "23b773a4da8cc84c43e9b560e4080aee59ed13c2"
      },
      "cell_type": "markdown",
      "source": "# Introduction\nThis project aims to clean, explore and analyze the dataset resulting from a FiveThirtyEight survey about Star Wars, where they collected responses from fans before Star Wars: The Force Awakens came out. \n\nAvailable at https://github.com/fivethirtyeight/data/tree/master/star-wars-survey."
    },
    {
      "metadata": {
        "_uuid": "f040cdb0ec95c426e47b73aca0c474b3bf95af3f"
      },
      "cell_type": "markdown",
      "source": "# Read in the data"
    },
    {
      "metadata": {
        "trusted": true,
        "_uuid": "dfb57260ed75e7c67811b9c7e35d44c57263a98d"
      },
      "cell_type": "code",
      "source": "import pandas as pd\n\nstar_wars = pd.read_csv(\"../input/star_wars.csv\", encoding=\"ISO-8859-1\")\nstar_wars.head(10)",
      "execution_count": null,
      "outputs": []
    },
    {
      "metadata": {
        "trusted": true,
        "_uuid": "3ac62621183f85c64daa2b798ccca09d6962899e"
      },
      "cell_type": "code",
      "source": "star_wars.columns",
      "execution_count": null,
      "outputs": []
    },
    {
      "metadata": {
        "_uuid": "d6eb4b83cc8b0ac40cbfe3cfd56169d7ebb464e3"
      },
      "cell_type": "markdown",
      "source": "# Cleaning\n\nTo start out cleaning the data, let's remove invalud rows, starting by dropping any row whose RespondentID column is NaN, since that value is supposed to be a unique ID for each respondent."
    },
    {
      "metadata": {
        "trusted": true,
        "_uuid": "4696ba7a7b7d3c914908086dd3c49c98ea909f06"
      },
      "cell_type": "code",
      "source": "star_wars = star_wars[pd.notnull(star_wars['RespondentID'])]",
      "execution_count": null,
      "outputs": []
    },
    {
      "metadata": {
        "_uuid": "3a227e7a6d886a0d91eca63b731c6342d0614075"
      },
      "cell_type": "markdown",
      "source": "Next, mapping Yes/No responses to True/False in the first two columns that contain fan answers to a question will make them easier to work with. \n\nThese columns are:\n\n- 'Have you seen any of the 6 films in the Star Wars franchise?'\n- 'Do you consider yourself to be a fan of the Star Wars film franchise?'"
    },
    {
      "metadata": {
        "trusted": true,
        "_uuid": "38024d3609e91fadcbc41f1d0e781ad0a9c41167"
      },
      "cell_type": "code",
      "source": "#Before cleaning\nprint(star_wars['Have you seen any of the 6 films in the Star Wars franchise?'].value_counts())\nprint(star_wars['Do you consider yourself to be a fan of the Star Wars film franchise?'].value_counts())",
      "execution_count": null,
      "outputs": []
    },
    {
      "metadata": {
        "trusted": true,
        "_uuid": "dfb21e22f96b452b392612307343482abdaeca70"
      },
      "cell_type": "code",
      "source": "yes_no={\n    'Yes': True,\n    'No': False\n}\n\nyes_no_cols = ['Have you seen any of the 6 films in the Star Wars franchise?', 'Do you consider yourself to be a fan of the Star Wars film franchise?']\n\nstar_wars['Have you seen any of the 6 films in the Star Wars franchise?'] = star_wars['Have you seen any of the 6 films in the Star Wars franchise?'].map(yes_no)\nstar_wars['Do you consider yourself to be a fan of the Star Wars film franchise?'] = star_wars['Do you consider yourself to be a fan of the Star Wars film franchise?'].map(yes_no)",
      "execution_count": null,
      "outputs": []
    },
    {
      "metadata": {
        "trusted": true,
        "_uuid": "3f56667c08a436ca37bef52e083d8ff9ff79f9cd"
      },
      "cell_type": "code",
      "source": "#After cleaning\nprint(star_wars['Have you seen any of the 6 films in the Star Wars franchise?'].value_counts())\nprint(star_wars['Do you consider yourself to be a fan of the Star Wars film franchise?'].value_counts())",
      "execution_count": null,
      "outputs": []
    },
    {
      "metadata": {
        "_uuid": "886124350a5e5e9f87300c023b67ea1e8eeefa67"
      },
      "cell_type": "markdown",
      "source": "---\nNext, columns that collected responses to whether or not fans watched each of the Star Wars movies look pretty confusing, as well as they're content. \n\nThese include:\n\n- 'Which of the following Star Wars films have you seen? Please select all that apply.' (Referring to Episode I).\n- 'Unnamed: 4' (Referring to Episode II).\n- 'Unnamed: 5' (Referring to Episode III).\n- 'Unnamed: 6' (Referring to Episode IV).\n- 'Unnamed: 7' (Referring to Episode V).\n- 'Unnamed: 8' (Referring to Episode VI).\n\nFirstly, changing each column name to 'seen_1', 'seen_2' and so on until 'seen_6' (last episode at the time of the survey) will start solving the problem. "
    },
    {
      "metadata": {
        "trusted": true,
        "_uuid": "e1b14679759555c5ecfbe4fa15f4477a59a9289e"
      },
      "cell_type": "code",
      "source": "cols_seen = {\n    'Which of the following Star Wars films have you seen? Please select all that apply.': 'seen_1',\n    'Unnamed: 4': 'seen_2',\n    'Unnamed: 5': 'seen_3',\n    'Unnamed: 6': 'seen_4',\n    'Unnamed: 7': 'seen_5',\n    'Unnamed: 8': 'seen_6'    \n}\n\nstar_wars = star_wars.rename(columns=cols_seen)",
      "execution_count": null,
      "outputs": []
    },
    {
      "metadata": {
        "trusted": true,
        "_uuid": "fac2013ec3e7b4a47b5cabe28102414a595e332a"
      },
      "cell_type": "code",
      "source": "star_wars.columns[3:9]",
      "execution_count": null,
      "outputs": []
    },
    {
      "metadata": {
        "_uuid": "770bacdc1e369e908eb8ac7c0ce3c755762a75a1"
      },
      "cell_type": "markdown",
      "source": "Now, since these columns tell us whether or not fans watched the episode, it makes sense and would be convenient to simplify them to True or False. Right now, their elements look like this:\n\n- Name of the episode: The fan watched the movie.\n- NaN: Missing value.\n\nFor this project, let's assume NaN to be the case where the fan did not see the movie. Based on that, mapping both values to True or False will work."
    },
    {
      "metadata": {
        "trusted": true,
        "_uuid": "c8213e21b45c86651c5dd519e6116fdaf3df1eb2"
      },
      "cell_type": "code",
      "source": "import numpy as np\n\nseen_notseen = {\n    \n    'seen_notseen_1': {\n        star_wars.iloc[0,3]: True,\n        np.NaN: False\n    },\n\n    'seen_notseen_2': {\n        star_wars.iloc[0,4]: True,\n        np.NaN: False\n    },\n\n    'seen_notseen_3': {\n        star_wars.iloc[0,5]: True,\n        np.NaN: False\n    },\n    \n    'seen_notseen_4': {\n        star_wars.iloc[0,6]: True,\n        np.NaN: False\n    },\n    \n    'seen_notseen_5': {\n        star_wars.iloc[0,7]: True,\n        np.NaN: False\n    },\n\n    'seen_notseen_6': {\n        star_wars.iloc[0,8]: True,\n        np.NaN: False\n    },\n}\n\n\nfor movie in range(1,7):\n    star_wars['seen_' + str(movie)] = star_wars['seen_' + str(movie)].map(seen_notseen['seen_notseen_' + str(movie)])\n\nstar_wars.head()",
      "execution_count": null,
      "outputs": []
    },
    {
      "metadata": {
        "_uuid": "f37fdd2c1fdb73ae695c33f2b4faf8acb28caff9"
      },
      "cell_type": "markdown",
      "source": "---\nObserving the dataset, notice the columns that contain fan responses as to how they rank each Star Wars episode, from best (1) to worst (6).\n\nThe same way as before, these columns include:\n\n- 'Please rank the Star Wars films in order of preference with 1 being your favorite film in the franchise and 6 being your least favorite film.' (Referring to Episode I).\n- 'Unnamed: 10' (Referring to Episode II).\n- 'Unnamed: 11' (Referring to Episode III).\n- 'Unnamed: 12' (Referring to Episode IV).\n- 'Unnamed: 13' (Referring to Episode V).\n- 'Unnamed: 14' (Referring to Episode VI).\n\nLet's convert their values to float and rename them with 'ranking_1', 'ranking_2', and so on until 'ranking_6'. "
    },
    {
      "metadata": {
        "trusted": true,
        "_uuid": "aea39378eb509bfb583b88d6150735ea87c351e8"
      },
      "cell_type": "code",
      "source": "star_wars[star_wars.columns[9:15]] = star_wars[star_wars.columns[9:15]].astype(float)",
      "execution_count": null,
      "outputs": []
    },
    {
      "metadata": {
        "trusted": true,
        "_uuid": "c49960cd0fdb5154a59c63f55e818eb7c4af1b89"
      },
      "cell_type": "code",
      "source": "cols_rank = {\n    'Please rank the Star Wars films in order of preference with 1 being your favorite film in the franchise and 6 being your least favorite film.': 'ranking_1',\n    'Unnamed: 10': 'ranking_2',\n    'Unnamed: 11': 'ranking_3',\n    'Unnamed: 12': 'ranking_4',\n    'Unnamed: 13': 'ranking_5',\n    'Unnamed: 14': 'ranking_6'    \n}\n\nstar_wars = star_wars.rename(columns=cols_rank)\n\nstar_wars.head()",
      "execution_count": null,
      "outputs": []
    },
    {
      "metadata": {
        "collapsed": true,
        "_uuid": "261c7c544b5c9c209aa3dde9266c243ab470e4c6"
      },
      "cell_type": "markdown",
      "source": "# Analysis\n\nLet's start out by finding the highest-ranked movie based on the mean of each of the ranking columns previously cleaned."
    },
    {
      "metadata": {
        "trusted": true,
        "_uuid": "59abd5b9eaedbbbfd1b0d2fceb17573fa70b3b4d"
      },
      "cell_type": "code",
      "source": "cols = ['ranking_1', 'ranking_2', 'ranking_3', 'ranking_4', 'ranking_5', 'ranking_6']\nagg_data = {}\n\nav_rank = {}\n\nfor col in cols:   \n    av_rank[col] = star_wars[col].mean()\n\nagg_data['rank_mean'] = av_rank\n    \nagg_data",
      "execution_count": null,
      "outputs": []
    },
    {
      "metadata": {
        "trusted": true,
        "_uuid": "3f4837a84a88cf6c9b488b5c39424167e58b9c46"
      },
      "cell_type": "code",
      "source": "import matplotlib.pyplot as plt\n\n%matplotlib inline\n\nrank = sorted(agg_data['rank_mean'].items())\n\nplt.bar(range(len(agg_data['rank_mean'])), [x[1] for x in rank], align='center')\nplt.xticks(range(len(agg_data['rank_mean'])), ['Ep I', 'Ep II', 'Ep III', 'Ep IV', 'Ep V', 'Ep VI'])\nplt.ylabel('Rank')\nplt.title('Average Ranking, by Episode')\nplt.show()\n",
      "execution_count": null,
      "outputs": []
    },
    {
      "metadata": {
        "collapsed": true,
        "_uuid": "86d10b6ce22ea201e76c09be857f5a5933b813b2"
      },
      "cell_type": "markdown",
      "source": "The plot shows that, on average, Episode V was thought as the best among all six. One of the reasons could be that it was the first Star Wars movie ever made, hence its impact on the public. It is followed by Ep. VI, Ep. IV, Ep. I, Ep. II and Ep. III, respectively. \n\nAn interesting fact is that even though technology for movie FX and visual effects has improved over the years, the first trilogy has a better ranking for fans.\n\nIn addition, for the newer, first trilogy (Ep. I-III) the graph shows how every episode has been getting worse as it came out, according to fans opinion.\n\nHowever, all these conclusions are the result of people who voted. In order to see how reliable the ranking is, we need to know how many people voted for each episode. Let's find that out."
    },
    {
      "metadata": {
        "trusted": true,
        "_uuid": "80e4e4474f4f9a0f0a471fbca5eaa68cb9dd5422"
      },
      "cell_type": "code",
      "source": "seen_cols = ['seen_1', 'seen_2', 'seen_3', 'seen_4', 'seen_5', 'seen_6']\nnum_seen = {}\n\nfor col in seen_cols:   \n    num_seen[col] = star_wars[col].sum()\n\nagg_data['total_seen'] = num_seen\n    \nagg_data",
      "execution_count": null,
      "outputs": []
    },
    {
      "metadata": {
        "trusted": true,
        "_uuid": "dad7a3230bae78aad6c4aa9099f229d45085ba36"
      },
      "cell_type": "code",
      "source": "seen = sorted(agg_data['total_seen'].items())\n\nplt.bar(range(len(agg_data['total_seen'])), [x[1] for x in seen], align='center')\nplt.xticks(range(len(agg_data['total_seen'])), ['Ep I', 'Ep II', 'Ep III', 'Ep IV', 'Ep V', 'Ep VI'])\nplt.title('Total Number of Viewers, by Episode')\nplt.ylabel('# of Viewers')\nplt.show()\n",
      "execution_count": null,
      "outputs": []
    },
    {
      "metadata": {
        "_uuid": "da44c864bec1003f2ad3c02319813684f827dc01"
      },
      "cell_type": "markdown",
      "source": "We could say the conclusions got from the previous graph that showed ranking were pretty accurate. \n\nThe best episode (Ep. V) has the highest number of viewers (who ranked it in the survey), along with the two other episodes inside the older, second trilogy. \n\nIt should also be pointed out that even though the first trilogy got a worse response as each episode came out, the number of viewers also dicreased over time. This makes that conclusion a little more questionable.\n"
    },
    {
      "metadata": {
        "_uuid": "9a9b824b14026668946696e98de86311dbd43cb4"
      },
      "cell_type": "markdown",
      "source": "---\nThe previous analysis concerned the survey population as a whole. However, it would be interesting to split the analysis by certain  segments, such as:\n\n- People who consider themselves Star Wars fans and people who don't.\n- People who consider themselves Star Trek fans and people who don't.\n- Gender, female or male.\n\nLet's repeat the same analysis for these new segments."
    },
    {
      "metadata": {
        "_uuid": "08d81f575b98d7c9ac82df18608b7d637a69043d"
      },
      "cell_type": "markdown",
      "source": "# Star Wars Fans"
    },
    {
      "metadata": {
        "trusted": true,
        "_uuid": "5b9d4f1febbf6974adc6cb37325dc359ba0f76eb"
      },
      "cell_type": "code",
      "source": "#Star Wars fans\nsw_fans = star_wars[star_wars[\"Do you consider yourself to be a fan of the Star Wars film franchise?\"] == True]\nnot_sw_fans = star_wars[star_wars[\"Do you consider yourself to be a fan of the Star Wars film franchise?\"] == False]\n\n#Repeat analysis, now for both segments.\nagg_data_fans = {}\nagg_data_not_fans = {}\n\n#Average Ranking\ncols = ['ranking_1', 'ranking_2', 'ranking_3', 'ranking_4', 'ranking_5', 'ranking_6']\nav_rank_fans = {}\nav_rank_not_fans = {}\n\nfor col in cols:   \n    av_rank[col] = sw_fans[col].mean()\n    av_rank_not_fans[col] = not_sw_fans[col].mean()\n    \nagg_data_fans['rank_mean'] = av_rank\nagg_data_not_fans['rank_mean'] = av_rank_not_fans\n\nrank_fans = sorted(agg_data_fans['rank_mean'].items())\nrank_not_fans = sorted(agg_data_not_fans['rank_mean'].items())\n\n\n#Total Number of Viewers\nseen_cols = ['seen_1', 'seen_2', 'seen_3', 'seen_4', 'seen_5', 'seen_6']\nnum_seen_fans = {}\nnum_seen_not_fans = {}\n\nfor col in seen_cols:   \n    num_seen_fans[col] = sw_fans[col].sum()\n    num_seen_not_fans[col] = not_sw_fans[col].sum()\n\nagg_data_fans['total_seen'] = num_seen_fans\nagg_data_not_fans['total_seen'] = num_seen_not_fans\n\nseen_fans = sorted(agg_data_fans['total_seen'].items())\nseen_not_fans = sorted(agg_data_not_fans['total_seen'].items())\n\n\n#Plots\nfig = plt.figure(figsize=(15,10))\nax1 = fig.add_subplot(2,2,1)\nax2 = fig.add_subplot(2,2,2)\nax3 = fig.add_subplot(2,2,3)\nax4 = fig.add_subplot(2,2,4)\n\nax1.bar(range(len(agg_data_fans['rank_mean'])), [x[1] for x in rank_fans], align='center')\nax1.set_xticklabels(['', 'Ep I', 'Ep II', 'Ep III', 'Ep IV', 'Ep V', 'Ep VI'], rotation = 45)\nax1.set_ylabel('Rank')\nax1.set_title('Average Ranking, by Episode\\nSTAR WARS FANS')\nax1.spines['right'].set_visible(False)\nax1.spines['top'].set_visible(False)\nax1.spines['bottom'].set_visible(False)\nax1.yaxis.set_ticks_position('left')\n\nax2.bar(range(len(agg_data_not_fans['rank_mean'])), [x[1] for x in rank_not_fans], align='center')\nax2.set_xticklabels(['', 'Ep I', 'Ep II', 'Ep III', 'Ep IV', 'Ep V', 'Ep VI'], rotation = 45)\nax2.set_ylabel('Rank')\nax2.set_title('Average Ranking, by Episode\\nREST')\nax2.spines['right'].set_visible(False)\nax2.spines['top'].set_visible(False)\nax2.spines['bottom'].set_visible(False)\nax2.yaxis.set_ticks_position('left')\n\nax3.bar(range(len(agg_data_fans['total_seen'])), [x[1] for x in seen_fans], align='center')\nax3.set_xticklabels(['', 'Ep I', 'Ep II', 'Ep III', 'Ep IV', 'Ep V', 'Ep VI'], rotation = 45)\nax3.set_ylabel('# of Viewers')\nax3.set_title('Total Number of Viewers, by Episode\\nSTAR WARS FANS')\nax3.spines['right'].set_visible(False)\nax3.spines['top'].set_visible(False)\nax3.spines['bottom'].set_visible(False)\nax3.yaxis.set_ticks_position('left')\n\nax4.bar(range(len(agg_data_fans['total_seen'])), [x[1] for x in seen_not_fans], align='center')\nax4.set_xticklabels(['', 'Ep I', 'Ep II', 'Ep III', 'Ep IV', 'Ep V', 'Ep VI'], rotation = 45)\nax4.set_ylabel('# of Viewers')\nax4.set_title('Total Number of Viewers, by Episode\\nREST')\nax4.spines['right'].set_visible(False)\nax4.spines['top'].set_visible(False)\nax4.spines['bottom'].set_visible(False)\nax4.yaxis.set_ticks_position('left')\n\nplt.tight_layout()\nplt.show()",
      "execution_count": null,
      "outputs": []
    },
    {
      "metadata": {
        "_uuid": "4a8e6af615fe69b4af8e9e5589615119266846dc"
      },
      "cell_type": "markdown",
      "source": "# Star Trek Fans"
    },
    {
      "metadata": {
        "trusted": true,
        "_uuid": "a57bbc9921181e9077fd3560752fcbbfc44ce1d4"
      },
      "cell_type": "code",
      "source": "#Star Trek fans\nst_fans = star_wars[star_wars[\"Do you consider yourself to be a fan of the Star Trek franchise?\"] == 'Yes']\nnot_st_fans = star_wars[star_wars[\"Do you consider yourself to be a fan of the Star Trek franchise?\"] == 'No']\n\n#Repeat analysis, now for both segments.\nagg_data_fans = {}\nagg_data_not_fans = {}\n\n#Average Ranking\ncols = ['ranking_1', 'ranking_2', 'ranking_3', 'ranking_4', 'ranking_5', 'ranking_6']\nav_rank_fans = {}\nav_rank_not_fans = {}\n\nfor col in cols:   \n    av_rank[col] = st_fans[col].mean()\n    av_rank_not_fans[col] = not_st_fans[col].mean()\n    \nagg_data_fans['rank_mean'] = av_rank\nagg_data_not_fans['rank_mean'] = av_rank_not_fans\n\nrank_fans = sorted(agg_data_fans['rank_mean'].items())\nrank_not_fans = sorted(agg_data_not_fans['rank_mean'].items())\n\n\n#Total Number of Viewers\nseen_cols = ['seen_1', 'seen_2', 'seen_3', 'seen_4', 'seen_5', 'seen_6']\nnum_seen_fans = {}\nnum_seen_not_fans = {}\n\nfor col in seen_cols:   \n    num_seen_fans[col] = st_fans[col].sum()\n    num_seen_not_fans[col] = not_st_fans[col].sum()\n\nagg_data_fans['total_seen'] = num_seen_fans\nagg_data_not_fans['total_seen'] = num_seen_not_fans\n\nseen_fans = sorted(agg_data_fans['total_seen'].items())\nseen_not_fans = sorted(agg_data_not_fans['total_seen'].items())\n\n\n#Plots\nfig = plt.figure(figsize=(15,10))\nax1 = fig.add_subplot(2,2,1)\nax2 = fig.add_subplot(2,2,2)\nax3 = fig.add_subplot(2,2,3)\nax4 = fig.add_subplot(2,2,4)\n\nax1.bar(range(len(agg_data_fans['rank_mean'])), [x[1] for x in rank_fans], align='center')\nax1.set_xticklabels(['', 'Ep I', 'Ep II', 'Ep III', 'Ep IV', 'Ep V', 'Ep VI'], rotation = 45)\nax1.set_ylabel('Rank')\nax1.set_title('Average Ranking, by Episode\\nSTAR TREK FANS')\nax1.spines['right'].set_visible(False)\nax1.spines['top'].set_visible(False)\nax1.spines['bottom'].set_visible(False)\nax1.yaxis.set_ticks_position('left')\n\nax2.bar(range(len(agg_data_not_fans['rank_mean'])), [x[1] for x in rank_not_fans], align='center')\nax2.set_xticklabels(['', 'Ep I', 'Ep II', 'Ep III', 'Ep IV', 'Ep V', 'Ep VI'], rotation = 45)\nax2.set_ylabel('Rank')\nax2.set_title('Average Ranking, by Episode\\nREST')\nax2.spines['right'].set_visible(False)\nax2.spines['top'].set_visible(False)\nax2.spines['bottom'].set_visible(False)\nax2.yaxis.set_ticks_position('left')\n\nax3.bar(range(len(agg_data_fans['total_seen'])), [x[1] for x in seen_fans], align='center')\nax3.set_xticklabels(['', 'Ep I', 'Ep II', 'Ep III', 'Ep IV', 'Ep V', 'Ep VI'], rotation = 45)\nax3.set_ylabel('# of Viewers')\nax3.set_title('Total Number of Viewers, by Episode\\nSTAR TREK FANS')\nax3.spines['right'].set_visible(False)\nax3.spines['top'].set_visible(False)\nax3.spines['bottom'].set_visible(False)\nax3.yaxis.set_ticks_position('left')\n\nax4.bar(range(len(agg_data_fans['total_seen'])), [x[1] for x in seen_not_fans], align='center')\nax4.set_xticklabels(['', 'Ep I', 'Ep II', 'Ep III', 'Ep IV', 'Ep V', 'Ep VI'], rotation = 45)\nax4.set_ylabel('# of Viewers')\nax4.set_title('Total Number of Viewers, by Episode\\nREST')\nax4.spines['right'].set_visible(False)\nax4.spines['top'].set_visible(False)\nax4.spines['bottom'].set_visible(False)\nax4.yaxis.set_ticks_position('left')\n\nplt.tight_layout()\nplt.show()",
      "execution_count": null,
      "outputs": []
    },
    {
      "metadata": {
        "_uuid": "218f638fdf7aa0aa531da976cbc2c39e3b097d7a"
      },
      "cell_type": "markdown",
      "source": "Looks like both Star Wars and Star Trek fans/not fans results follow a very similar pattern. A priori, this tells their respective fans/not fans think similarly about Star Wars movies.\n\nEven though the proportion is pretty much equal for both segments in all graphs, the number of Star Wars fans that viewed the movies is higher than the number of Star Trek fans, as well as there were less people who did **not** consider themselves **Star Wars** fans that watched the episodes than those who did **not** consider themselves **Star Trek** fans. This was something to expect.\n\nAn interesting fact is that in all cases Episode V was ranked the best and was also the most viewed, confirming conclusions got from the whole survey population results. Also, while both Star Wars and Star Trek fans watched the episodes way more than those who are not fans, they liked the first trilogy less than not-fans, which doesn't happen with the second. \n\nThis shows the first trilogy is subjectively worse from the eyes of people who could be assumed to know Star Wars better, since they consider themselves fans."
    },
    {
      "metadata": {
        "_uuid": "7af03542b8ef29ba94700ec7f60e86b194bbe393"
      },
      "cell_type": "markdown",
      "source": "# Gender"
    },
    {
      "metadata": {
        "trusted": true,
        "_uuid": "69afe300a668b059e8d1859ce8dc812261be1e72"
      },
      "cell_type": "code",
      "source": "#Gender\nmales = star_wars[star_wars[\"Gender\"] == \"Male\"]\nfemales = star_wars[star_wars[\"Gender\"] == \"Female\"]\n\n#Repeat analysis, now for both segments.\nagg_data_male = {}\nagg_data_not_female = {}\n\n#Average Ranking\ncols = ['ranking_1', 'ranking_2', 'ranking_3', 'ranking_4', 'ranking_5', 'ranking_6']\nav_rank_male = {}\nav_rank_female = {}\n\nfor col in cols:   \n    av_rank_male[col] = males[col].mean()\n    av_rank_female[col] = females[col].mean()\n    \nagg_data_male['rank_mean'] = av_rank_male\nagg_data_not_female['rank_mean'] = av_rank_female\n\nrank_male = sorted(agg_data_male['rank_mean'].items())\nrank_female = sorted(agg_data_not_female['rank_mean'].items())\n\n\n#Total Number of Viewers\nseen_cols = ['seen_1', 'seen_2', 'seen_3', 'seen_4', 'seen_5', 'seen_6']\nnum_seen_male = {}\nnum_seen_not_female = {}\n\nfor col in seen_cols:   \n    num_seen_male[col] = males[col].sum()\n    num_seen_not_female[col] = females[col].sum()\n\nagg_data_male['total_seen'] = num_seen_male\nagg_data_not_female['total_seen'] = num_seen_not_female\n\nseen_male = sorted(agg_data_male['total_seen'].items())\nseen_female = sorted(agg_data_not_female['total_seen'].items())\n\n\n#Plots\nfig = plt.figure(figsize=(15,10))\nax1 = fig.add_subplot(2,2,1)\nax2 = fig.add_subplot(2,2,2)\nax3 = fig.add_subplot(2,2,3)\nax4 = fig.add_subplot(2,2,4)\n\nax1.bar(range(len(agg_data_fans['rank_mean'])), [x[1] for x in rank_male], align='center')\nax1.set_xticklabels(['', 'Ep I', 'Ep II', 'Ep III', 'Ep IV', 'Ep V', 'Ep VI'], rotation = 45)\nax1.set_ylabel('Rank')\nax1.set_title('Average Ranking, by Episode\\nMALE')\nax1.spines['right'].set_visible(False)\nax1.spines['top'].set_visible(False)\nax1.spines['bottom'].set_visible(False)\nax1.yaxis.set_ticks_position('left')\n\nax2.bar(range(len(agg_data_not_fans['rank_mean'])), [x[1] for x in rank_female], align='center')\nax2.set_xticklabels(['', 'Ep I', 'Ep II', 'Ep III', 'Ep IV', 'Ep V', 'Ep VI'], rotation = 45)\nax2.set_ylabel('Rank')\nax2.set_title('Average Ranking, by Episode\\nFEMALE')\nax2.spines['right'].set_visible(False)\nax2.spines['top'].set_visible(False)\nax2.spines['bottom'].set_visible(False)\nax2.yaxis.set_ticks_position('left')\n\nax3.bar(range(len(agg_data_fans['total_seen'])), [x[1] for x in seen_male], align='center')\nax3.set_xticklabels(['', 'Ep I', 'Ep II', 'Ep III', 'Ep IV', 'Ep V', 'Ep VI'], rotation = 45)\nax3.set_ylabel('# of Viewers')\nax3.set_title('Total Number of Viewers, by Episode\\nMALE')\nax3.spines['right'].set_visible(False)\nax3.spines['top'].set_visible(False)\nax3.spines['bottom'].set_visible(False)\nax3.yaxis.set_ticks_position('left')\n\nax4.bar(range(len(agg_data_fans['total_seen'])), [x[1] for x in seen_female], align='center')\nax4.set_xticklabels(['', 'Ep I', 'Ep II', 'Ep III', 'Ep IV', 'Ep V', 'Ep VI'], rotation = 45)\nax4.set_ylabel('# of Viewers')\nax4.set_title('Total Number of Viewers, by Episode\\nFEMALE')\nax4.spines['right'].set_visible(False)\nax4.spines['top'].set_visible(False)\nax4.spines['bottom'].set_visible(False)\nax4.yaxis.set_ticks_position('left')\n\nplt.tight_layout()\nplt.show()",
      "execution_count": null,
      "outputs": []
    },
    {
      "metadata": {
        "_uuid": "0d79c600561db04319607226e66ff4be78215736"
      },
      "cell_type": "markdown",
      "source": "The gender graphs look very similar to the previous bar plots showing Star Wars/Star Trek fans contrast, again showing Episode V as the best and most viewed of all six.\n\nIt should also be pointed out that while more males watched the first trilogy they liked them less than females did.\n\nThis suggests that, for both Star Wars and Star Trek, a big part of those who consider themselves fans might be males, whereas those who don't might be to females, since the corresponding graphs look similar.\n\nLet's find out the exact proportion. "
    },
    {
      "metadata": {
        "trusted": true,
        "_uuid": "2add5dd5302e6894825e7605793d7c198c748729"
      },
      "cell_type": "code",
      "source": "#Star Wars\ncount_female_sw = females['Do you consider yourself to be a fan of the Star Wars film franchise?'].value_counts()\ncount_male_sw = males['Do you consider yourself to be a fan of the Star Wars film franchise?'].value_counts()\n\n#Star Trek\ncount_female_st = females['Do you consider yourself to be a fan of the Star Trek franchise?'].value_counts()\ncount_male_st = males['Do you consider yourself to be a fan of the Star Trek franchise?'].value_counts()\n\nfemale_sw_perc = count_female_sw[1]/sum(count_female_sw)\nmale_sw_perc = count_male_sw[1]/sum(count_male_sw)\nfemale_st_perc = count_female_st[1]/sum(count_female_st)\nmale_st_perc = count_male_st[1]/sum(count_male_st)",
      "execution_count": null,
      "outputs": []
    },
    {
      "metadata": {
        "trusted": true,
        "_uuid": "cbd3d72c5c499dcfea5da5fdc32bc1d72d3432b8"
      },
      "cell_type": "code",
      "source": "print(\"\\nPercentage of Male Star Wars Fans: \", male_sw_perc*100, \"%\")\nprint(\"Percentage of Female Star Wars Fans: \", female_sw_perc*100, \"%\\n\")\nprint(\"Percentage of Male Star Trek Fans: \", male_st_perc*100, \"%\")\nprint(\"Percentage of Female Star Trek Fans: \", female_st_perc*100, \"%\\n\")",
      "execution_count": null,
      "outputs": []
    },
    {
      "metadata": {
        "_uuid": "63127c3ec64b8b5e4440d43426f07ae5840efb6d"
      },
      "cell_type": "markdown",
      "source": "Indeed, whoever said yes to being a fan of both franchises in the survey was most likely a male, thus the pattern showed in the previous graphs. \n\nHowever, while this might suggest this conclusion, the relation between gender and being/not being a fan is not trivial. Even though most fans are males the percentages above still are very close to each other, especially in the Star Wars case, just around 10% apart."
    },
    {
      "metadata": {
        "trusted": true,
        "_uuid": "0df434f70ad94b4f7515c0ef4898a7899392b789"
      },
      "cell_type": "code",
      "source": "",
      "execution_count": null,
      "outputs": []
    }
  ],
  "metadata": {
    "kernelspec": {
      "display_name": "Python 3",
      "language": "python",
      "name": "python3"
    },
    "language_info": {
      "name": "python",
      "version": "3.6.6",
      "mimetype": "text/x-python",
      "codemirror_mode": {
        "name": "ipython",
        "version": 3
      },
      "pygments_lexer": "ipython3",
      "nbconvert_exporter": "python",
      "file_extension": ".py"
    }
  },
  "nbformat": 4,
  "nbformat_minor": 1
}