{
  "cells": [
    {
      "metadata": {
        "_uuid": "31ec24b4bf781e63522db0f7dc7cdfcc3333d616"
      },
      "cell_type": "markdown",
      "source": "# Table of contents\n*  [Introduction](#section1) \n*  [Read in the data](#section2)\n    - [Bike rentals, target column](#section3)\n*  [Feature engineering](#section4)\n    - [Time labels](#section5)\n    - [Weather index](#section6)\n*  [Train/Test split](#section7)\n*  [Modeling and testing](#section8)\n    *  [Linear model](#section9) \n    *  [Decision trees](#section10) \n    *  [Random forests](#section11) \n*  [Another strategy](#section12) \n    *  [Linear model](#section13) \n    *  [Decision trees](#section14) \n    *  [Random forests](#section15) \n    *  [Results](#section16)\n    \nby @antosnj"
    },
    {
      "metadata": {
        "_uuid": "a74fd6ba0f5a772b7db2c0e7621e2c69c2da6407"
      },
      "cell_type": "markdown",
      "source": "---\n<a id='section1'></a>\n# Introduction \nThis project aims to predict bike rentals using different Linear Regression, Decision Trees and Random Forests models, testing their performance on bike rentals data compiled by Hadi Fanaee-T at the University of Porto, which can be found at http://archive.ics.uci.edu/ml/datasets/Bike+Sharing+Dataset."
    },
    {
      "metadata": {
        "trusted": true,
        "_uuid": "c8281671a8deb9f02218f031e6c8afa5d0c465f9"
      },
      "cell_type": "code",
      "source": "import pandas as pd\nimport numpy as np\nimport math\n\nfrom sklearn.model_selection import train_test_split\nfrom sklearn.linear_model import LinearRegression\nfrom sklearn.metrics import mean_squared_error\nfrom sklearn.tree import DecisionTreeRegressor\nfrom sklearn.ensemble import RandomForestRegressor\n\nimport matplotlib.pyplot as plt\nimport seaborn as sns\n%matplotlib inline",
      "execution_count": null,
      "outputs": []
    },
    {
      "metadata": {
        "_uuid": "fef3ea62e8158ef365665fcea0e9d55300c066ce"
      },
      "cell_type": "markdown",
      "source": "<a id='section2'></a>\n# Read in the data"
    },
    {
      "metadata": {
        "trusted": true,
        "_uuid": "9f6b0f873e72d493cf6b11176a74b20db04957d0"
      },
      "cell_type": "code",
      "source": "bike_rentals = pd.read_csv('../input/hour.csv')\nbike_rentals.head(5)",
      "execution_count": null,
      "outputs": []
    },
    {
      "metadata": {
        "_uuid": "e9cecf254803a93be2e015d62934bdbf4059a1c6"
      },
      "cell_type": "markdown",
      "source": "<a id='section3'></a>\n## Bike rentals, target column\nSince the goal is to predict the number of bikes that will be rented in a given hour, the target column is 'cnt'. Let's take a look at the correlation between the rest of the columns and 'cnt' and its values first."
    },
    {
      "metadata": {
        "trusted": true,
        "_uuid": "fc2332cf323f8463135e30260e5427c06b5f8b01"
      },
      "cell_type": "code",
      "source": "fig, axes = plt.subplots(nrows=1, ncols=2, figsize=(20,6))\nax1, ax2 = axes.flatten()\n\nbike_rentals['cnt'].hist(grid=False, ax=ax1)\n\n# Sorted correlations with'cnt'\nsorted_corrs = bike_rentals.corr()['cnt'].sort_values(ascending=False)\nsns.heatmap(bike_rentals[sorted_corrs.index].corr(), ax=ax2)\n\nax1.set_title('Target Column \"cnt\" Histogram')\nax2.set_title('Correlations')\nplt.show()\nprint(\"Correlations:\\n\\n\", sorted_corrs)",
      "execution_count": null,
      "outputs": []
    },
    {
      "metadata": {
        "_uuid": "bf45303ae285a30614942a5c9a89204f49997ed8"
      },
      "cell_type": "markdown",
      "source": "Looks like the amount of bikes rented per hour mostly oscillates between 0 and 200 bikes. Also, as we could expect the bigger the number of signed up or casual riders, the more bikes that were rented (as we can tell by the correlation between 'cnt' and 'registered' and 'casual'). \n\nWe won't use those for the model, since 'cnt' is derived from them (those numbers are added together to get 'cnt'), and we won't have that information when we want to make predictions for new rentals.\n\nOther factors such as temperature ('temp'), 'atemp' or 'hr' seem to highly correlate as well. "
    },
    {
      "metadata": {
        "_uuid": "0247e50ca483f9324a043dfd9cc292b76c1944df"
      },
      "cell_type": "markdown",
      "source": "----\n<a id='section4'></a>\n# Feature engineering"
    },
    {
      "metadata": {
        "_uuid": "92a07ee361db577d38170cd1bbb356b243e767ba"
      },
      "cell_type": "markdown",
      "source": "<a id='section5'></a>\n## Time labels\nThe column 'hr' contains the hour each rental occurred. If we want the model to take into account the relation between certain hours instead of treating them differently (and add more information for it to make better decisions), we could add a 'time_label' column, so that each label is represented by a number, such that:\n\n- Morning: 1\n- Afternoon: 2\n- Evening: 3\n- Night: 4"
    },
    {
      "metadata": {
        "trusted": true,
        "_uuid": "73b4e65483e8ebf8f2a186170338441ca8260215"
      },
      "cell_type": "code",
      "source": "def assign_label(hour):\n    if hour >= 6 and hour < 12:\n        return 1\n    elif hour >= 12 and hour < 18:\n        return 2\n    elif hour >= 18 and hour < 24:\n        return 3\n    elif hour >= 0 and hour < 6:\n        return 4\n    \nbike_rentals['time_label'] = bike_rentals['hr'].apply(lambda hr: assign_label(hr))\nprint(bike_rentals['time_label'].value_counts())\nbike_rentals.head(5)",
      "execution_count": null,
      "outputs": []
    },
    {
      "metadata": {
        "_uuid": "57bacd4d2ec743f659c9adc19b02d58beee8a75e"
      },
      "cell_type": "markdown",
      "source": "<a id='section6'></a>\n## Weather index\nBy combining temperature, humidity, and wind speed we can create a weather index, an additional feature that's \nvaluable for the model. \n\nWeighting temperature and humidity in a way that makes sense for someone who's thinking about renting a bike based on those factors. After tweaking the weights (from 0 to 1), I've found 'temp' to be the feature that dicreases the error the most."
    },
    {
      "metadata": {
        "trusted": true,
        "_uuid": "28e8415beada05f563619d9f3b8b042d426bfed9"
      },
      "cell_type": "code",
      "source": "bike_rentals['weather_idx'] = 0.8*bike_rentals['temp'] + 0.1*bike_rentals['atemp'] + 0.1*bike_rentals['hum'] ",
      "execution_count": null,
      "outputs": []
    },
    {
      "metadata": {
        "_uuid": "7597c893cf355007caacc594ad3a78fd0ccc3a4e"
      },
      "cell_type": "markdown",
      "source": "---\n<a id='section7'></a>\n# Train/Test split"
    },
    {
      "metadata": {
        "trusted": true,
        "_uuid": "c1db072e2c5a01ebaa9833d548d3036a211117f4"
      },
      "cell_type": "code",
      "source": "# Train: 80% of the data / Test: 20% of the data\ntrain, test = train_test_split(bike_rentals, test_size=0.2, random_state=100)\n\nprint(\"\\nTrain: \", train.shape)\nprint(\"Test: \", test.shape)",
      "execution_count": null,
      "outputs": []
    },
    {
      "metadata": {
        "_uuid": "fdf28a09f8c070f9dd722948744ceb789e66eb48"
      },
      "cell_type": "markdown",
      "source": "---\n<a id='section8'></a>\n# Modeling and testing\nGiven what was mentioned before about 'casual', and 'registered', those along with the target column 'cnt' and 'dteday' (the calendar day the bike was rented, in date format) will be excluded from the features."
    },
    {
      "metadata": {
        "trusted": true,
        "_uuid": "6c37d18d6e5943defcf63676203a677c2f764bd2"
      },
      "cell_type": "code",
      "source": "features = bike_rentals.columns[~bike_rentals.columns.isin(['cnt', 'registered', 'casual', 'dteday'])].tolist()\n\nX_train = train[features]\ny_train = train['cnt']\n\nX_test = test[features]\ny_test = test['cnt']\n\nprint(\"\\nInitial features: \", features)",
      "execution_count": null,
      "outputs": []
    },
    {
      "metadata": {
        "_uuid": "1f29c05b4ca46836ea3de834dda99da46c7cb9b6"
      },
      "cell_type": "markdown",
      "source": "---\n<a id='section9'></a>\n## Linear model"
    },
    {
      "metadata": {
        "trusted": true,
        "_uuid": "677c812ff0474d2034139a6d3afa58ea41997f56"
      },
      "cell_type": "code",
      "source": "# Linear model\nlr = LinearRegression()\n\n# Train \nlr.fit(X_train, y_train)\n\n#Predict \nnew_cnt_lr = lr.predict(X_test)\n\n# --------------------------------------------------\n# Error metric\n# --------------------------------------------------\n\n# MSE \nmse_lr = mean_squared_error(y_test, new_cnt_lr)\n\nprint(\"-----------------\\nLinear regression\\n-----------------\")\nprint(\"MSE: \", mse_lr)",
      "execution_count": null,
      "outputs": []
    },
    {
      "metadata": {
        "_uuid": "39e92336a00b241e89f0ed891db9caaeffa256a8"
      },
      "cell_type": "markdown",
      "source": "It looks like the linear model has a very high error. This could be because of very high or very low values in the data, that cause MSE to go up significantly. Let's see how using Decision Trees does with the same set of features."
    },
    {
      "metadata": {
        "_uuid": "582b4a84528a5319e26f85bcc89590dae0122444"
      },
      "cell_type": "markdown",
      "source": "----\n<a id='section10'></a>\n## Decision Trees\nIn this case, to test different models I am going to tweak 'min_samples_leaf', 'min_samples_split' and 'max_depth' and see which one performs best."
    },
    {
      "metadata": {
        "trusted": true,
        "_uuid": "dfd61ef747cd7c711d4f3fcb22a813748e7b530d"
      },
      "cell_type": "code",
      "source": "# Decision Trees model\nmin_samples_leaf = range(5,20,5)\nmax_depth = range(5,50,5)\nmin_samples_split = range(5,20,5)\n\nmse_dt = {}\ncurrent_mse = math.inf\n\nfor msl in min_samples_leaf:\n    for md in max_depth:\n        for mss in min_samples_split:\n            \n            dt = DecisionTreeRegressor(min_samples_leaf=msl, max_depth=md, min_samples_split=mss)\n\n            # Train\n            dt.fit(X_train, y_train)\n\n            # Predict\n            new_cnt_dt = dt.predict(X_test)\n            \n            # Update MSE \n            mse = mean_squared_error(y_test, new_cnt_dt)\n            \n            if mse <= current_mse:\n                mse_dt['value'] = mse\n                mse_dt['min_samples_split'] = mss\n                mse_dt['max_depth'] = md\n                mse_dt['min_samples_leaf'] = msl\n                \n                current_mse = mse\n\nprint(\"-----------------\\nDecision Trees\\n-----------------\")\nprint(\"MSE: \", mse_dt)",
      "execution_count": null,
      "outputs": []
    },
    {
      "metadata": {
        "_uuid": "ee6073ddb6a70b7a56eebfb236f921b835517c46"
      },
      "cell_type": "markdown",
      "source": "The error has decreased significantly, for the parameters shown above. This shows the data has powerful non-linear relations and the decision trees model is able to capture them (unlike the linear model). Let's see how combining several DT models performs by repeating the process with Random Forests."
    },
    {
      "metadata": {
        "_uuid": "31bea8e4c530578a57bed9329aa5b1ea2f2c9214"
      },
      "cell_type": "markdown",
      "source": "---\n<a id='section11'></a>\n## Random forests"
    },
    {
      "metadata": {
        "trusted": true,
        "_uuid": "ddc69ac022f38f3e722de0af89051d45745493b6"
      },
      "cell_type": "code",
      "source": "# Random Forests model (setting n_estimators=10 (default))\nmin_samples_leaf = range(5,20,5)\nmax_depth = range(5,50,5)\nmin_samples_split = range(5,20,5)\n\nmse_rf = {}\ncurrent_mse = math.inf\n\nfor msl in min_samples_leaf:\n    for md in max_depth:\n        for mss in min_samples_split:\n\n            dt = RandomForestRegressor(n_estimators=10, min_samples_leaf=msl, max_depth=md, min_samples_split=mss)\n\n            # Train\n            dt.fit(X_train, y_train)\n\n            # Predict\n            new_cnt_rf = dt.predict(X_test)\n\n            # Update MSE \n            mse = mean_squared_error(y_test, new_cnt_rf)\n\n            if mse <= current_mse:\n                mse_rf['value'] = mse\n                mse_rf['min_samples_split'] = mss\n                mse_rf['max_depth'] = md\n                mse_rf['min_samples_leaf'] = msl\n\n                current_mse = mse\n\nprint(\"-----------------\\nRandom Forests\\n-----------------\")\nprint(\"MSE: \", mse_rf)",
      "execution_count": null,
      "outputs": []
    },
    {
      "metadata": {
        "_uuid": "e52034d025dc08bf2e7fcbbfb497d6f6df92a0d7"
      },
      "cell_type": "markdown",
      "source": "The error dicreased even more. Random Forests helps remove the sources of overfitting present in the Decision Trees model."
    },
    {
      "metadata": {
        "_uuid": "9b02cee862189643bd9af0031c668e51d8fe30ad"
      },
      "cell_type": "markdown",
      "source": "---\n<a id='section12'></a>\n# Another strategy\nFinally, it could be interesting to see how much better or worse each model performs when predicting 'casual' and 'registered', instead of 'cnt', considering their relation:\n\n- *'cnt' = 'casual' + 'registered'*.\n\nWe can predict these two and add them up to get 'cnt' and test the error."
    },
    {
      "metadata": {
        "trusted": true,
        "_uuid": "04d8d1afed7301dc72eb3192c51ad80bf960e23b"
      },
      "cell_type": "code",
      "source": "new_target = ['casual', 'registered']\nnew_y_train = train[new_target]",
      "execution_count": null,
      "outputs": []
    },
    {
      "metadata": {
        "_uuid": "62a9d6b1bea540f57c7e9fd200c8eb6cfcbe83f1"
      },
      "cell_type": "markdown",
      "source": "<a id='section13'></a>\n## Linear model"
    },
    {
      "metadata": {
        "trusted": true,
        "_uuid": "ccb8e078ec52901e0636eb512421648c0bee7932"
      },
      "cell_type": "code",
      "source": "# Linear model\nlr = LinearRegression()\n\n# Train (update y_train)\nlr.fit(X_train, new_y_train)\n\n#Predict\npredictions = lr.predict(X_test)\n\n# Add up 'casual' and 'registered'\nnew_cnt_lr = predictions.sum(axis=1)\n\n# --------------------------------------------------\n# Error metric\n# --------------------------------------------------\n\n# MSE \nmse_lr = mean_squared_error(y_test, new_cnt_lr)\n\nprint(\"-----------------\\nLinear regression\\n-----------------\")\nprint(\"MSE: \", mse_lr)",
      "execution_count": null,
      "outputs": []
    },
    {
      "metadata": {
        "_uuid": "019cb4e29cc765421372b4935b854cbf872783a0"
      },
      "cell_type": "markdown",
      "source": "<a id='section14'></a>\n## Decision trees"
    },
    {
      "metadata": {
        "trusted": true,
        "_uuid": "ac522e03f85164ef0604d573a61c58d1cb1f6884"
      },
      "cell_type": "code",
      "source": "# Decision Trees model\nmin_samples_leaf = range(5,20,5)\nmax_depth = range(5,50,5)\nmin_samples_split = range(5,20,5)\n\nmse_dt = {}\ncurrent_mse = math.inf\n\nfor msl in min_samples_leaf:\n    for md in max_depth:\n        for mss in min_samples_split:\n            \n            dt = DecisionTreeRegressor(min_samples_leaf=msl, max_depth=md, min_samples_split=mss)\n\n            # Train (update y_train)\n            dt.fit(X_train, new_y_train)\n\n            # Predict\n            predictions = dt.predict(X_test)\n            \n            # Add up 'casual' and 'registered'\n            new_cnt_dt = predictions.sum(axis=1)\n            \n            # Update MSE \n            mse = mean_squared_error(y_test, new_cnt_dt)\n            \n            if mse <= current_mse:\n                mse_dt['value'] = mse\n                mse_dt['min_samples_split'] = mss\n                mse_dt['max_depth'] = md\n                mse_dt['min_samples_leaf'] = msl\n                \n                current_mse = mse\n\nprint(\"-----------------\\nDecision Trees\\n-----------------\")\nprint(\"MSE: \", mse_dt)",
      "execution_count": null,
      "outputs": []
    },
    {
      "metadata": {
        "_uuid": "da5b9c706a42742e0dd5a7b65708f7e14bdd3a33"
      },
      "cell_type": "markdown",
      "source": "<a id='section15'></a>\n## Random forests"
    },
    {
      "metadata": {
        "trusted": true,
        "_uuid": "38cb9ce1bf2edf3dfccf6e78d153c1674a85e910"
      },
      "cell_type": "code",
      "source": "# Random Forests model (setting n_estimators=10 (default))\nmin_samples_leaf = range(5,20,5)\nmax_depth = range(5,50,5)\nmin_samples_split = range(5,20,5)\n\nmse_rf = {}\ncurrent_mse = math.inf\n\nfor msl in min_samples_leaf:\n    for md in max_depth:\n        for mss in min_samples_split:\n\n            dt = RandomForestRegressor(n_estimators=10, min_samples_leaf=msl, max_depth=md, min_samples_split=mss)\n\n            # Train (update y_train)\n            dt.fit(X_train, new_y_train)\n\n            # Predict\n            predictions = dt.predict(X_test)\n            \n            # Add up 'casual' and 'registered'\n            new_cnt_rf = predictions.sum(axis=1)\n            \n            # Update MSE \n            mse = mean_squared_error(y_test, new_cnt_rf)\n\n            if mse <= current_mse:\n                mse_rf['value'] = mse\n                mse_rf['min_samples_split'] = mss\n                mse_rf['max_depth'] = md\n                mse_rf['min_samples_leaf'] = msl\n\n                current_mse = mse\n\nprint(\"-----------------\\nRandom Forests\\n-----------------\")\nprint(\"MSE: \", mse_rf)",
      "execution_count": null,
      "outputs": []
    },
    {
      "metadata": {
        "_uuid": "127d4423d74cf85d89c756047c933042e5467ed2"
      },
      "cell_type": "markdown",
      "source": "<a id='section16'></a>\n## Results\nThe error improved when predicting 'registered' and 'casual' and adding them up instead of predicting 'cnt' directly. This shows the features used to train the models have stronger/more accurate relations with the number of sign up and casual riders individually than with the sum of both.  "
    },
    {
      "metadata": {
        "trusted": true,
        "_uuid": "a91fee88d585d6ed78d89093d687ded368941366"
      },
      "cell_type": "code",
      "source": "",
      "execution_count": null,
      "outputs": []
    }
  ],
  "metadata": {
    "kernelspec": {
      "display_name": "Python 3",
      "language": "python",
      "name": "python3"
    },
    "language_info": {
      "name": "python",
      "version": "3.6.6",
      "mimetype": "text/x-python",
      "codemirror_mode": {
        "name": "ipython",
        "version": 3
      },
      "pygments_lexer": "ipython3",
      "nbconvert_exporter": "python",
      "file_extension": ".py"
    }
  },
  "nbformat": 4,
  "nbformat_minor": 1
}