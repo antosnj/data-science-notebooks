{
  "cells": [
    {
      "metadata": {
        "collapsed": true,
        "_uuid": "332bb74366386b8e04252d7ae435207be2bbfef4"
      },
      "cell_type": "markdown",
      "source": "# Introduction\nThis project aims to design and create a database of baseball game-level statistics, working with files of Major League Baseball (MLB) games data from Retrosheet ( https://www.retrosheet.org/ )."
    },
    {
      "metadata": {
        "trusted": true,
        "_uuid": "160baae5cf5e9b9ef318dcf2fd8ca2ea11258d8c"
      },
      "cell_type": "code",
      "source": "import pandas as pd\nimport numpy as np\nimport sqlite3\nimport matplotlib.pyplot as plt\nfrom matplotlib import cm\nfrom IPython.display import Image\n\n%matplotlib inline\n\npd.set_option('max_columns', 180)\npd.set_option('max_rows', 200000)\npd.set_option('max_colwidth', 5000)",
      "execution_count": null,
      "outputs": []
    },
    {
      "metadata": {
        "_uuid": "90c673dbc5235c51e5897f88c103ecd491aa1d7f"
      },
      "cell_type": "markdown",
      "source": "# Helper functions"
    },
    {
      "metadata": {
        "trusted": true,
        "_uuid": "0d714f960dd76149ae78938d777ae419d9028288"
      },
      "cell_type": "code",
      "source": "#run_query(q): Takes a SQL query as an argument and returns a pandas dataframe by using the connection as a SQLite built-in context manager. \ndef run_query(q):\n    with sqlite3.connect('mlb.db') as conn:\n        return pd.read_sql_query(q, conn)\n    \n#run_command(c): Takes a SQL command as an argument and executes it using the sqlite module.\ndef run_command(c):\n    with sqlite3.connect('mlb.db') as conn:\n        conn.execute('PRAGMA foreign_keys = ON;') #Enables enforcement of foreign key restraints.\n        conn.isolation_level = None\n        conn.execute(c)\n    \n#show_tables(): calls the run_query() function to return a list of all tables and views in the database.\ndef show_tables():\n    q = '''SELECT\n            name,\n            type\n        FROM sqlite_master\n        WHERE type IN (\"table\",\"view\");\n        '''\n    return run_query(q)    \n    ",
      "execution_count": null,
      "outputs": []
    },
    {
      "metadata": {
        "_uuid": "197a9538ba152047d23992762fa6ed730083fdaf"
      },
      "cell_type": "markdown",
      "source": "# EDA - Understanding the Data"
    },
    {
      "metadata": {
        "_uuid": "2c0d761e2a139850625e5adff269c6d29d2e34d8"
      },
      "cell_type": "markdown",
      "source": "The data files that will be used to create the database are:\n\nMain file:\n\n- **'game_log.csv':** Contains hundreds of data points on each game, as a result of combining 127 separate CSV files from retrosheet (pre-cleaned), intersecting with the helper files on points such as park, player or team information. A file called 'game_log_fields.txt' explains the fields included in the main file, used as a reference for some of the explanatory markdowns.\n\n'Helper' files (for extra data):\n- **'park_codes.csv':** Contains information about the baseball parks where the games were held.\n- **'person_codes.csv':** Contains information about the people involved in the games, from player to coach.\n- **'team_codes.csv':** Contains information about the teams."
    },
    {
      "metadata": {
        "_uuid": "74128137d57ade9a4a0e2eba10f59909b4e26887"
      },
      "cell_type": "markdown",
      "source": "### Main file"
    },
    {
      "metadata": {
        "scrolled": false,
        "trusted": true,
        "_uuid": "ea159ea938c325b134da3cd52be90a46b435956a"
      },
      "cell_type": "code",
      "source": "#game_log.csv\ngame_log = pd.read_csv(\"../input/game_log.csv\",low_memory=False)\nprint(game_log.shape)\ngame_log.head()",
      "execution_count": null,
      "outputs": []
    },
    {
      "metadata": {
        "_uuid": "3b97075152d95e665f162821a9015028ba0bda27"
      },
      "cell_type": "markdown",
      "source": "The main game log provides information about more than 171,000 games, containing:\n\n- Overall information on each game.\n- A list of the players and their positions (based on the order in which they batted).\n- Team results and stats.\n- Win-loss records.\n\nIt also seems like coaches are not recorded in the table."
    },
    {
      "metadata": {
        "_uuid": "ef285c2de200efa42cc283fd1c66219b1dd2dc0a"
      },
      "cell_type": "markdown",
      "source": "### Helper Files"
    },
    {
      "metadata": {
        "trusted": true,
        "_uuid": "77216891893b4c7174bda0177a35d4b70025c1df"
      },
      "cell_type": "code",
      "source": "#park_codes.csv\npark_codes = pd.read_csv(\"../input/park_codes.csv\")\nprint(park_codes.shape)\npark_codes.head()",
      "execution_count": null,
      "outputs": []
    },
    {
      "metadata": {
        "_uuid": "05ebe950d38eff828ecf50b7ff66a5a572a4bc0e"
      },
      "cell_type": "markdown",
      "source": "Specifies the name of the baseball park, its location, years active and the league they hold games for. IDs, names, nicknames, location and league records from this table match with the main game log table."
    },
    {
      "metadata": {
        "trusted": true,
        "_uuid": "04d1d77853ed15f2f1b2d92c45a7230f65b34cda"
      },
      "cell_type": "code",
      "source": "#person_codes.csv\nperson_codes = pd.read_csv(\"../input/person_codes.csv\")\nprint(person_codes.shape)\nperson_codes.head()",
      "execution_count": null,
      "outputs": []
    },
    {
      "metadata": {
        "_uuid": "f03297aa768b93da659d1406406e0ba5f334412a"
      },
      "cell_type": "markdown",
      "source": "Shows the ID (which seems to match up with those in the main game log), first and last name, debut and role on each person involved in the games, featuring players, coaches, umpires and 'head coaches' (managers). Some of them may have had more than one role."
    },
    {
      "metadata": {
        "trusted": true,
        "_uuid": "5b3f18bdb6cca9c3b6b6de941f85b0e5f2f9e450"
      },
      "cell_type": "code",
      "source": "#team_codes.csv\nteam_codes = pd.read_csv(\"../input/team_codes.csv\")\nprint(team_codes.shape)\nteam_codes.head()",
      "execution_count": null,
      "outputs": []
    },
    {
      "metadata": {
        "collapsed": true,
        "_uuid": "54e287b2fb9fd100fa0c9b392bcc0bb1a6c5ec6a"
      },
      "cell_type": "markdown",
      "source": "Shows information about the teams, where team_id seems to match up with the main game log.\n\nTaking a look at the franch_id, we realize for one single franchise there may be more than one team_id, as follows:"
    },
    {
      "metadata": {
        "trusted": true,
        "_uuid": "11a866e1dc2460d3edf6223c293c0bd252111629"
      },
      "cell_type": "code",
      "source": "print(team_codes['franch_id'].value_counts().head())\nteam_codes[team_codes['franch_id']=='BR3']",
      "execution_count": null,
      "outputs": []
    },
    {
      "metadata": {
        "_uuid": "8425a2b289b3114963799710c26e575d60db6c5c"
      },
      "cell_type": "markdown",
      "source": "This means depending on the city or the league there may be more than one team ID, but the franchise (and the corresponding nickname) keeps being the same for all of them."
    },
    {
      "metadata": {
        "_uuid": "9e818fb1e7a8f79af0ca7a6e5556b39865236a8d"
      },
      "cell_type": "markdown",
      "source": "### Defensive positions "
    },
    {
      "metadata": {
        "trusted": true,
        "_uuid": "db3946d64f3f541022e623c87f27796e515c9d28"
      },
      "cell_type": "code",
      "source": "Image(filename='../input/baseball_positions.png')",
      "execution_count": null,
      "outputs": []
    },
    {
      "metadata": {
        "_uuid": "fecada9195335734a7acb8f976c396ff1d230119"
      },
      "cell_type": "markdown",
      "source": "In the game log, there are some columns reserved for the defensive position of each player (*v_player_#_def_pos*, where # corresponds to the number of player).\n\nTheir values go from 1 to 10, as seen in the image above, where I will consider number 10 as 'unknown' or a player that doesn't field.\n\nBased on the above diagram and some research, numbers 1-9 refer to:\n\n1. Pitcher\n2. Catcher\n3. 1st Base\n4. 2nd Base\n5. 3rd Base\n6. Shortstop\n7. Left Field\n8. Center Field\n9. Right Field"
    },
    {
      "metadata": {
        "_uuid": "b51c991b52f568a8794f7c4cbf5b8576e37fc7cf"
      },
      "cell_type": "markdown",
      "source": "### Leagues"
    },
    {
      "metadata": {
        "collapsed": true,
        "_uuid": "d55dc4c04a30b88ffed375f884aaa75a709a16f0"
      },
      "cell_type": "markdown",
      "source": "The current baseball leagues in the US are the American League (AL) and the National League (NL). Let's see which ones the main game log include."
    },
    {
      "metadata": {
        "trusted": true,
        "_uuid": "fc88cf172cfbe25e3dce8dcc57a82d5bee7409ce"
      },
      "cell_type": "code",
      "source": "fig = plt.figure(figsize=(9,6))\n\nleagues = game_log['h_league'].value_counts().index.tolist()\ntimes = game_log['h_league'].value_counts().tolist()\npercentage_times = np.array(times)/sum(times)\ncolors = cm.Set3(np.arange(10)/10.)\nexplode = [0]*6\nexplode[0] = 0.1\n\npatches, texts, autotexts = plt.pie(percentage_times, \n                                    colors=colors, \n                                    labels=leagues, \n                                    autopct='%1.1f%%',\n                                    explode=explode,\n                                    startangle=-90,\n                                    shadow=True)\nfor i in range(0,2):\n    texts[i].set_fontsize(18)\n    autotexts[i].set_fontsize(14)\n    \nfor i in range(2,6):\n    texts[i].set_fontsize(0)\n    autotexts[i].set_fontsize(0)\n    \nplt.title('Pct Values for Each League', fontsize=25, y=1.1)\nplt.axis('equal')\nplt.tight_layout()\nplt.show()",
      "execution_count": null,
      "outputs": []
    },
    {
      "metadata": {
        "_uuid": "cdc1eca78e1fa68d43330ea26437da373b8012c6"
      },
      "cell_type": "markdown",
      "source": "Looks like the data mostly includes data from the two current leagues.\n\nAfter some research, I have found the acronym for each league refers to:\n\n- AL: American League\n- NL: National League\n- AA: American Association\n- UA: Union Association\n- FL: Federal League\n- PL: Players League"
    },
    {
      "metadata": {
        "trusted": true,
        "_uuid": "c2cb5669bd277290375ae1851dcf9619154b833b"
      },
      "cell_type": "code",
      "source": "game_log['h_league'].value_counts(dropna=False)",
      "execution_count": null,
      "outputs": []
    },
    {
      "metadata": {
        "_uuid": "50a215cdb329303b749f951b4cef7ef5c77808e4"
      },
      "cell_type": "markdown",
      "source": "By looking at the values in the 'h_league' column, we can also see that about 1000 games do not include a value for the home team league."
    },
    {
      "metadata": {
        "collapsed": true,
        "_uuid": "07c4a21911c3838f084b21c54570a8318edd6d7c"
      },
      "cell_type": "markdown",
      "source": "# Importing Data into SQLite"
    },
    {
      "metadata": {
        "scrolled": true,
        "trusted": true,
        "_uuid": "9f67885e139fa292543514b110b3cc1e4c53a352"
      },
      "cell_type": "code",
      "source": "conn = sqlite3.connect('mlb.db')\n\ngame_log.to_sql('game_log', conn, index=False, if_exists='replace')\npark_codes.to_sql('park_codes', conn, index=False, if_exists='replace')\nperson_codes.to_sql('person_codes', conn, index=False, if_exists='replace')\nteam_codes.to_sql('team_codes', conn, index=False, if_exists='replace')\n\nshow_tables()",
      "execution_count": null,
      "outputs": []
    },
    {
      "metadata": {
        "_uuid": "d7548ea9217efc72629300c8ed323d85e259ab5e"
      },
      "cell_type": "markdown",
      "source": "## Primary Key\n\nThe game log file does not have a single column that can be used as a primary key to uniquely identify each game. However, the Retrosheet data dictionary tells us that each game can be identified with an unique ID such as:\n\n*__id:__* *Each game begins with a twelve character ID record which identifies the date, home team, and number of the game. For example, ATL198304080 should be read as follows. The first three characters identify the home team (the Braves). The next four are the year (1983). The next two are the month (April) using the standard numeric notation, 04, followed by the day (08). The last digit indicates if this is a single game (0), first game (1) or second game (2) if more than one game is played during a day, usually a double header The id record starts the description of a game thus ending the description of the preceding game in the file.*\n\nThis way, creating a custom primary key made up of the concatenation of h_name, date and number_of_game in a new column called game_id, each game will be uniquely identified in the database."
    },
    {
      "metadata": {
        "trusted": true,
        "_uuid": "7d4a4395e4b36cde6d29676e3a91d6f73b684eda"
      },
      "cell_type": "code",
      "source": "#Adds the new game_id column\nq1 = '''\n    ALTER TABLE game_log\n    ADD game_id VARCHAR(12);\n'''\n\ntry:\n    run_command(q1)\nexcept:\n    pass\n\n#Set the concatenation of h_name, date and number_of_game as game_id values\nq2 = '''\n    UPDATE game_log \n    SET game_id = h_name || date || number_of_game\n    WHERE game_id IS NULL;\n'''\n\nrun_command(q2)\n\nq3 = '''\n    SELECT \n        date, \n        h_name, \n        number_of_game,\n        game_id\n    FROM game_log\n    LIMIT 10;\n\n'''\n\nrun_query(q3)",
      "execution_count": null,
      "outputs": []
    },
    {
      "metadata": {
        "_uuid": "ff7ace9c202c41ba04200ae4ced5b97b309d05c8"
      },
      "cell_type": "markdown",
      "source": "# Normalization\nFor the purpose of this project, the normalized schema I will use is the following:"
    },
    {
      "metadata": {
        "trusted": true,
        "_uuid": "99534c19f31320d6f266aace5ad9bfc7a09fecc0"
      },
      "cell_type": "code",
      "source": "Image(filename='../input/normalized_schema.png')",
      "execution_count": null,
      "outputs": []
    },
    {
      "metadata": {
        "_uuid": "d078b411cb6446dd4596c66c6dc083ac8a96ddba"
      },
      "cell_type": "markdown",
      "source": "## Creating the tables\nTaking the right columns in the right order from the tables we already have will allow to create the tables for the normalized database:\n\n- team_appearance\n- team\n- person\n- person_appearance\n- game\n- league\n- appearance_type\n- park"
    },
    {
      "metadata": {
        "_uuid": "c9013f86ff1d74c52b9ca13d6348e07456f26fdc"
      },
      "cell_type": "markdown",
      "source": "### Person"
    },
    {
      "metadata": {
        "scrolled": true,
        "trusted": true,
        "_uuid": "c01dcab8983f069a1d5e15de660972058cc404e3"
      },
      "cell_type": "code",
      "source": "q4 = '''\n    CREATE TABLE IF NOT EXISTS person (\n        person_id TEXT,\n        first_name TEXT,\n        last_name TEXT,\n        PRIMARY KEY (person_id)\n    );\n'''\n\nrun_command(q4)\n\nq5 = '''\n    INSERT OR IGNORE INTO person\n    SELECT\n        id,\n        first,\n        last\n    FROM person_codes;\n'''\n\nrun_command(q5)\n\nq6 = '''\n    SELECT * FROM person\n    LIMIT 10;\n'''\nrun_query(q6)",
      "execution_count": null,
      "outputs": []
    },
    {
      "metadata": {
        "_uuid": "ad7faf35f26b2b4d6fb26746a99ccedfb45e3a9b"
      },
      "cell_type": "markdown",
      "source": "### Park"
    },
    {
      "metadata": {
        "scrolled": true,
        "trusted": true,
        "_uuid": "97fabf0e69eaf886d32ee8a3f47fc3096444c3f2"
      },
      "cell_type": "code",
      "source": "q7 = '''\n    CREATE TABLE IF NOT EXISTS park (\n        park_id TEXT,\n        name TEXT,\n        nickname TEXT,\n        city TEXT,\n        state TEXT,\n        notes TEXT,\n        PRIMARY KEY (park_id)\n    );\n'''\n\nrun_command(q7)\n\nq8 = '''\n    INSERT OR IGNORE INTO park\n    SELECT\n        park_id,\n        name,\n        aka,\n        city,\n        state,\n        notes\n    FROM park_codes;\n'''\n\nrun_command(q8)\n\nq9 = '''\n    SELECT * FROM park\n    LIMIT 10;\n'''\nrun_query(q9)",
      "execution_count": null,
      "outputs": []
    },
    {
      "metadata": {
        "_uuid": "0fd3e66de54ca05fd443b32045741b10426b384f"
      },
      "cell_type": "markdown",
      "source": "### Appearance Type\nFirst, the data needs to be imported into SQLite from *appearance_type.csv* in order to insert it in the table."
    },
    {
      "metadata": {
        "trusted": true,
        "_uuid": "00c95549f0784f268d545d4cad30cfd24164c524"
      },
      "cell_type": "code",
      "source": "app_type = pd.read_csv(\"../input/appearance_type.csv\",low_memory=False)\napp_type.to_sql('app_type', conn, index=False, if_exists='replace')",
      "execution_count": null,
      "outputs": []
    },
    {
      "metadata": {
        "trusted": true,
        "_uuid": "be40cd92e3a0bfd52cb356bf06fe2f3b3bb1c329"
      },
      "cell_type": "code",
      "source": "q10 = '''\n    CREATE TABLE IF NOT EXISTS appearance_type (\n        appearance_type_id TEXT,\n        name TEXT,\n        category TEXT,\n        PRIMARY KEY (appearance_type_id)\n    );\n'''\n\nrun_command(q10)\n\nq11 = '''\n    INSERT OR IGNORE INTO appearance_type\n    SELECT\n        appearance_type_id,\n        name,\n        category\n    FROM app_type;\n'''\n\nrun_command(q11)\n\nq12 = '''\n    SELECT * FROM appearance_type\n    LIMIT 10;\n'''\nrun_query(q12)",
      "execution_count": null,
      "outputs": []
    },
    {
      "metadata": {
        "_uuid": "cff59f975997a9554d965d3a71b21e8c1bc9ebd7"
      },
      "cell_type": "markdown",
      "source": "### League\nAs mentioned before, the leagues analysed in the data are:\n\n- AL: American League\n- NL: National League\n- AA: American Association\n- UA: Union Association\n- FL: Federal League\n- PL: Players League"
    },
    {
      "metadata": {
        "trusted": true,
        "_uuid": "ee5b5e176ff6aadab4964453c1980bcd9982b2e6"
      },
      "cell_type": "code",
      "source": "q13 = '''\n    CREATE TABLE IF NOT EXISTS league (\n        league_id TEXT,\n        name TEXT,\n        PRIMARY KEY (league_id)\n    );\n'''\n\nrun_command(q13) \n\nq14 = '''\n    INSERT OR IGNORE INTO league\n    VALUES\n        ('AL', 'American League'),\n        ('NL', 'National League'),\n        ('AA', 'American Association'),\n        ('UA', 'Union Association'),\n        ('FL', 'Federal League'),\n        ('PL', 'Players League');\n'''\n\nrun_command(q14)\n\nq15 = '''\n    SELECT * FROM league;\n'''\n\nrun_query(q15)",
      "execution_count": null,
      "outputs": []
    },
    {
      "metadata": {
        "_uuid": "61665d53bc48c99030738316c3debd481e8dcd0e"
      },
      "cell_type": "markdown",
      "source": "### Team"
    },
    {
      "metadata": {
        "trusted": true,
        "_uuid": "e6dc7d69b32cc421d468da4c78814a4c6aae4473"
      },
      "cell_type": "code",
      "source": "q16 = '''\n    CREATE TABLE IF NOT EXISTS team (\n        team_id TEXT,\n        league_id TEXT,\n        city TEXT,\n        nickname TEXT,\n        franch_id TEXT,\n        PRIMARY KEY (team_id),\n        FOREIGN KEY (league_id) REFERENCES league(league_id)\n    );\n'''\n\nrun_command(q16) \n\nq17 = '''\n    INSERT OR IGNORE INTO team\n    SELECT\n        team_id,\n        league,\n        city,\n        nickname,\n        franch_id\n    FROM team_codes;\n'''\n\nrun_command(q17)\n\nq18 = '''\n    SELECT * FROM team\n    LIMIT 10;\n'''\n\nrun_query(q18)",
      "execution_count": null,
      "outputs": []
    },
    {
      "metadata": {
        "_uuid": "c17dca5070a35e0097a149f276bbe8ee66a57fe4"
      },
      "cell_type": "markdown",
      "source": "### Game"
    },
    {
      "metadata": {
        "trusted": true,
        "_uuid": "9fa11fcd98925d24920a1bbc31819e20851f1f2a"
      },
      "cell_type": "code",
      "source": "q19 = '''\n    CREATE TABLE IF NOT EXISTS game (\n        game_id TEXT,\n        date TEXT,\n        number_of_game INT,\n        park_id TEXT,\n        length_outs FLOAT,\n        day BOOLEAN,\n        completion TEXT,\n        forefeit TEXT,\n        protest TEXT,\n        attendance INTEGER,\n        legnth_minutes INTEGER,\n        additional_info TEXT,\n        acquisition_info TEXT,\n        PRIMARY KEY (game_id),\n        FOREIGN KEY (park_id) REFERENCES park(park_id)\n    );\n'''\n\nrun_command(q19) \n\nq20 = '''\n    INSERT OR IGNORE INTO game\n    SELECT\n        game_id,\n        date,\n        number_of_game,\n        park_id,\n        length_outs,\n        CASE\n            day_night\n            WHEN 'D' THEN 1\n            WHEN 'N' THEN 0\n            ELSE NULL\n            END\n            AS day,\n        completion,\n        forefeit,\n        protest,\n        attendance,\n        length_minutes,\n        additional_info,\n        acquisition_info\n    FROM game_log;\n'''\n\nrun_command(q20)\n\nq21 = '''\n    SELECT * FROM game\n    LIMIT 10;\n'''\n\nrun_query(q21)",
      "execution_count": null,
      "outputs": []
    },
    {
      "metadata": {
        "_uuid": "304d4eba728e94d9c13f2355a3ab3e0a60b90a48"
      },
      "cell_type": "markdown",
      "source": "### Team Appearance\nFirst, let's extract the schema from the game_log table, and use that as a starting point for the query to avoid manually typing all the column names."
    },
    {
      "metadata": {
        "trusted": true,
        "_uuid": "4a1acd0c2966c395c2260e3c4f8489a288a14bb0"
      },
      "cell_type": "code",
      "source": "q = '''\nSELECT sql FROM sqlite_master\nWHERE name = \"game_log\"\n  AND type = \"table\";\n\n'''\nrun_query(q)",
      "execution_count": null,
      "outputs": []
    },
    {
      "metadata": {
        "scrolled": true,
        "trusted": true,
        "_uuid": "07a7d4fa5005cc42f8558ec4b52077cca9523a5d"
      },
      "cell_type": "code",
      "source": "q22 = '''\n    CREATE TABLE IF NOT EXISTS team_appearance (\n        team_id TEXT,\n        game_id TEXT,\n        home BOOLEAN,\n        league_id TEXT,\n        score INT,\n        line_score TEXT,\n        at_bats INT,\n        hits INT,\n        doubles INT,\n        triples INT,\n        homeruns INT,\n        rbi INT,\n        sacrifice_hits INT,\n        sacrifice_flies INT,\n        hit_by_pitch INT,\n        walks INT,\n        intentional_walks INT,\n        strikeouts INT,\n        stolen_bases INT,\n        caught_stealing INT,\n        grounded_into_double INT,\n        first_catcher_interference INT,\n        left_on_base INT,\n        pitchers_used INT,\n        individual_earned_runs INT,\n        team_earned_runs INT,\n        wild_pitches INT,\n        balks INT,\n        putouts INT,\n        assists INT,\n        errors INT,\n        passed_balls INT,\n        double_plays INT,\n        triple_plays INT,\n        PRIMARY KEY (team_id, game_id),\n        FOREIGN KEY (team_id) REFERENCES team(team_id),\n        FOREIGN KEY (game_id) REFERENCES game(game_id),\n        FOREIGN KEY (team_id) REFERENCES team(team_id)\n    );\n'''\n\nrun_command(q22) \n\nq23 = '''\n    INSERT OR IGNORE INTO team_appearance\n    SELECT\n        h_name,\n        game_id,\n        1 AS home,\n        h_league,\n        h_score,\n        h_line_score,\n        h_at_bats,\n        h_hits,\n        h_doubles,\n        h_triples,\n        h_homeruns,\n        h_rbi,\n        h_sacrifice_hits,\n        h_sacrifice_flies,\n        h_hit_by_pitch,\n        h_walks,\n        h_intentional_walks,\n        h_strikeouts,\n        h_stolen_bases,\n        h_caught_stealing,\n        h_grounded_into_double,\n        h_first_catcher_interference,\n        h_left_on_base,\n        h_pitchers_used,\n        h_individual_earned_runs,\n        h_team_earned_runs,\n        h_wild_pitches,\n        h_balks,\n        h_putouts,\n        h_assists,\n        h_errors,\n        h_passed_balls,\n        h_double_plays,\n        h_triple_plays\n    FROM game_log\n\n    UNION\n\n    SELECT    \n        v_name,\n        game_id,\n        0 AS home,\n        v_league,\n        v_score,\n        v_line_score,\n        v_at_bats,\n        v_hits,\n        v_doubles,\n        v_triples,\n        v_homeruns,\n        v_rbi,\n        v_sacrifice_hits,\n        v_sacrifice_flies,\n        v_hit_by_pitch,\n        v_walks,\n        v_intentional_walks,\n        v_strikeouts,\n        v_stolen_bases,\n        v_caught_stealing,\n        v_grounded_into_double,\n        v_first_catcher_interference,\n        v_left_on_base,\n        v_pitchers_used,\n        v_individual_earned_runs,\n        v_team_earned_runs,\n        v_wild_pitches,\n        v_balks,\n        v_putouts,\n        v_assists,\n        v_errors,\n        v_passed_balls,\n        v_double_plays,\n        v_triple_plays\n    FROM game_log;\n'''\n\nrun_command(q23)\n\nq24 = '''\n    WITH home1 AS\n        (\n            SELECT *\n            FROM team_appearance\n            WHERE home = 1 AND doubles IS NOT NULL\n            LIMIT 5\n        ),\n    \n        home0 AS\n        (\n            SELECT *\n            FROM team_appearance\n            WHERE home = 0 AND doubles IS NOT NULL\n            LIMIT 5\n        )\n        \n        \n    SELECT *\n    FROM home1\n    \n    UNION\n    \n    SELECT *\n    FROM home0\n    \n'''\n\nrun_query(q24)",
      "execution_count": null,
      "outputs": []
    },
    {
      "metadata": {
        "_uuid": "9f84dba96b4b34e12c6eea5d8830f11a50766f72"
      },
      "cell_type": "markdown",
      "source": "### Person Appearance"
    },
    {
      "metadata": {
        "trusted": true,
        "_uuid": "1508b8b8041914d88de5304af2fb91ecb4c5cb1d"
      },
      "cell_type": "code",
      "source": "q25 = '''\n    DROP TABLE IF EXISTS person_appearance\n'''\n\nrun_command(q25)\n\nq26 = '''\nCREATE TABLE person_appearance (\n    appearance_id INTEGER PRIMARY KEY,\n    person_id TEXT,\n    team_id TEXT,\n    game_id TEXT,\n    appearance_type_id,\n    FOREIGN KEY (person_id) REFERENCES person(person_id),\n    FOREIGN KEY (team_id) REFERENCES team(team_id),\n    FOREIGN KEY (game_id) REFERENCES game(game_id),\n    FOREIGN KEY (appearance_type_id) REFERENCES appearance_type(appearance_type_id)\n);\n'''\n\nq27 = '''\nINSERT OR IGNORE INTO person_appearance (\n    game_id,\n    team_id,\n    person_id,\n    appearance_type_id\n) \n    SELECT\n        game_id,\n        NULL,\n        hp_umpire_id,\n        \"UHP\"\n    FROM game_log\n    WHERE hp_umpire_id IS NOT NULL    \n\nUNION\n\n    SELECT\n        game_id,\n        NULL,\n        [1b_umpire_id],\n        \"U1B\"\n    FROM game_log\n    WHERE \"1b_umpire_id\" IS NOT NULL\n\nUNION\n\n    SELECT\n        game_id,\n        NULL,\n        [2b_umpire_id],\n        \"U2B\"\n    FROM game_log\n    WHERE [2b_umpire_id] IS NOT NULL\n\nUNION\n\n    SELECT\n        game_id,\n        NULL,\n        [3b_umpire_id],\n        \"U3B\"\n    FROM game_log\n    WHERE [3b_umpire_id] IS NOT NULL\n\nUNION\n\n    SELECT\n        game_id,\n        NULL,\n        lf_umpire_id,\n        \"ULF\"\n    FROM game_log\n    WHERE lf_umpire_id IS NOT NULL\n\nUNION\n\n    SELECT\n        game_id,\n        NULL,\n        rf_umpire_id,\n        \"URF\"\n    FROM game_log\n    WHERE rf_umpire_id IS NOT NULL\n\nUNION\n\n    SELECT\n        game_id,\n        v_name,\n        v_manager_id,\n        \"MM\"\n    FROM game_log\n    WHERE v_manager_id IS NOT NULL\n\nUNION\n\n    SELECT\n        game_id,\n        h_name,\n        h_manager_id,\n        \"MM\"\n    FROM game_log\n    WHERE h_manager_id IS NOT NULL\n\nUNION\n\n    SELECT\n        game_id,\n        CASE\n            WHEN h_score > v_score THEN h_name\n            ELSE v_name\n            END,\n        winning_pitcher_id,\n        \"AWP\"\n    FROM game_log\n    WHERE winning_pitcher_id IS NOT NULL\n\nUNION\n\n    SELECT\n        game_id,\n        CASE\n            WHEN h_score < v_score THEN h_name\n            ELSE v_name\n            END,\n        losing_pitcher_id,\n        \"ALP\"\n    FROM game_log\n    WHERE losing_pitcher_id IS NOT NULL\n\nUNION\n\n    SELECT\n        game_id,\n        CASE\n            WHEN h_score > v_score THEN h_name\n            ELSE v_name\n            END,\n        saving_pitcher_id,\n        \"ASP\"\n    FROM game_log\n    WHERE saving_pitcher_id IS NOT NULL\n\nUNION\n\n    SELECT\n        game_id,\n        CASE\n            WHEN h_score > v_score THEN h_name\n            ELSE v_name\n            END,\n        winning_rbi_batter_id,\n        \"AWB\"\n    FROM game_log\n    WHERE winning_rbi_batter_id IS NOT NULL\n\nUNION\n\n    SELECT\n        game_id,\n        v_name,\n        v_starting_pitcher_id,\n        \"PSP\"\n    FROM game_log\n    WHERE v_starting_pitcher_id IS NOT NULL\n\nUNION\n\n    SELECT\n        game_id,\n        h_name,\n        h_starting_pitcher_id,\n        \"PSP\"\n    FROM game_log\n    WHERE h_starting_pitcher_id IS NOT NULL;\n'''\n\ntemplate = '''\n    INSERT INTO person_appearance (\n        game_id,\n        team_id,\n        person_id,\n        appearance_type_id\n    ) \n        SELECT\n            game_id,\n            {hv}_name,\n            {hv}_player_{num}_id,\n            \"O{num}\"\n        FROM game_log\n        WHERE {hv}_player_{num}_id IS NOT NULL\n\n    UNION\n\n        SELECT\n            game_id,\n            {hv}_name,\n            {hv}_player_{num}_id,\n            \"D\" || CAST({hv}_player_{num}_def_pos AS INT)\n        FROM game_log\n        WHERE {hv}_player_{num}_id IS NOT NULL;\n'''\n\n\nrun_command(q26)\nrun_command(q27)\n\nfor hv in [\"h\",\"v\"]:\n    for num in range(1,10):\n        query_vars = {\n            \"hv\": hv,\n            \"num\": num\n        }\n        run_command(template.format(**query_vars))",
      "execution_count": null,
      "outputs": []
    },
    {
      "metadata": {
        "trusted": true,
        "_uuid": "e01b8b9b320ac530391e7b423620daef36b287f4"
      },
      "cell_type": "code",
      "source": "q28 = '''\n    SELECT\n        pa.*,\n        at.name,\n        at.category\n    FROM person_appearance pa\n    INNER JOIN appearance_type at on at.appearance_type_id = pa.appearance_type_id\n    LIMIT 10;\n'''\n\nrun_query(q28)",
      "execution_count": null,
      "outputs": []
    },
    {
      "metadata": {
        "_uuid": "4af58cb5ae3ea76d6449a6cd120be0122c902253"
      },
      "cell_type": "markdown",
      "source": "# Removing the Original Tables"
    },
    {
      "metadata": {
        "trusted": true,
        "_uuid": "b62815d6bd9314d739cb3e773be3da7c93a88070"
      },
      "cell_type": "code",
      "source": "original_tables = ['game_log', 'park_codes', 'team_codes', 'person_codes']\n\nfor table in original_tables:\n    q29 = '''DROP TABLE IF EXISTS {}'''.format(table)\n    run_command(q29)\n\nshow_tables()",
      "execution_count": null,
      "outputs": []
    },
    {
      "metadata": {
        "trusted": true,
        "_uuid": "31fc3cf84da679154c91e9c4503ae1b4a618f370"
      },
      "cell_type": "code",
      "source": "",
      "execution_count": null,
      "outputs": []
    }
  ],
  "metadata": {
    "kernelspec": {
      "display_name": "Python 3",
      "language": "python",
      "name": "python3"
    },
    "language_info": {
      "name": "python",
      "version": "3.6.6",
      "mimetype": "text/x-python",
      "codemirror_mode": {
        "name": "ipython",
        "version": 3
      },
      "pygments_lexer": "ipython3",
      "nbconvert_exporter": "python",
      "file_extension": ".py"
    }
  },
  "nbformat": 4,
  "nbformat_minor": 1
}