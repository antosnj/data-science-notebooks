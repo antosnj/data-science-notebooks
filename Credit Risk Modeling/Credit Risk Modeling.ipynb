{
 "cells": [
  {
   "cell_type": "markdown",
   "metadata": {},
   "source": [
    "# Table of contents\n",
    "*  [Introduction](#section1) \n",
    "*  [Import libraries](#section2) \n",
    "*  [EDA](#section3) \n",
    "    *  [Read the data in](#section4)\n",
    "    *  [Data Exploration](#section5)\n",
    "        - [Target column](#section6)\n",
    "    *  [Cleaning](#section7)\n",
    "        - [Irrelevant & Reduntant columns](#section8)\n",
    "        - [Data leakage - Features that inject future knowledge](#section9)\n",
    "        - [Columns with only one unique value](#section10)  \n",
    "        - [Missing values](#section11)  \n",
    "*  [Feature Engineering](#section12)\n",
    "    *  [Data pre-processing: Categorical columns](#section13)\n",
    "*  [Modeling and testing](#section14)\n",
    "    *  [Class Imbalance](#section15)\n",
    "    *  [Error Metric](#section16)\n",
    "    *  [Logistic Regression Model - Cross Validation](#section17)  \n",
    "    *  [Random Forests](#section18)  \n",
    "    *  [Ensembled model: LightGBM + XGBoost](#section19)\n",
    "        - [LightGBM](#section20)\n",
    "        - [XGBoost](#section21)\n",
    "        - [Ensemble](#section30)\n",
    "*  [Feature Importance](#section22)\n",
    "*  [Conclusions](#section23)\n",
    "    \n",
    "by @samaxtech"
   ]
  },
  {
   "cell_type": "markdown",
   "metadata": {},
   "source": [
    "---\n",
    "<a id='section1'></a>\n",
    "# Introduction\n",
    "This project aims to build different machine learning models to model credit risk, by classifing borrowers and predict whether they will pay off their loan on time or not, as a binary classification problem. The data consists on approved loans data from 2007 to 2011 from Lending Club (https://www.lendingclub.com/), a marketplace for personal loans that matches borrowers who are seeking a loan with investors looking to lend money and make a return. "
   ]
  },
  {
   "cell_type": "markdown",
   "metadata": {},
   "source": [
    "---\n",
    "<a id='section2'></a>\n",
    "# Import libraries"
   ]
  },
  {
   "cell_type": "code",
   "execution_count": 1,
   "metadata": {},
   "outputs": [
    {
     "name": "stderr",
     "output_type": "stream",
     "text": [
      "/Users/sama/anaconda3/lib/python3.6/site-packages/lightgbm/__init__.py:46: UserWarning: Starting from version 2.2.1, the library file in distribution wheels for macOS is built by the Apple Clang (Xcode_9.4.1) compiler.\n",
      "This means that in case of installing LightGBM from PyPI via the ``pip install lightgbm`` command, you don't need to install the gcc compiler anymore.\n",
      "Instead of that, you need to install the OpenMP library, which is required for running LightGBM on the system with the Apple Clang compiler.\n",
      "You can install the OpenMP library by the following command: ``brew install libomp``.\n",
      "  \"You can install the OpenMP library by the following command: ``brew install libomp``.\", UserWarning)\n"
     ]
    }
   ],
   "source": [
    "import pandas as pd\n",
    "import numpy as np\n",
    "\n",
    "import lightgbm as lgb\n",
    "import xgboost as xgb\n",
    "from sklearn.model_selection import KFold\n",
    "from sklearn.linear_model import LogisticRegression\n",
    "from sklearn.model_selection import cross_val_predict\n",
    "from sklearn.ensemble import RandomForestClassifier\n",
    "from sklearn.model_selection import train_test_split\n",
    "\n",
    "import matplotlib.pyplot as plt\n",
    "import warnings\n",
    "\n",
    "%matplotlib inline\n",
    "warnings.filterwarnings('ignore')"
   ]
  },
  {
   "cell_type": "markdown",
   "metadata": {},
   "source": [
    "---\n",
    "<a id='section3'></a>\n",
    "# EDA\n",
    "<a id='section4'></a>\n",
    "## Read the data in"
   ]
  },
  {
   "cell_type": "code",
   "execution_count": 2,
   "metadata": {},
   "outputs": [
    {
     "name": "stdout",
     "output_type": "stream",
     "text": [
      "(42538, 52)\n"
     ]
    },
    {
     "data": {
      "text/html": [
       "<div>\n",
       "<style scoped>\n",
       "    .dataframe tbody tr th:only-of-type {\n",
       "        vertical-align: middle;\n",
       "    }\n",
       "\n",
       "    .dataframe tbody tr th {\n",
       "        vertical-align: top;\n",
       "    }\n",
       "\n",
       "    .dataframe thead th {\n",
       "        text-align: right;\n",
       "    }\n",
       "</style>\n",
       "<table border=\"1\" class=\"dataframe\">\n",
       "  <thead>\n",
       "    <tr style=\"text-align: right;\">\n",
       "      <th></th>\n",
       "      <th>id</th>\n",
       "      <th>member_id</th>\n",
       "      <th>loan_amnt</th>\n",
       "      <th>funded_amnt</th>\n",
       "      <th>funded_amnt_inv</th>\n",
       "      <th>term</th>\n",
       "      <th>int_rate</th>\n",
       "      <th>installment</th>\n",
       "      <th>grade</th>\n",
       "      <th>sub_grade</th>\n",
       "      <th>...</th>\n",
       "      <th>last_pymnt_amnt</th>\n",
       "      <th>last_credit_pull_d</th>\n",
       "      <th>collections_12_mths_ex_med</th>\n",
       "      <th>policy_code</th>\n",
       "      <th>application_type</th>\n",
       "      <th>acc_now_delinq</th>\n",
       "      <th>chargeoff_within_12_mths</th>\n",
       "      <th>delinq_amnt</th>\n",
       "      <th>pub_rec_bankruptcies</th>\n",
       "      <th>tax_liens</th>\n",
       "    </tr>\n",
       "  </thead>\n",
       "  <tbody>\n",
       "    <tr>\n",
       "      <th>0</th>\n",
       "      <td>1077501</td>\n",
       "      <td>1296599.0</td>\n",
       "      <td>5000.0</td>\n",
       "      <td>5000.0</td>\n",
       "      <td>4975.0</td>\n",
       "      <td>36 months</td>\n",
       "      <td>10.65%</td>\n",
       "      <td>162.87</td>\n",
       "      <td>B</td>\n",
       "      <td>B2</td>\n",
       "      <td>...</td>\n",
       "      <td>171.62</td>\n",
       "      <td>Jun-2016</td>\n",
       "      <td>0.0</td>\n",
       "      <td>1.0</td>\n",
       "      <td>INDIVIDUAL</td>\n",
       "      <td>0.0</td>\n",
       "      <td>0.0</td>\n",
       "      <td>0.0</td>\n",
       "      <td>0.0</td>\n",
       "      <td>0.0</td>\n",
       "    </tr>\n",
       "    <tr>\n",
       "      <th>1</th>\n",
       "      <td>1077430</td>\n",
       "      <td>1314167.0</td>\n",
       "      <td>2500.0</td>\n",
       "      <td>2500.0</td>\n",
       "      <td>2500.0</td>\n",
       "      <td>60 months</td>\n",
       "      <td>15.27%</td>\n",
       "      <td>59.83</td>\n",
       "      <td>C</td>\n",
       "      <td>C4</td>\n",
       "      <td>...</td>\n",
       "      <td>119.66</td>\n",
       "      <td>Sep-2013</td>\n",
       "      <td>0.0</td>\n",
       "      <td>1.0</td>\n",
       "      <td>INDIVIDUAL</td>\n",
       "      <td>0.0</td>\n",
       "      <td>0.0</td>\n",
       "      <td>0.0</td>\n",
       "      <td>0.0</td>\n",
       "      <td>0.0</td>\n",
       "    </tr>\n",
       "    <tr>\n",
       "      <th>2</th>\n",
       "      <td>1077175</td>\n",
       "      <td>1313524.0</td>\n",
       "      <td>2400.0</td>\n",
       "      <td>2400.0</td>\n",
       "      <td>2400.0</td>\n",
       "      <td>36 months</td>\n",
       "      <td>15.96%</td>\n",
       "      <td>84.33</td>\n",
       "      <td>C</td>\n",
       "      <td>C5</td>\n",
       "      <td>...</td>\n",
       "      <td>649.91</td>\n",
       "      <td>Jun-2016</td>\n",
       "      <td>0.0</td>\n",
       "      <td>1.0</td>\n",
       "      <td>INDIVIDUAL</td>\n",
       "      <td>0.0</td>\n",
       "      <td>0.0</td>\n",
       "      <td>0.0</td>\n",
       "      <td>0.0</td>\n",
       "      <td>0.0</td>\n",
       "    </tr>\n",
       "    <tr>\n",
       "      <th>3</th>\n",
       "      <td>1076863</td>\n",
       "      <td>1277178.0</td>\n",
       "      <td>10000.0</td>\n",
       "      <td>10000.0</td>\n",
       "      <td>10000.0</td>\n",
       "      <td>36 months</td>\n",
       "      <td>13.49%</td>\n",
       "      <td>339.31</td>\n",
       "      <td>C</td>\n",
       "      <td>C1</td>\n",
       "      <td>...</td>\n",
       "      <td>357.48</td>\n",
       "      <td>Apr-2016</td>\n",
       "      <td>0.0</td>\n",
       "      <td>1.0</td>\n",
       "      <td>INDIVIDUAL</td>\n",
       "      <td>0.0</td>\n",
       "      <td>0.0</td>\n",
       "      <td>0.0</td>\n",
       "      <td>0.0</td>\n",
       "      <td>0.0</td>\n",
       "    </tr>\n",
       "    <tr>\n",
       "      <th>4</th>\n",
       "      <td>1075358</td>\n",
       "      <td>1311748.0</td>\n",
       "      <td>3000.0</td>\n",
       "      <td>3000.0</td>\n",
       "      <td>3000.0</td>\n",
       "      <td>60 months</td>\n",
       "      <td>12.69%</td>\n",
       "      <td>67.79</td>\n",
       "      <td>B</td>\n",
       "      <td>B5</td>\n",
       "      <td>...</td>\n",
       "      <td>67.79</td>\n",
       "      <td>Jun-2016</td>\n",
       "      <td>0.0</td>\n",
       "      <td>1.0</td>\n",
       "      <td>INDIVIDUAL</td>\n",
       "      <td>0.0</td>\n",
       "      <td>0.0</td>\n",
       "      <td>0.0</td>\n",
       "      <td>0.0</td>\n",
       "      <td>0.0</td>\n",
       "    </tr>\n",
       "  </tbody>\n",
       "</table>\n",
       "<p>5 rows × 52 columns</p>\n",
       "</div>"
      ],
      "text/plain": [
       "        id  member_id  loan_amnt  funded_amnt  funded_amnt_inv        term  \\\n",
       "0  1077501  1296599.0     5000.0       5000.0           4975.0   36 months   \n",
       "1  1077430  1314167.0     2500.0       2500.0           2500.0   60 months   \n",
       "2  1077175  1313524.0     2400.0       2400.0           2400.0   36 months   \n",
       "3  1076863  1277178.0    10000.0      10000.0          10000.0   36 months   \n",
       "4  1075358  1311748.0     3000.0       3000.0           3000.0   60 months   \n",
       "\n",
       "  int_rate  installment grade sub_grade    ...    last_pymnt_amnt  \\\n",
       "0   10.65%       162.87     B        B2    ...             171.62   \n",
       "1   15.27%        59.83     C        C4    ...             119.66   \n",
       "2   15.96%        84.33     C        C5    ...             649.91   \n",
       "3   13.49%       339.31     C        C1    ...             357.48   \n",
       "4   12.69%        67.79     B        B5    ...              67.79   \n",
       "\n",
       "  last_credit_pull_d collections_12_mths_ex_med  policy_code application_type  \\\n",
       "0           Jun-2016                        0.0          1.0       INDIVIDUAL   \n",
       "1           Sep-2013                        0.0          1.0       INDIVIDUAL   \n",
       "2           Jun-2016                        0.0          1.0       INDIVIDUAL   \n",
       "3           Apr-2016                        0.0          1.0       INDIVIDUAL   \n",
       "4           Jun-2016                        0.0          1.0       INDIVIDUAL   \n",
       "\n",
       "  acc_now_delinq chargeoff_within_12_mths delinq_amnt pub_rec_bankruptcies  \\\n",
       "0            0.0                      0.0         0.0                  0.0   \n",
       "1            0.0                      0.0         0.0                  0.0   \n",
       "2            0.0                      0.0         0.0                  0.0   \n",
       "3            0.0                      0.0         0.0                  0.0   \n",
       "4            0.0                      0.0         0.0                  0.0   \n",
       "\n",
       "  tax_liens  \n",
       "0       0.0  \n",
       "1       0.0  \n",
       "2       0.0  \n",
       "3       0.0  \n",
       "4       0.0  \n",
       "\n",
       "[5 rows x 52 columns]"
      ]
     },
     "execution_count": 2,
     "metadata": {},
     "output_type": "execute_result"
    }
   ],
   "source": [
    "loans_2007 = pd.read_csv('loans_2007.csv', low_memory=False)\n",
    "\n",
    "print(loans_2007.shape)\n",
    "loans_2007.head()"
   ]
  },
  {
   "cell_type": "markdown",
   "metadata": {},
   "source": [
    "---\n",
    "<a id='section5'></a>\n",
    "## Data Exploration\n",
    "<a id='section6'></a>\n",
    "### Target column\n",
    "Firstly, let's study the **'loan_status'** column. This will be, after some processing, the target column since it's the only column that directly describes if a loan was paid off on time, had delayed payments, or was defaulted on the borrower."
   ]
  },
  {
   "cell_type": "code",
   "execution_count": 3,
   "metadata": {},
   "outputs": [
    {
     "data": {
      "image/png": "[encoded data removed]",
      "text/plain": [
       "<Figure size 864x504 with 1 Axes>"
      ]
     },
     "metadata": {},
     "output_type": "display_data"
    }
   ],
   "source": [
    "freq_loan_status = loans_2007['loan_status'].value_counts() \n",
    "\n",
    "fig, ax = plt.subplots(figsize=(12,7))\n",
    "freq_loan_status.plot(kind='barh',alpha=0.75, rot=0, colormap=plt.cm.Accent)\n",
    "\n",
    "plt.title('Loan Status History, 2007-2011', size=20)\n",
    "plt.xlabel('# of Borrowers', size=12)\n",
    "ax.spines[\"top\"].set_visible(False)\n",
    "ax.spines[\"left\"].set_visible(False)\n",
    "ax.spines[\"right\"].set_visible(False)\n",
    "ax.spines[\"bottom\"].set_visible(False)\n",
    "ax.tick_params(top=\"off\", left=\"off\", right=\"off\", bottom='off')"
   ]
  },
  {
   "cell_type": "markdown",
   "metadata": {},
   "source": [
    "The explanation for each status as well as the counts in the loans_2007 Dataframe is:\n",
    "\n",
    "- **Fully Paid (33136):** Loan has been fully paid off.\n",
    "- **Charged Off (5634):** Loan for which there is no longer a reasonable expectation of further payments.\n",
    "- **Does not meet the credit policy. Status - Fully Paid (1988):** While the loan was paid off, the loan application today would no longer meet the credit policy and wouldn't be approved on to the marketplace.\n",
    "- **Does not meet the credit policy. Status - Charged Off (761):** While the loan was charged off, the loan application today would no longer meet the credit policy and wouldn't be approved on to the marketplace.\n",
    "- **In Grace Period\t(20):** The loan is past due but still in the grace period of 15 days.\n",
    "- **Late (16-30 days) (8):** Loan hasn't been paid in 16 to 30 days (late on the current payment).\n",
    "- **Late (31-120 days) (24):** Loan hasn't been paid in 31 to 120 days (late on the current payment).\n",
    "- **Current\t(961):** Loan is up to date on current payments.\n",
    "- **Default\t(3):** Loan is defaulted on and no payment has been made for more than 121 days."
   ]
  },
  {
   "cell_type": "markdown",
   "metadata": {},
   "source": [
    "---\n",
    "Since we're interested in being able to predict which of these 2 values a loan will fall under:\n",
    "- Fully Paid **(1)**\n",
    "- Charged Off **(0)**\n",
    "\n",
    "We can treat the problem as a **binary classification** one. Let's remove all the loans that don't contain either Fully Paid or Charged Off as the loan's status and then transform the Fully Paid values to 1 for the positive case and the Charged Off values to 0 for the negative case. "
   ]
  },
  {
   "cell_type": "code",
   "execution_count": 4,
   "metadata": {},
   "outputs": [
    {
     "name": "stdout",
     "output_type": "stream",
     "text": [
      "\n",
      "----------------------------------\n",
      "Shape after target col processing\n",
      "----------------------------------\n",
      " (38770, 52)\n"
     ]
    }
   ],
   "source": [
    "# Remove loans that don't contain either Fully Paid or Charged Off\n",
    "loans_2007 = loans_2007[(loans_2007['loan_status'] == 'Fully Paid') | (loans_2007['loan_status'] == 'Charged Off')]\n",
    "\n",
    "\n",
    "# Map Fully Paid/Charged Off to 0/1\n",
    "mapping_dict = {\n",
    "    'loan_status':{\n",
    "        'Fully Paid':1,\n",
    "        'Charged Off':0\n",
    "    }\n",
    "}\n",
    "\n",
    "loans_2007.replace(mapping_dict, inplace=True)\n",
    "\n",
    "print(\"\\n----------------------------------\\nShape after target col processing\\n----------------------------------\\n\", loans_2007.shape)"
   ]
  },
  {
   "cell_type": "markdown",
   "metadata": {},
   "source": [
    "It should also be pointed out that there is a class imbalance between Fully Paid and Charged Off, given the difference in the amount of values between both. That will be tackled later on."
   ]
  },
  {
   "cell_type": "markdown",
   "metadata": {},
   "source": [
    "---\n",
    "<a id='section7'></a>\n",
    "## Cleaning\n",
    "Let's focus on columns that:\n",
    "\n",
    "1. Leak information from the future (after the loan has already been funded).\n",
    "2. Don't affect a borrower's ability to pay back a loan (e.g. a randomly generated ID value by Lending Club).\n",
    "3. Formatted poorly and need to be cleaned up.\n",
    "4. Require more data or a lot of processing to turn into a useful feature.\n",
    "5. Contain redundant information.\n",
    "6. Only contain one value, since they don't add any information to each loan application and won't be useful for the model.\n",
    "\n",
    "---\n",
    "<a id='section8'></a>\n",
    "### Irrelevant & Reduntant columns\n",
    "In order not to take into account columns that don't affect a borrower's ability to pay back a loan and contain redundant information, the following features need to be removed:\n",
    "\n",
    "- **id:** randomly generated field by Lending Club for unique identification purposes only\n",
    "- **member_id:** also a randomly generated field by Lending Club for unique identification purposes only\n",
    "- **funded_amnt:** leaks data from the future (after the loan has already started to be funded)\n",
    "- **funded_amnt_inv:** also leaks data from the future (after the loan has already started to be funded)\n",
    "- **grade:** contains redundant information as the interest rate column ('int_rate', which contains continuous values, which are better suited for machine learning). \n",
    "- **sub_grade:** also contains redundant information as the interest rate column.\n",
    "- **emp_title:** requires other data and a lot of processing to potentially be useful\n",
    "- **issue_d:** leaks data from the future (after the loan is already completed funded)\n",
    "- **zip_code:** redundant with the addr_state column since only the first 3 digits of the 5 digit zip code are visible (which only can be used to identify the state the borrower lives in)"
   ]
  },
  {
   "cell_type": "code",
   "execution_count": 5,
   "metadata": {},
   "outputs": [],
   "source": [
    "cols_drop_1 = ['id', 'member_id', 'funded_amnt', 'funded_amnt_inv', 'grade', \n",
    "               'sub_grade', 'emp_title', 'issue_d', 'zip_code']\n",
    "\n",
    "loans_2007.drop(cols_drop_1, axis=1, inplace=True)"
   ]
  },
  {
   "cell_type": "markdown",
   "metadata": {},
   "source": [
    "<a id='section9'></a>\n",
    "### Data leakage - Features that inject future knowledge\n",
    "To prevent our model from overfitting and using data about the target column that wouldn't be available when we're using the model on future loans, the following features need to be removed:\n",
    "\n",
    "- **out_prncp:** leaks data from the future, (after the loan already started to be paid off)\n",
    "- **out_prncp_inv:** also leaks data from the future.\n",
    "- **total_pymnt:** also leaks data from the future.\n",
    "- **total_pymnt_inv:** also leaks data from the future.\n",
    "- **total_rec_prncp:** also leaks data from the future.\n",
    "- **total_rec_int:** leaks data from the future.\n",
    "- **total_rec_late_fee:** also leaks data from the future.\n",
    "- **recoveries:** also leaks data from the future.\n",
    "- **collection_recovery_fee:** also leaks data from the future.\n",
    "- **last_pymnt_d:** also leaks data from the future.\n",
    "- **last_pymnt_amnt:** also leaks data from the future."
   ]
  },
  {
   "cell_type": "code",
   "execution_count": 6,
   "metadata": {
    "scrolled": true
   },
   "outputs": [
    {
     "name": "stdout",
     "output_type": "stream",
     "text": [
      "\n",
      "--------------------------\n",
      "Shape after dropping cols\n",
      "--------------------------\n",
      " (38770, 32)\n"
     ]
    }
   ],
   "source": [
    "cols_drop_2 = ['out_prncp', 'out_prncp_inv', 'total_pymnt', 'total_pymnt_inv', 'total_rec_prncp',\n",
    "              'total_rec_int', 'total_rec_late_fee', 'recoveries', 'collection_recovery_fee',\n",
    "              'last_pymnt_d', 'last_pymnt_amnt']\n",
    "\n",
    "loans_2007.drop(cols_drop_2, axis=1, inplace=True)\n",
    "print(\"\\n--------------------------\\nShape after dropping cols\\n--------------------------\\n\", loans_2007.shape)"
   ]
  },
  {
   "cell_type": "markdown",
   "metadata": {},
   "source": [
    "<a id='section10'></a>\n",
    "### Columns with only one unique value\n",
    "To check the number of unique values on each column and drop those with only one, let's use the following approach:\n",
    "\n",
    "For each column:\n",
    "- Drop any null values.\n",
    "- Check the number of unique values.\n",
    "- Remove the col if the previous number is equal to 1."
   ]
  },
  {
   "cell_type": "code",
   "execution_count": 7,
   "metadata": {},
   "outputs": [
    {
     "name": "stdout",
     "output_type": "stream",
     "text": [
      "\n",
      "-----------------------------------\n",
      "Columns with only one unique value\n",
      "-----------------------------------\n",
      "pymnt_plan\n",
      "initial_list_status\n",
      "collections_12_mths_ex_med\n",
      "policy_code\n",
      "application_type\n",
      "acc_now_delinq\n",
      "chargeoff_within_12_mths\n",
      "delinq_amnt\n",
      "tax_liens\n"
     ]
    }
   ],
   "source": [
    "print(\"\\n-----------------------------------\\nColumns with only one unique value\\n-----------------------------------\")\n",
    "      \n",
    "for col in loans_2007.columns:\n",
    "    # Drop any null values\n",
    "    non_null = loans_2007[col].dropna()\n",
    "    \n",
    "    # Check the number of unique values\n",
    "    unique_non_null = non_null.unique()\n",
    "    num_true_unique = len(unique_non_null)\n",
    "    \n",
    "    # Remove the col if there is only 1 unique value\n",
    "    if num_true_unique == 1:\n",
    "        loans_2007.drop(col, axis=1, inplace=True)\n",
    "        print(col)"
   ]
  },
  {
   "cell_type": "markdown",
   "metadata": {},
   "source": [
    "<a id='section11'></a>\n",
    "### Missing values\n",
    "Let's remove any columns with more than 1% of missing values, keeping 'emp_length', since it contains the number of years the borrower was employed upon time of application, which is likely to be useful for the model given what we want to predict."
   ]
  },
  {
   "cell_type": "code",
   "execution_count": 8,
   "metadata": {},
   "outputs": [
    {
     "name": "stdout",
     "output_type": "stream",
     "text": [
      "\n",
      "-----------------------------------\n",
      "Percentage of missing values (%):\n",
      "-----------------------------------\n",
      " loan_amnt               0.000000\n",
      "term                    0.000000\n",
      "int_rate                0.000000\n",
      "installment             0.000000\n",
      "emp_length              2.672169\n",
      "home_ownership          0.000000\n",
      "annual_inc              0.000000\n",
      "verification_status     0.000000\n",
      "loan_status             0.000000\n",
      "purpose                 0.000000\n",
      "title                   0.028372\n",
      "addr_state              0.000000\n",
      "dti                     0.000000\n",
      "delinq_2yrs             0.000000\n",
      "earliest_cr_line        0.000000\n",
      "inq_last_6mths          0.000000\n",
      "open_acc                0.000000\n",
      "pub_rec                 0.000000\n",
      "revol_bal               0.000000\n",
      "revol_util              0.128966\n",
      "total_acc               0.000000\n",
      "last_credit_pull_d      0.005159\n",
      "pub_rec_bankruptcies    1.797782\n",
      "dtype: float64\n"
     ]
    }
   ],
   "source": [
    "null_values = loans_2007.isnull().sum()\n",
    "print(\"\\n-----------------------------------\\nPercentage of missing values (%):\\n-----------------------------------\\n\", null_values*100 / len(loans_2007))"
   ]
  },
  {
   "cell_type": "code",
   "execution_count": 9,
   "metadata": {},
   "outputs": [],
   "source": [
    "more_than_1pct = ['pub_rec_bankruptcies']\n",
    "loans_2007.drop(more_than_1pct, axis=1, inplace=True)"
   ]
  },
  {
   "cell_type": "markdown",
   "metadata": {},
   "source": [
    "Next, after dropping those columns let's remove any remaining rows that contain null values."
   ]
  },
  {
   "cell_type": "code",
   "execution_count": 10,
   "metadata": {},
   "outputs": [
    {
     "name": "stdout",
     "output_type": "stream",
     "text": [
      "\n",
      "----------------------\n",
      "Shape after cleaning\n",
      "----------------------\n",
      " (37675, 22)\n"
     ]
    }
   ],
   "source": [
    "loans_2007.dropna(inplace=True)\n",
    "print(\"\\n----------------------\\nShape after cleaning\\n----------------------\\n\", loans_2007.shape)"
   ]
  },
  {
   "cell_type": "markdown",
   "metadata": {},
   "source": [
    "---\n",
    "<a id='section12'></a>\n",
    "# Feature Engineering\n",
    "<a id='section13'></a>\n",
    "## Data pre-processing: Categorical columns\n",
    "Let's see how many columns have object type, and check the number of unique values for those."
   ]
  },
  {
   "cell_type": "code",
   "execution_count": 11,
   "metadata": {},
   "outputs": [
    {
     "name": "stdout",
     "output_type": "stream",
     "text": [
      "\n",
      "----------------------\n",
      "Object columns\n",
      "----------------------\n",
      "['term', 'int_rate', 'emp_length', 'home_ownership', 'verification_status', 'purpose', 'title', 'addr_state', 'earliest_cr_line', 'revol_util', 'last_credit_pull_d']\n"
     ]
    }
   ],
   "source": [
    "object_cols = list(loans_2007.select_dtypes(include=['object']).columns)\n",
    "print(\"\\n----------------------\\nObject columns\\n----------------------\")\n",
    "print(object_cols)"
   ]
  },
  {
   "cell_type": "code",
   "execution_count": 12,
   "metadata": {},
   "outputs": [
    {
     "name": "stdout",
     "output_type": "stream",
     "text": [
      "\n",
      "-----------------------------\n",
      "Unique values in object cols\n",
      "-----------------------------\n",
      "term : 2\n",
      "int_rate : 371\n",
      "emp_length : 11\n",
      "home_ownership : 5\n",
      "verification_status : 3\n",
      "purpose : 14\n",
      "title : 18881\n",
      "addr_state : 50\n",
      "earliest_cr_line : 514\n",
      "revol_util : 1086\n",
      "last_credit_pull_d : 107\n"
     ]
    }
   ],
   "source": [
    "print(\"\\n-----------------------------\\nUnique values in object cols\\n-----------------------------\")\n",
    "for col in object_cols:\n",
    "    print(col, \":\", len(loans_2007[col].unique()))"
   ]
  },
  {
   "cell_type": "markdown",
   "metadata": {},
   "source": [
    "---\n",
    "The resulting columns include:\n",
    "\n",
    "- **home_ownership:** home ownership status, can only be 1 of 4 categorical values according to the data dictionary.\n",
    "- **verification_status:** indicates if income was verified by Lending Club.\n",
    "- **emp_length:** number of years the borrower was employed upon time of application.\n",
    "- **term:** number of payments on the loan, either 36 or 60.\n",
    "- **addr_state:** borrower's state of residence.\n",
    "- **purpose:** a category provided by the borrower for the loan request.\n",
    "- **title:** loan title provided the borrower.\n",
    "\n",
    "In addition, there are two columns that represent numeric values, that need to be converted:\n",
    "\n",
    "- **int_rate:** interest rate of the loan in %,\n",
    "- **revol_util:** revolving line utilization rate or the amount of credit the borrower is using relative to all available credit, read more here.\n",
    "\n",
    "Lastly, the following columns would need a solid feature engineering to be useful for the model. \n",
    "\n",
    "- **earliest_cr_line:** The month the borrower's earliest reported credit line was opened,\n",
    "- **last_credit_pull_d:** The most recent month Lending Club pulled credit for this loan.\n",
    "\n",
    "---\n",
    "For performance purposes, let's start by removing 'addr_state', and 'title', since they contain too many discrete values and we'd need to add too many dummy variable columns to use them for classification. Also, let's convert 'earliest_cr_line' and 'last_credit_pull_d' to numerical."
   ]
  },
  {
   "cell_type": "code",
   "execution_count": 13,
   "metadata": {},
   "outputs": [],
   "source": [
    "cols_drop = ['addr_state', 'title']\n",
    "loans_2007.drop(cols_drop, axis=1, inplace=True)\n",
    "\n",
    "for col in ['last_credit_pull_d', 'earliest_cr_line']:\n",
    "    loans_2007.loc[:, col] = pd.DatetimeIndex(loans_2007[col]).astype(np.int64)*1e-9"
   ]
  },
  {
   "cell_type": "markdown",
   "metadata": {},
   "source": [
    "Next, let's convert 'int_rate' and 'revol_util' to float columns."
   ]
  },
  {
   "cell_type": "code",
   "execution_count": 14,
   "metadata": {},
   "outputs": [
    {
     "data": {
      "text/html": [
       "<div>\n",
       "<style scoped>\n",
       "    .dataframe tbody tr th:only-of-type {\n",
       "        vertical-align: middle;\n",
       "    }\n",
       "\n",
       "    .dataframe tbody tr th {\n",
       "        vertical-align: top;\n",
       "    }\n",
       "\n",
       "    .dataframe thead th {\n",
       "        text-align: right;\n",
       "    }\n",
       "</style>\n",
       "<table border=\"1\" class=\"dataframe\">\n",
       "  <thead>\n",
       "    <tr style=\"text-align: right;\">\n",
       "      <th></th>\n",
       "      <th>int_rate</th>\n",
       "      <th>revol_util</th>\n",
       "    </tr>\n",
       "  </thead>\n",
       "  <tbody>\n",
       "    <tr>\n",
       "      <th>0</th>\n",
       "      <td>10.65</td>\n",
       "      <td>83.7</td>\n",
       "    </tr>\n",
       "    <tr>\n",
       "      <th>1</th>\n",
       "      <td>15.27</td>\n",
       "      <td>9.4</td>\n",
       "    </tr>\n",
       "    <tr>\n",
       "      <th>2</th>\n",
       "      <td>15.96</td>\n",
       "      <td>98.5</td>\n",
       "    </tr>\n",
       "    <tr>\n",
       "      <th>3</th>\n",
       "      <td>13.49</td>\n",
       "      <td>21.0</td>\n",
       "    </tr>\n",
       "    <tr>\n",
       "      <th>5</th>\n",
       "      <td>7.90</td>\n",
       "      <td>28.3</td>\n",
       "    </tr>\n",
       "  </tbody>\n",
       "</table>\n",
       "</div>"
      ],
      "text/plain": [
       "   int_rate  revol_util\n",
       "0     10.65        83.7\n",
       "1     15.27         9.4\n",
       "2     15.96        98.5\n",
       "3     13.49        21.0\n",
       "5      7.90        28.3"
      ]
     },
     "execution_count": 14,
     "metadata": {},
     "output_type": "execute_result"
    }
   ],
   "source": [
    "float_cols = ['int_rate', 'revol_util']\n",
    "for col in float_cols:\n",
    "    loans_2007[col] = loans_2007[col].str.rstrip('%').astype(float)\n",
    "    \n",
    "loans_2007[float_cols].head()"
   ]
  },
  {
   "cell_type": "markdown",
   "metadata": {},
   "source": [
    "To clean the 'emp_length' column, we can use the following mapping:\n",
    "\n",
    "- \"10+ years\": 10\n",
    "- \"9 years\": 9\n",
    "- \"8 years\": 8\n",
    "- \"7 years\": 7\n",
    "- \"6 years\": 6\n",
    "- \"5 years\": 5\n",
    "- \"4 years\": 4\n",
    "- \"3 years\": 3\n",
    "- \"2 years\": 2\n",
    "- \"1 year\": 1\n",
    "- \"< 1 year\": 0\n",
    "- \"n/a\": 0"
   ]
  },
  {
   "cell_type": "code",
   "execution_count": 15,
   "metadata": {},
   "outputs": [],
   "source": [
    "mapping_dict = {\n",
    "    'emp_length': {\n",
    "        '10+ years': 10,\n",
    "        '9 years': 9,\n",
    "        '8 years': 8,\n",
    "        '7 years': 7,\n",
    "        '6 years': 6,\n",
    "        '5 years': 5,\n",
    "        '4 years': 4,\n",
    "        '3 years': 3,\n",
    "        '2 years': 2,\n",
    "        '1 year': 1,\n",
    "        '< 1 year': 0,\n",
    "        'n/a': 0\n",
    "    }\n",
    "}\n",
    "\n",
    "loans_2007.replace(mapping_dict, inplace=True)"
   ]
  },
  {
   "cell_type": "markdown",
   "metadata": {},
   "source": [
    "Now, let's encode 'home_ownership', 'verification_status', 'term', and 'purpose' as dummy variables."
   ]
  },
  {
   "cell_type": "code",
   "execution_count": 16,
   "metadata": {},
   "outputs": [],
   "source": [
    "dummy_cols = ['home_ownership', 'verification_status', 'term', 'purpose']\n",
    "\n",
    "for col in dummy_cols:\n",
    "    dummy_df = pd.get_dummies(loans_2007[col])\n",
    "    loans_2007 = pd.concat([loans_2007, dummy_df], axis=1)\n",
    "    loans_2007.drop(col, axis=1, inplace=True)    "
   ]
  },
  {
   "cell_type": "markdown",
   "metadata": {},
   "source": [
    "Lastly, let's take a look at how the 'loans_2007' Dataframe looks like after preprocessing."
   ]
  },
  {
   "cell_type": "code",
   "execution_count": 17,
   "metadata": {},
   "outputs": [
    {
     "name": "stdout",
     "output_type": "stream",
     "text": [
      "\n",
      "----------------------------------\n",
      "Shape after pre-processing\n",
      "----------------------------------\n",
      " (37675, 40)\n"
     ]
    },
    {
     "data": {
      "text/html": [
       "<div>\n",
       "<style scoped>\n",
       "    .dataframe tbody tr th:only-of-type {\n",
       "        vertical-align: middle;\n",
       "    }\n",
       "\n",
       "    .dataframe tbody tr th {\n",
       "        vertical-align: top;\n",
       "    }\n",
       "\n",
       "    .dataframe thead th {\n",
       "        text-align: right;\n",
       "    }\n",
       "</style>\n",
       "<table border=\"1\" class=\"dataframe\">\n",
       "  <thead>\n",
       "    <tr style=\"text-align: right;\">\n",
       "      <th></th>\n",
       "      <th>loan_amnt</th>\n",
       "      <th>int_rate</th>\n",
       "      <th>installment</th>\n",
       "      <th>emp_length</th>\n",
       "      <th>annual_inc</th>\n",
       "      <th>loan_status</th>\n",
       "      <th>dti</th>\n",
       "      <th>delinq_2yrs</th>\n",
       "      <th>earliest_cr_line</th>\n",
       "      <th>inq_last_6mths</th>\n",
       "      <th>...</th>\n",
       "      <th>home_improvement</th>\n",
       "      <th>house</th>\n",
       "      <th>major_purchase</th>\n",
       "      <th>medical</th>\n",
       "      <th>moving</th>\n",
       "      <th>other</th>\n",
       "      <th>renewable_energy</th>\n",
       "      <th>small_business</th>\n",
       "      <th>vacation</th>\n",
       "      <th>wedding</th>\n",
       "    </tr>\n",
       "  </thead>\n",
       "  <tbody>\n",
       "    <tr>\n",
       "      <th>0</th>\n",
       "      <td>5000.0</td>\n",
       "      <td>10.65</td>\n",
       "      <td>162.87</td>\n",
       "      <td>10</td>\n",
       "      <td>24000.0</td>\n",
       "      <td>1</td>\n",
       "      <td>27.65</td>\n",
       "      <td>0.0</td>\n",
       "      <td>4.733856e+08</td>\n",
       "      <td>1.0</td>\n",
       "      <td>...</td>\n",
       "      <td>0</td>\n",
       "      <td>0</td>\n",
       "      <td>0</td>\n",
       "      <td>0</td>\n",
       "      <td>0</td>\n",
       "      <td>0</td>\n",
       "      <td>0</td>\n",
       "      <td>0</td>\n",
       "      <td>0</td>\n",
       "      <td>0</td>\n",
       "    </tr>\n",
       "    <tr>\n",
       "      <th>1</th>\n",
       "      <td>2500.0</td>\n",
       "      <td>15.27</td>\n",
       "      <td>59.83</td>\n",
       "      <td>0</td>\n",
       "      <td>30000.0</td>\n",
       "      <td>0</td>\n",
       "      <td>1.00</td>\n",
       "      <td>0.0</td>\n",
       "      <td>9.229248e+08</td>\n",
       "      <td>5.0</td>\n",
       "      <td>...</td>\n",
       "      <td>0</td>\n",
       "      <td>0</td>\n",
       "      <td>0</td>\n",
       "      <td>0</td>\n",
       "      <td>0</td>\n",
       "      <td>0</td>\n",
       "      <td>0</td>\n",
       "      <td>0</td>\n",
       "      <td>0</td>\n",
       "      <td>0</td>\n",
       "    </tr>\n",
       "    <tr>\n",
       "      <th>2</th>\n",
       "      <td>2400.0</td>\n",
       "      <td>15.96</td>\n",
       "      <td>84.33</td>\n",
       "      <td>10</td>\n",
       "      <td>12252.0</td>\n",
       "      <td>1</td>\n",
       "      <td>8.72</td>\n",
       "      <td>0.0</td>\n",
       "      <td>1.004573e+09</td>\n",
       "      <td>2.0</td>\n",
       "      <td>...</td>\n",
       "      <td>0</td>\n",
       "      <td>0</td>\n",
       "      <td>0</td>\n",
       "      <td>0</td>\n",
       "      <td>0</td>\n",
       "      <td>0</td>\n",
       "      <td>0</td>\n",
       "      <td>1</td>\n",
       "      <td>0</td>\n",
       "      <td>0</td>\n",
       "    </tr>\n",
       "    <tr>\n",
       "      <th>3</th>\n",
       "      <td>10000.0</td>\n",
       "      <td>13.49</td>\n",
       "      <td>339.31</td>\n",
       "      <td>10</td>\n",
       "      <td>49200.0</td>\n",
       "      <td>1</td>\n",
       "      <td>20.00</td>\n",
       "      <td>0.0</td>\n",
       "      <td>8.231328e+08</td>\n",
       "      <td>1.0</td>\n",
       "      <td>...</td>\n",
       "      <td>0</td>\n",
       "      <td>0</td>\n",
       "      <td>0</td>\n",
       "      <td>0</td>\n",
       "      <td>0</td>\n",
       "      <td>1</td>\n",
       "      <td>0</td>\n",
       "      <td>0</td>\n",
       "      <td>0</td>\n",
       "      <td>0</td>\n",
       "    </tr>\n",
       "    <tr>\n",
       "      <th>5</th>\n",
       "      <td>5000.0</td>\n",
       "      <td>7.90</td>\n",
       "      <td>156.46</td>\n",
       "      <td>3</td>\n",
       "      <td>36000.0</td>\n",
       "      <td>1</td>\n",
       "      <td>11.20</td>\n",
       "      <td>0.0</td>\n",
       "      <td>1.099267e+09</td>\n",
       "      <td>3.0</td>\n",
       "      <td>...</td>\n",
       "      <td>0</td>\n",
       "      <td>0</td>\n",
       "      <td>0</td>\n",
       "      <td>0</td>\n",
       "      <td>0</td>\n",
       "      <td>0</td>\n",
       "      <td>0</td>\n",
       "      <td>0</td>\n",
       "      <td>0</td>\n",
       "      <td>1</td>\n",
       "    </tr>\n",
       "  </tbody>\n",
       "</table>\n",
       "<p>5 rows × 40 columns</p>\n",
       "</div>"
      ],
      "text/plain": [
       "   loan_amnt  int_rate  installment  emp_length  annual_inc  loan_status  \\\n",
       "0     5000.0     10.65       162.87          10     24000.0            1   \n",
       "1     2500.0     15.27        59.83           0     30000.0            0   \n",
       "2     2400.0     15.96        84.33          10     12252.0            1   \n",
       "3    10000.0     13.49       339.31          10     49200.0            1   \n",
       "5     5000.0      7.90       156.46           3     36000.0            1   \n",
       "\n",
       "     dti  delinq_2yrs  earliest_cr_line  inq_last_6mths   ...     \\\n",
       "0  27.65          0.0      4.733856e+08             1.0   ...      \n",
       "1   1.00          0.0      9.229248e+08             5.0   ...      \n",
       "2   8.72          0.0      1.004573e+09             2.0   ...      \n",
       "3  20.00          0.0      8.231328e+08             1.0   ...      \n",
       "5  11.20          0.0      1.099267e+09             3.0   ...      \n",
       "\n",
       "   home_improvement  house  major_purchase  medical  moving  other  \\\n",
       "0                 0      0               0        0       0      0   \n",
       "1                 0      0               0        0       0      0   \n",
       "2                 0      0               0        0       0      0   \n",
       "3                 0      0               0        0       0      1   \n",
       "5                 0      0               0        0       0      0   \n",
       "\n",
       "   renewable_energy  small_business  vacation  wedding  \n",
       "0                 0               0         0        0  \n",
       "1                 0               0         0        0  \n",
       "2                 0               1         0        0  \n",
       "3                 0               0         0        0  \n",
       "5                 0               0         0        1  \n",
       "\n",
       "[5 rows x 40 columns]"
      ]
     },
     "execution_count": 17,
     "metadata": {},
     "output_type": "execute_result"
    }
   ],
   "source": [
    "print(\"\\n----------------------------------\\nShape after pre-processing\\n----------------------------------\\n\", loans_2007.shape)\n",
    "loans_2007.head()"
   ]
  },
  {
   "cell_type": "markdown",
   "metadata": {},
   "source": [
    "---\n",
    "<a id='section14'></a>\n",
    "# Modeling and Testing\n",
    "<a id='section15'></a>\n",
    "## Class Imbalance\n",
    "As I mentioned earlier, there are 6 times as many loans that were paid off on time (1), than loans that weren't paid off on time (0) in the dataset. This means even if the classifier predicted all ones (all loans will be paid off on time, which would make us lose money for a decent amount of cases, the model would still have a high accuracy).\n",
    "\n",
    "As an example, if there were 6 loans that were paid off on time and 1 that wasn't, if our model predicted all ones that'd mean that investing 1000 dollars with a 10 percent interest on each one would lose us $400 overall.\n",
    "\n",
    "- **(<font color='green'>100</font>x6) - (<font color='red'>1000</font>x1) = <font color='red'>-400</font> dollars**\n",
    "\n",
    "That's why using accuracy for this particular dataset is not a good idea. Instead, we can compute the True Positive Rate (TPR) (high recall) and False Positive Rate (FPR) (low fall-out).\n"
   ]
  },
  {
   "cell_type": "markdown",
   "metadata": {},
   "source": [
    "<a id='section16'></a>\n",
    "## Error Metric\n",
    "Following what I mentioned in the 'Class Imbalance' section, our objective is to predict whether or not we should fund a loan based on whether a borrower will pay off their loan on time or not. Since the ultimate objective is to make money, ideally we want to fund enough loans that are paid off on time to offset our losses from loans that aren't paid off. \n",
    "\n",
    "From an investor perspective, we want to pay attention to:\n",
    "\n",
    "- **False Positives (FP):** the model predicts a loan will be paid off on time, but it actually isn't.\n",
    "- **False Negatives (FN):** the model predicts a loan will not be paid off on time, but it actually is.\n",
    "\n",
    "False Positives (FP) will cost us money, and False Negatives (FN) will lose us potential money. From the perspective of a conservative investor and to minimize risk, we need to avoid false positives as much as possible, since losing actual money by funding a risky loan (false positives) would be worse than losing potential money by missing out on opportunities (false negatives).\n",
    "\n",
    "To sum it up, the error metric will be based on:\n",
    "\n",
    "| loan_status (Actual) | Prediction   |     Error Type     |\n",
    "|----------------------|--------------|--------------------|\n",
    "|          0           |       1      | False Positive (FP)\n",
    "|          1           |       1      | True Positive (TP)\n",
    "|          0           |       0      | True Negative (TN)\n",
    "|          1           |       0      | False Negative (FN)\n",
    "\n",
    "So that we can compute the True Positive Rate (TPR) and False Positive Rate (FPR), as follows:\n",
    "\n",
    "- **FPR = FP / (FP + TN)**, which divides all the cases where we thought a loan would be paid off but it wasn't by all the loans that weren't paid off (what percentage of the loans that I fund would not be repaid).\n",
    "- **TPR = TP / (TP + FN)**, which divides all the cases where we thought a loan would be paid off and it was by all the loans that were paid off (what percentage of loans that could be funded would I fund).\n",
    "\n",
    "Let's create a function to calculate FPR and TPR from the actual and predicted values of a model."
   ]
  },
  {
   "cell_type": "code",
   "execution_count": 18,
   "metadata": {},
   "outputs": [],
   "source": [
    "def tpr_fpr(actual, predicted):\n",
    "    # FP\n",
    "    fp_filter = (actual == 0) & (predicted == 1)\n",
    "    fp = len(predicted[fp_filter])\n",
    "    \n",
    "    # TP\n",
    "    tp_filter = (actual == 1) & (predicted == 1) \n",
    "    tp = len(predicted[tp_filter])\n",
    "\n",
    "    # TN\n",
    "    tn_filter = (actual == 0) & (predicted == 0)\n",
    "    tn = len(predicted[tn_filter])\n",
    "    \n",
    "    # FN\n",
    "    fn_filter = (actual == 1) &(predicted == 0)\n",
    "    fn = len(predicted[fn_filter])\n",
    "\n",
    "    tpr = tp  / (tp + fn)\n",
    "    fpr = fp  / (fp + tn)\n",
    "    \n",
    "    return(fpr, tpr)"
   ]
  },
  {
   "cell_type": "markdown",
   "metadata": {},
   "source": [
    "---\n",
    "<a id='section17'></a>\n",
    "## Logistic Regression Model - Cross Validation\n",
    "Let's start out by testing a logistic regression model performance by using a 3-fold cross validation."
   ]
  },
  {
   "cell_type": "code",
   "execution_count": 19,
   "metadata": {},
   "outputs": [
    {
     "name": "stdout",
     "output_type": "stream",
     "text": [
      "\n",
      "----------------------------------\n",
      "Logistic Regression\n",
      "----------------------------------\n",
      "FPR: 1.0\n",
      "TPR: 1.0\n"
     ]
    }
   ],
   "source": [
    "# Data preparation\n",
    "target = 'loan_status'\n",
    "X_train = loans_2007.loc[:, loans_2007.columns != target]\n",
    "y_train = loans_2007[target]\n",
    "\n",
    "# LR Model\n",
    "lr = LogisticRegression()\n",
    "\n",
    "# Train\n",
    "predictions_lr = cross_val_predict(lr, X_train, y_train, cv=3)\n",
    "predictions_lr = pd.Series(predictions_lr)\n",
    "\n",
    "# Test performance - FPR and TPR\n",
    "fpr_lr, tpr_lr = tpr_fpr(y_train, predictions_lr)\n",
    "\n",
    "print(\"\\n----------------------------------\\nLogistic Regression\\n----------------------------------\")\n",
    "print(\"FPR:\", fpr_lr)\n",
    "print(\"TPR:\", tpr_lr)"
   ]
  },
  {
   "cell_type": "markdown",
   "metadata": {},
   "source": [
    "We can see that the FPR and TPR are around what we'd expect if the model was predicting all ones. This is because even though we're not using accuracy as an error metric, the classifier is, and it isn't accounting for the imbalance in the classes.\n",
    "\n",
    "In order to solve that, we can either:\n",
    "\n",
    "1. Use oversampling and undersampling to ensure that the classifier gets input that has a balanced number of each class.\n",
    "2. Tell the classifier to penalize misclassifications of the less prevalent class more than the other class.\n",
    "\n",
    "For the purpose of this project and because of the ease of implementation in scikit-learn, I will use the second method. To do so, let's change the 'class_weight' parameter in the LogisticRegression instance, which will penalize the misclassification of the minority class (0) during the training process."
   ]
  },
  {
   "cell_type": "code",
   "execution_count": 20,
   "metadata": {},
   "outputs": [
    {
     "name": "stdout",
     "output_type": "stream",
     "text": [
      "\n",
      "----------------------------------\n",
      "Logistic Regression\n",
      "----------------------------------\n",
      "FPR: 0.09753208292201382\n",
      "TPR: 0.1013371788148925\n"
     ]
    }
   ],
   "source": [
    "penalty = {\n",
    "    0: 7,\n",
    "    1: 1\n",
    "}\n",
    "\n",
    "# LR Model\n",
    "lr = LogisticRegression(class_weight=penalty)\n",
    "\n",
    "# Train\n",
    "predictions_lr = cross_val_predict(lr, X_train, y_train, cv=3)\n",
    "predictions_lr = pd.Series(predictions_lr)\n",
    "\n",
    "# Test performance - FPR and TPR\n",
    "fpr_lr, tpr_lr = tpr_fpr(y_train, predictions_lr)\n",
    "\n",
    "print(\"\\n----------------------------------\\nLogistic Regression\\n----------------------------------\")\n",
    "print(\"FPR:\", fpr_lr)\n",
    "print(\"TPR:\", tpr_lr)"
   ]
  },
  {
   "cell_type": "markdown",
   "metadata": {},
   "source": [
    "We can see how the FPR fell to around 9%. While this means that an investor will be able to do a better job at avoiding bad loans than if he/she funded everything, the TPR also fell to around 10%, which means that same investor will decide to fund only 10% of the total loans that are going to be paid off."
   ]
  },
  {
   "cell_type": "markdown",
   "metadata": {},
   "source": [
    "---\n",
    "<a id='section18'></a>\n",
    "## Random Forests\n",
    "Let's test a random forest model with a higher class weight penalty."
   ]
  },
  {
   "cell_type": "code",
   "execution_count": 21,
   "metadata": {},
   "outputs": [
    {
     "name": "stdout",
     "output_type": "stream",
     "text": [
      "\n",
      "----------------------------------\n",
      "Random Forests\n",
      "----------------------------------\n",
      "FPR: 0.9569595261599211\n",
      "TPR: 0.9542475091767174\n"
     ]
    }
   ],
   "source": [
    "penalty = {\n",
    "    0: 10,\n",
    "    1: 1\n",
    "}\n",
    "\n",
    "# RF Model\n",
    "rf = RandomForestClassifier(class_weight=penalty, random_state=1)\n",
    "\n",
    "# Train\n",
    "predictions_rf = cross_val_predict(rf, X_train, y_train, cv=3)\n",
    "predictions_rf = pd.Series(predictions_rf)\n",
    "\n",
    "# Test performance - FPR and TPR\n",
    "fpr_rf, tpr_rf = tpr_fpr(y_train, predictions_rf)\n",
    "\n",
    "print(\"\\n----------------------------------\\nRandom Forests\\n----------------------------------\")\n",
    "print(\"FPR:\", fpr_rf)\n",
    "print(\"TPR:\", tpr_rf)"
   ]
  },
  {
   "cell_type": "markdown",
   "metadata": {},
   "source": [
    "While the TPR went up again, it looks like the model is likely weighting too heavily on the 1 class, and still mostly predicting ones."
   ]
  },
  {
   "cell_type": "markdown",
   "metadata": {},
   "source": [
    "<a id='section19'></a>\n",
    "## Ensembled model: LightGBM + XGBoost\n",
    "Lastly, let's test LightGBM and XGBoost on an ensemble model."
   ]
  },
  {
   "cell_type": "code",
   "execution_count": 22,
   "metadata": {},
   "outputs": [
    {
     "name": "stdout",
     "output_type": "stream",
     "text": [
      "------------------------------------------------\n",
      "Shapes:\n",
      "------------------------------------------------\n",
      "(25242, 39) (12433, 39) (25242,) (12433,)\n"
     ]
    }
   ],
   "source": [
    "# Data Preparation\n",
    "X = loans_2007.loc[:, loans_2007.columns != target]\n",
    "y = loans_2007[target]\n",
    "\n",
    "X_train, X_test, y_train, y_test = train_test_split(X, y, test_size=0.33, random_state=42)\n",
    "print(\"------------------------------------------------\\nShapes:\\n------------------------------------------------\")\n",
    "print(X_train.shape, X_test.shape, y_train.shape, y_test.shape)"
   ]
  },
  {
   "cell_type": "markdown",
   "metadata": {},
   "source": [
    "<a id='section20'></a>\n",
    "### LightGBM"
   ]
  },
  {
   "cell_type": "code",
   "execution_count": 23,
   "metadata": {},
   "outputs": [
    {
     "name": "stdout",
     "output_type": "stream",
     "text": [
      "LGB 0--------------------------------------------------\n",
      "Training until validation scores don't improve for 500 rounds.\n",
      "[200]\ttraining's rmse: 0.319349\tvalid_1's rmse: 0.324839\n",
      "[400]\ttraining's rmse: 0.307207\tvalid_1's rmse: 0.32128\n",
      "[600]\ttraining's rmse: 0.298754\tvalid_1's rmse: 0.320245\n",
      "[800]\ttraining's rmse: 0.29188\tvalid_1's rmse: 0.319989\n",
      "[1000]\ttraining's rmse: 0.286081\tvalid_1's rmse: 0.319882\n",
      "[1200]\ttraining's rmse: 0.280975\tvalid_1's rmse: 0.319889\n",
      "[1400]\ttraining's rmse: 0.27628\tvalid_1's rmse: 0.32009\n",
      "Early stopping, best iteration is:\n",
      "[1026]\ttraining's rmse: 0.285382\tvalid_1's rmse: 0.319839\n",
      "LGB 1--------------------------------------------------\n",
      "Training until validation scores don't improve for 500 rounds.\n",
      "[200]\ttraining's rmse: 0.31945\tvalid_1's rmse: 0.326898\n",
      "[400]\ttraining's rmse: 0.307656\tvalid_1's rmse: 0.321935\n",
      "[600]\ttraining's rmse: 0.29944\tvalid_1's rmse: 0.320243\n",
      "[800]\ttraining's rmse: 0.292708\tvalid_1's rmse: 0.31958\n",
      "[1000]\ttraining's rmse: 0.28705\tvalid_1's rmse: 0.319299\n",
      "[1200]\ttraining's rmse: 0.28193\tvalid_1's rmse: 0.319238\n",
      "[1400]\ttraining's rmse: 0.277321\tvalid_1's rmse: 0.319239\n",
      "[1600]\ttraining's rmse: 0.272942\tvalid_1's rmse: 0.319303\n",
      "Early stopping, best iteration is:\n",
      "[1141]\ttraining's rmse: 0.283378\tvalid_1's rmse: 0.319198\n",
      "LGB 2--------------------------------------------------\n",
      "Training until validation scores don't improve for 500 rounds.\n",
      "[200]\ttraining's rmse: 0.319156\tvalid_1's rmse: 0.327608\n",
      "[400]\ttraining's rmse: 0.307031\tvalid_1's rmse: 0.323287\n",
      "[600]\ttraining's rmse: 0.298585\tvalid_1's rmse: 0.322185\n",
      "[800]\ttraining's rmse: 0.291863\tvalid_1's rmse: 0.321766\n",
      "[1000]\ttraining's rmse: 0.286089\tvalid_1's rmse: 0.321695\n",
      "[1200]\ttraining's rmse: 0.281039\tvalid_1's rmse: 0.321827\n",
      "[1400]\ttraining's rmse: 0.276343\tvalid_1's rmse: 0.321935\n",
      "Early stopping, best iteration is:\n",
      "[909]\ttraining's rmse: 0.288619\tvalid_1's rmse: 0.32165\n",
      "LGB 3--------------------------------------------------\n",
      "Training until validation scores don't improve for 500 rounds.\n",
      "[200]\ttraining's rmse: 0.319763\tvalid_1's rmse: 0.3244\n",
      "[400]\ttraining's rmse: 0.307674\tvalid_1's rmse: 0.319923\n",
      "[600]\ttraining's rmse: 0.299238\tvalid_1's rmse: 0.318613\n",
      "[800]\ttraining's rmse: 0.29237\tvalid_1's rmse: 0.318306\n",
      "[1000]\ttraining's rmse: 0.286516\tvalid_1's rmse: 0.318258\n",
      "[1200]\ttraining's rmse: 0.281288\tvalid_1's rmse: 0.318287\n",
      "[1400]\ttraining's rmse: 0.276475\tvalid_1's rmse: 0.318432\n",
      "Early stopping, best iteration is:\n",
      "[1076]\ttraining's rmse: 0.284459\tvalid_1's rmse: 0.318211\n",
      "LGB 4--------------------------------------------------\n",
      "Training until validation scores don't improve for 500 rounds.\n",
      "[200]\ttraining's rmse: 0.317242\tvalid_1's rmse: 0.33478\n",
      "[400]\ttraining's rmse: 0.305166\tvalid_1's rmse: 0.330835\n",
      "[600]\ttraining's rmse: 0.296821\tvalid_1's rmse: 0.329515\n",
      "[800]\ttraining's rmse: 0.290087\tvalid_1's rmse: 0.329087\n",
      "[1000]\ttraining's rmse: 0.284335\tvalid_1's rmse: 0.329007\n",
      "[1200]\ttraining's rmse: 0.279149\tvalid_1's rmse: 0.32896\n",
      "[1400]\ttraining's rmse: 0.274298\tvalid_1's rmse: 0.328981\n",
      "[1600]\ttraining's rmse: 0.269904\tvalid_1's rmse: 0.329128\n",
      "Early stopping, best iteration is:\n",
      "[1182]\ttraining's rmse: 0.279585\tvalid_1's rmse: 0.328943\n",
      "\n",
      "----------------------------------\n",
      "LightGBM\n",
      "----------------------------------\n",
      "FPR: 0.9109919571045576\n",
      "TPR: 0.9918622255866768\n"
     ]
    }
   ],
   "source": [
    "# Model\n",
    "lgb_params = {'num_leaves': 50,\n",
    "         'min_data_in_leaf': 30, \n",
    "         'objective':'regression',\n",
    "         'max_depth': -1,\n",
    "         'learning_rate': 0.005,\n",
    "         \"boosting\": \"gbdt\",\n",
    "         \"feature_fraction\": 0.9,\n",
    "         \"bagging_freq\": 1,\n",
    "         \"bagging_fraction\": 0.9,\n",
    "         \"bagging_seed\": 11,\n",
    "         \"metric\": 'rmse',\n",
    "         \"lambda_l1\": 0.1,\n",
    "         \"verbosity\": -1}\n",
    "\n",
    "FOLDs = KFold(n_splits=5, shuffle=True, random_state=1989)\n",
    "\n",
    "oof_lgb = np.zeros(len(X_train))\n",
    "predictions_lgb = np.zeros(len(X_test))\n",
    "\n",
    "features_lgb = list(X_train.columns)\n",
    "feature_importance_df_lgb = pd.DataFrame()\n",
    "\n",
    "for fold_, (trn_idx, val_idx) in enumerate(FOLDs.split(X_train)):\n",
    "    trn_data = lgb.Dataset(X_train.iloc[trn_idx], label=y_train.iloc[trn_idx])\n",
    "    val_data = lgb.Dataset(X_train.iloc[val_idx], label=y_train.iloc[val_idx])\n",
    "\n",
    "    print(\"LGB \" + str(fold_) + \"-\" * 50)\n",
    "    num_round = 2000\n",
    "    clf = lgb.train(lgb_params, trn_data, num_round, valid_sets = [trn_data, val_data], verbose_eval=200, early_stopping_rounds = 500)\n",
    "    oof_lgb[val_idx] = clf.predict(X_train.iloc[val_idx], num_iteration=clf.best_iteration)\n",
    "\n",
    "    fold_importance_df_lgb = pd.DataFrame()\n",
    "    fold_importance_df_lgb[\"feature\"] = features_lgb\n",
    "    fold_importance_df_lgb[\"importance\"] = clf.feature_importance()\n",
    "    fold_importance_df_lgb[\"fold\"] = fold_ + 1\n",
    "    feature_importance_df_lgb = pd.concat([feature_importance_df_lgb, fold_importance_df_lgb], axis=0)\n",
    "    predictions_lgb += clf.predict(X_test, num_iteration=clf.best_iteration) / FOLDs.n_splits\n",
    "    \n",
    "# Test performance - FPR and TPR\n",
    "fpr_lgb, tpr_lgb = tpr_fpr(y_test, np.round(predictions_lgb))\n",
    "\n",
    "print(\"\\n----------------------------------\\nLightGBM\\n----------------------------------\")\n",
    "print(\"FPR:\", fpr_lgb)\n",
    "print(\"TPR:\", tpr_lgb)"
   ]
  },
  {
   "cell_type": "markdown",
   "metadata": {},
   "source": [
    "<a id='section21'></a>\n",
    "### XGBoost"
   ]
  },
  {
   "cell_type": "code",
   "execution_count": 24,
   "metadata": {},
   "outputs": [
    {
     "name": "stdout",
     "output_type": "stream",
     "text": [
      "xgb 0--------------------------------------------------\n",
      "[0]\ttrain-rmse:0.499704\tvalid-rmse:0.499717\n",
      "Multiple eval metrics have been passed: 'valid-rmse' will be used for early stopping.\n",
      "\n",
      "Will train until valid-rmse hasn't improved in 10 rounds.\n",
      "[200]\ttrain-rmse:0.447687\tvalid-rmse:0.450048\n",
      "[400]\ttrain-rmse:0.408104\tvalid-rmse:0.413104\n"
     ]
    },
    {
     "ename": "KeyboardInterrupt",
     "evalue": "",
     "output_type": "error",
     "traceback": [
      "\u001b[0;31m---------------------------------------------------------------------------\u001b[0m",
      "\u001b[0;31mKeyboardInterrupt\u001b[0m                         Traceback (most recent call last)",
      "\u001b[0;32m<ipython-input-24-ad60846001bb>\u001b[0m in \u001b[0;36m<module>\u001b[0;34m()\u001b[0m\n\u001b[1;32m     13\u001b[0m     \u001b[0mprint\u001b[0m\u001b[0;34m(\u001b[0m\u001b[0;34m\"xgb \"\u001b[0m \u001b[0;34m+\u001b[0m \u001b[0mstr\u001b[0m\u001b[0;34m(\u001b[0m\u001b[0mfold_\u001b[0m\u001b[0;34m)\u001b[0m \u001b[0;34m+\u001b[0m \u001b[0;34m\"-\"\u001b[0m \u001b[0;34m*\u001b[0m \u001b[0;36m50\u001b[0m\u001b[0;34m)\u001b[0m\u001b[0;34m\u001b[0m\u001b[0m\n\u001b[1;32m     14\u001b[0m     \u001b[0mnum_round\u001b[0m \u001b[0;34m=\u001b[0m \u001b[0;36m2000\u001b[0m\u001b[0;34m\u001b[0m\u001b[0m\n\u001b[0;32m---> 15\u001b[0;31m     \u001b[0mxgb_model\u001b[0m \u001b[0;34m=\u001b[0m \u001b[0mxgb\u001b[0m\u001b[0;34m.\u001b[0m\u001b[0mtrain\u001b[0m\u001b[0;34m(\u001b[0m\u001b[0mxgb_params\u001b[0m\u001b[0;34m,\u001b[0m \u001b[0mtrn_data\u001b[0m\u001b[0;34m,\u001b[0m \u001b[0mnum_round\u001b[0m\u001b[0;34m,\u001b[0m \u001b[0mwatchlist\u001b[0m\u001b[0;34m,\u001b[0m \u001b[0mearly_stopping_rounds\u001b[0m\u001b[0;34m=\u001b[0m\u001b[0;36m10\u001b[0m\u001b[0;34m,\u001b[0m \u001b[0mverbose_eval\u001b[0m\u001b[0;34m=\u001b[0m\u001b[0;36m200\u001b[0m\u001b[0;34m)\u001b[0m\u001b[0;34m\u001b[0m\u001b[0m\n\u001b[0m\u001b[1;32m     16\u001b[0m     \u001b[0moof_xgb\u001b[0m\u001b[0;34m[\u001b[0m\u001b[0mval_idx\u001b[0m\u001b[0;34m]\u001b[0m \u001b[0;34m=\u001b[0m \u001b[0mxgb_model\u001b[0m\u001b[0;34m.\u001b[0m\u001b[0mpredict\u001b[0m\u001b[0;34m(\u001b[0m\u001b[0mxgb\u001b[0m\u001b[0;34m.\u001b[0m\u001b[0mDMatrix\u001b[0m\u001b[0;34m(\u001b[0m\u001b[0mX_train\u001b[0m\u001b[0;34m.\u001b[0m\u001b[0miloc\u001b[0m\u001b[0;34m[\u001b[0m\u001b[0mval_idx\u001b[0m\u001b[0;34m]\u001b[0m\u001b[0;34m)\u001b[0m\u001b[0;34m,\u001b[0m \u001b[0mntree_limit\u001b[0m\u001b[0;34m=\u001b[0m\u001b[0mxgb_model\u001b[0m\u001b[0;34m.\u001b[0m\u001b[0mbest_ntree_limit\u001b[0m\u001b[0;34m+\u001b[0m\u001b[0;36m50\u001b[0m\u001b[0;34m)\u001b[0m\u001b[0;34m\u001b[0m\u001b[0m\n\u001b[1;32m     17\u001b[0m \u001b[0;34m\u001b[0m\u001b[0m\n",
      "\u001b[0;32m~/anaconda3/lib/python3.6/site-packages/xgboost/training.py\u001b[0m in \u001b[0;36mtrain\u001b[0;34m(params, dtrain, num_boost_round, evals, obj, feval, maximize, early_stopping_rounds, evals_result, verbose_eval, xgb_model, callbacks, learning_rates)\u001b[0m\n\u001b[1;32m    202\u001b[0m                            \u001b[0mevals\u001b[0m\u001b[0;34m=\u001b[0m\u001b[0mevals\u001b[0m\u001b[0;34m,\u001b[0m\u001b[0;34m\u001b[0m\u001b[0m\n\u001b[1;32m    203\u001b[0m                            \u001b[0mobj\u001b[0m\u001b[0;34m=\u001b[0m\u001b[0mobj\u001b[0m\u001b[0;34m,\u001b[0m \u001b[0mfeval\u001b[0m\u001b[0;34m=\u001b[0m\u001b[0mfeval\u001b[0m\u001b[0;34m,\u001b[0m\u001b[0;34m\u001b[0m\u001b[0m\n\u001b[0;32m--> 204\u001b[0;31m                            xgb_model=xgb_model, callbacks=callbacks)\n\u001b[0m\u001b[1;32m    205\u001b[0m \u001b[0;34m\u001b[0m\u001b[0m\n\u001b[1;32m    206\u001b[0m \u001b[0;34m\u001b[0m\u001b[0m\n",
      "\u001b[0;32m~/anaconda3/lib/python3.6/site-packages/xgboost/training.py\u001b[0m in \u001b[0;36m_train_internal\u001b[0;34m(params, dtrain, num_boost_round, evals, obj, feval, xgb_model, callbacks)\u001b[0m\n\u001b[1;32m     72\u001b[0m         \u001b[0;31m# Skip the first update if it is a recovery step.\u001b[0m\u001b[0;34m\u001b[0m\u001b[0;34m\u001b[0m\u001b[0m\n\u001b[1;32m     73\u001b[0m         \u001b[0;32mif\u001b[0m \u001b[0mversion\u001b[0m \u001b[0;34m%\u001b[0m \u001b[0;36m2\u001b[0m \u001b[0;34m==\u001b[0m \u001b[0;36m0\u001b[0m\u001b[0;34m:\u001b[0m\u001b[0;34m\u001b[0m\u001b[0m\n\u001b[0;32m---> 74\u001b[0;31m             \u001b[0mbst\u001b[0m\u001b[0;34m.\u001b[0m\u001b[0mupdate\u001b[0m\u001b[0;34m(\u001b[0m\u001b[0mdtrain\u001b[0m\u001b[0;34m,\u001b[0m \u001b[0mi\u001b[0m\u001b[0;34m,\u001b[0m \u001b[0mobj\u001b[0m\u001b[0;34m)\u001b[0m\u001b[0;34m\u001b[0m\u001b[0m\n\u001b[0m\u001b[1;32m     75\u001b[0m             \u001b[0mbst\u001b[0m\u001b[0;34m.\u001b[0m\u001b[0msave_rabit_checkpoint\u001b[0m\u001b[0;34m(\u001b[0m\u001b[0;34m)\u001b[0m\u001b[0;34m\u001b[0m\u001b[0m\n\u001b[1;32m     76\u001b[0m             \u001b[0mversion\u001b[0m \u001b[0;34m+=\u001b[0m \u001b[0;36m1\u001b[0m\u001b[0;34m\u001b[0m\u001b[0m\n",
      "\u001b[0;32m~/anaconda3/lib/python3.6/site-packages/xgboost/core.py\u001b[0m in \u001b[0;36mupdate\u001b[0;34m(self, dtrain, iteration, fobj)\u001b[0m\n\u001b[1;32m   1019\u001b[0m         \u001b[0;32mif\u001b[0m \u001b[0mfobj\u001b[0m \u001b[0;32mis\u001b[0m \u001b[0;32mNone\u001b[0m\u001b[0;34m:\u001b[0m\u001b[0;34m\u001b[0m\u001b[0m\n\u001b[1;32m   1020\u001b[0m             _check_call(_LIB.XGBoosterUpdateOneIter(self.handle, ctypes.c_int(iteration),\n\u001b[0;32m-> 1021\u001b[0;31m                                                     dtrain.handle))\n\u001b[0m\u001b[1;32m   1022\u001b[0m         \u001b[0;32melse\u001b[0m\u001b[0;34m:\u001b[0m\u001b[0;34m\u001b[0m\u001b[0m\n\u001b[1;32m   1023\u001b[0m             \u001b[0mpred\u001b[0m \u001b[0;34m=\u001b[0m \u001b[0mself\u001b[0m\u001b[0;34m.\u001b[0m\u001b[0mpredict\u001b[0m\u001b[0;34m(\u001b[0m\u001b[0mdtrain\u001b[0m\u001b[0;34m)\u001b[0m\u001b[0;34m\u001b[0m\u001b[0m\n",
      "\u001b[0;31mKeyboardInterrupt\u001b[0m: "
     ]
    }
   ],
   "source": [
    "xgb_params = {'eta': 0.001, 'max_depth': 7, 'subsample': 0.8, 'colsample_bytree': 0.8, \n",
    "          'objective': 'reg:linear', 'eval_metric': 'rmse', 'silent': True}\n",
    "\n",
    "FOLDs = KFold(n_splits=5, shuffle=True, random_state=1989)\n",
    "\n",
    "oof_xgb = np.zeros(len(X_train))\n",
    "predictions_xgb = np.zeros(len(X_test))\n",
    "\n",
    "for fold_, (trn_idx, val_idx) in enumerate(FOLDs.split(X_train)):\n",
    "    trn_data = xgb.DMatrix(data=X_train.iloc[trn_idx], label=y_train.iloc[trn_idx])\n",
    "    val_data = xgb.DMatrix(data=X_train.iloc[val_idx], label=y_train.iloc[val_idx])\n",
    "    watchlist = [(trn_data, 'train'), (val_data, 'valid')]\n",
    "    print(\"xgb \" + str(fold_) + \"-\" * 50)\n",
    "    num_round = 2000\n",
    "    xgb_model = xgb.train(xgb_params, trn_data, num_round, watchlist, early_stopping_rounds=10, verbose_eval=200)\n",
    "    oof_xgb[val_idx] = xgb_model.predict(xgb.DMatrix(X_train.iloc[val_idx]), ntree_limit=xgb_model.best_ntree_limit+50)\n",
    "\n",
    "    predictions_xgb += xgb_model.predict(xgb.DMatrix(X_test), ntree_limit=xgb_model.best_ntree_limit+50) / FOLDs.n_splits\n",
    "    \n",
    "    \n",
    "# Test performance - FPR and TPR\n",
    "fpr_xgb, tpr_xgb = tpr_fpr(y_test, np.round(predictions_xgb))\n",
    "\n",
    "print(\"\\n----------------------------------\\nXGBoost\\n----------------------------------\")\n",
    "print(\"FPR:\", fpr_xgb)\n",
    "print(\"TPR:\", tpr_xgb)"
   ]
  },
  {
   "cell_type": "markdown",
   "metadata": {},
   "source": [
    "<a id='section30'></a>\n",
    "### Ensemble"
   ]
  },
  {
   "cell_type": "code",
   "execution_count": null,
   "metadata": {},
   "outputs": [],
   "source": [
    "# Test performance - FPR and TPR (Ensemble)\n",
    "fpr_ens, tpr_ens = tpr_fpr(y_test, np.round(0.5*predictions_lgb + 0.5*predictions_xgb))\n",
    "\n",
    "print(\"\\n----------------------------------\\nEnsemble\\n----------------------------------\")\n",
    "print(\"FPR:\", fpr_ens)\n",
    "print(\"TPR:\", tpr_ens)"
   ]
  },
  {
   "cell_type": "markdown",
   "metadata": {},
   "source": [
    "---\n",
    "<a id='section22'></a>\n",
    "# Feature Importance"
   ]
  },
  {
   "cell_type": "code",
   "execution_count": null,
   "metadata": {},
   "outputs": [],
   "source": [
    "import seaborn as sns\n",
    "\n",
    "cols = (feature_importance_df_lgb[[\"feature\", \"importance\"]]\n",
    "        .groupby(\"feature\")\n",
    "        .mean()\n",
    "        .sort_values(by=\"importance\", ascending=False)[:1000].index)\n",
    "\n",
    "best_features = feature_importance_df_lgb.loc[feature_importance_df_lgb.feature.isin(cols)]\n",
    "\n",
    "plt.figure(figsize=(14,14))\n",
    "sns.barplot(x=\"importance\",\n",
    "            y=\"feature\",\n",
    "            data=best_features.sort_values(by=\"importance\",\n",
    "                                           ascending=False))\n",
    "plt.title('LightGBM Features (avg over folds)')\n",
    "plt.tight_layout()\n",
    "plt.savefig('lgbm_importances.png')"
   ]
  },
  {
   "cell_type": "markdown",
   "metadata": {},
   "source": [
    "---\n",
    "<a id='section23'></a>\n",
    "# Conclusions\n",
    "It looks like the last model is still weighting too heavily on the 1 class, and mostly predicting ones. However, we've tested the performance of difference models and seen the effect of tweaking the penalties for LR and RF.\n",
    "\n",
    "If we take other approaches to handle the class imbalance and achieve a more balanced dataset to test the models, the quality of the observations will improve and we could get a more accurate value of TPR and FPR.\n",
    "\n",
    "As a conclusion, for a conservative investor, given that the model returned a certain TPR and FPR (say 9% FPR and 10% TPR, like the Logistic Regression model previously tested), it means that he/she will make money as long as the interest rate is high enough to offset the losses from 9% of borrowers defaulting, and that the pool of 10% of borrowers is large enough to make enough interest money to offset the losses."
   ]
  },
  {
   "cell_type": "code",
   "execution_count": null,
   "metadata": {},
   "outputs": [],
   "source": []
  }
 ],
 "metadata": {
  "kernelspec": {
   "display_name": "Python 3",
   "language": "python",
   "name": "python3"
  },
  "language_info": {
   "codemirror_mode": {
    "name": "ipython",
    "version": 3
   },
   "file_extension": ".py",
   "mimetype": "text/x-python",
   "name": "python",
   "nbconvert_exporter": "python",
   "pygments_lexer": "ipython3",
   "version": "3.6.4"
  }
 },
 "nbformat": 4,
 "nbformat_minor": 2
}
