{
  "cells": [
    {
      "metadata": {
        "collapsed": true,
        "_uuid": "559c0f7f55e56b4bc240e2d6d2878fad98121bba"
      },
      "cell_type": "markdown",
      "source": "# Analyzing Ebay Car Sales Data\nby @antosnj\n\n# Introduction\nThis project aims to analyze the included used car listings from eBay Kleinanzeigen, a classifieds section of the German eBay website. "
    },
    {
      "metadata": {
        "trusted": true,
        "_uuid": "79aeb2d9a96ae71f54d3dc24b7843a556c483cec"
      },
      "cell_type": "code",
      "source": "%autosave 2\n\nimport pandas as pd\nimport numpy as np\nimport csv",
      "execution_count": null,
      "outputs": []
    },
    {
      "metadata": {
        "_uuid": "a3afceb932968ff52272074865b2c4f77f3b3d30"
      },
      "cell_type": "markdown",
      "source": "# Read in the data"
    },
    {
      "metadata": {
        "trusted": true,
        "_uuid": "a27a2bfdefbb59ccdb32878949a9d3a49327f7f3"
      },
      "cell_type": "code",
      "source": "autos = pd.read_csv('../input/autos.csv', encoding='Latin-1')\nprint(autos.info())\nautos.head()",
      "execution_count": null,
      "outputs": []
    },
    {
      "metadata": {
        "_uuid": "97ca7152f956ddd95556aacf7c2cf7d95fb7a3e3"
      },
      "cell_type": "markdown",
      "source": "# Cleaning"
    },
    {
      "metadata": {
        "scrolled": true,
        "trusted": true,
        "_uuid": "842b0525e148c6803f48db4a13b58c0214be5e06"
      },
      "cell_type": "code",
      "source": "autos.columns",
      "execution_count": null,
      "outputs": []
    },
    {
      "metadata": {
        "_uuid": "d19007ef10e883bc494e461bc05ccb922494d16d"
      },
      "cell_type": "markdown",
      "source": "Let's change the column names from camelcase to Python's preferred snakecase, as well as reword some of the column names based on the data dictionary in order to be more descriptive."
    },
    {
      "metadata": {
        "trusted": true,
        "_uuid": "03a35b3c4cbb409f3cbdc612fe82a0c0f6d41d9d"
      },
      "cell_type": "code",
      "source": "autos.columns = ['date_crawled', 'name', 'seller', 'offer_type', 'price', 'abtest',\n       'vehicle_type', 'registration_year', 'gearbox', 'power_PS', 'model',\n       'odometer', 'registration_month', 'fuel_type', 'brand',\n       'unrepaired_damage', 'ad_created', 'number_of_pictures', 'postal_code',\n       'date_last_seen']",
      "execution_count": null,
      "outputs": []
    },
    {
      "metadata": {
        "trusted": true,
        "_uuid": "4584c402848d2207cada4dbc3e536d24276f83bb"
      },
      "cell_type": "code",
      "source": "autos.head()",
      "execution_count": null,
      "outputs": []
    },
    {
      "metadata": {
        "_uuid": "275003df46b6738e607ccd84e16686cba74758c0"
      },
      "cell_type": "markdown",
      "source": "In order to clean the data a little more, let's take a closer look."
    },
    {
      "metadata": {
        "scrolled": false,
        "trusted": true,
        "_uuid": "bb50e98ca4a4aeac946f89b7bb4361f3270693d1"
      },
      "cell_type": "code",
      "source": "autos.describe(include='all')",
      "execution_count": null,
      "outputs": []
    },
    {
      "metadata": {
        "_uuid": "3dad1b7b1b8ceaa1053710fc4513dfc33532209c"
      },
      "cell_type": "markdown",
      "source": "Based on the statistics above, we can say a couple of things:\n\n- Columns 'seller', 'offer_type', 'abtest', 'gearbox', 'unrepaired_damage' have mostly one value, so they are candidates to be dropped.\n- The dtype for the 'price' and 'odometer' columns is str. \n- The 'number_of_pictures' column is all zeros, so we can drop it.\n\nLet's start by converting the dtype for the 'price' and 'odometer' columns  to a numeric (float) dtype after removing any non-numeric characters. "
    },
    {
      "metadata": {
        "scrolled": false,
        "trusted": true,
        "_uuid": "de8454a6bbba89385fd54d377668cd605e45f2b6"
      },
      "cell_type": "code",
      "source": "#'price' column\nautos[\"price\"] = autos[\"price\"].str.replace(\"$\",\"\").str.replace(\",\",\"\")\nautos[\"price\"] = autos[\"price\"].str.strip().astype(float)\n\n#'odometer' column\nautos[\"odometer\"] = autos[\"odometer\"].str.replace(\"km\",\"\").str.replace(\",\",\"\")\nautos[\"odometer\"] = autos[\"odometer\"].str.strip().astype(float)\n\n#Rename both\nautos = autos.rename(columns={\"price\": \"price_dollars\",\"odometer\": \"odometer_km\"})\n\nautos.head()",
      "execution_count": null,
      "outputs": []
    },
    {
      "metadata": {
        "_uuid": "dca90dd96a045b2e59af0a6f65aa6f0b0e7ed5a1"
      },
      "cell_type": "markdown",
      "source": "Next, let's find outliers in the two numerical columns, 'prices_dollars' and 'odometer_km'. To do so, I will take a look at some basic statistics using Series.describe() and use Series.value_counts() to see each value's frequency."
    },
    {
      "metadata": {
        "scrolled": true,
        "trusted": true,
        "_uuid": "a661797054e0acbc9ff22f3377892dfa8b0b27f4"
      },
      "cell_type": "code",
      "source": "autos[\"price_dollars\"].describe()",
      "execution_count": null,
      "outputs": []
    },
    {
      "metadata": {
        "trusted": true,
        "_uuid": "51fd002220f31296e666a12ab3660f6ab7b8cfdb"
      },
      "cell_type": "code",
      "source": "autos[\"odometer_km\"].describe()",
      "execution_count": null,
      "outputs": []
    },
    {
      "metadata": {
        "trusted": true,
        "_uuid": "05fec1c2bbbd5b627579992181e091c8ce42b9c1"
      },
      "cell_type": "code",
      "source": "autos[\"price_dollars\"].value_counts(ascending=False)",
      "execution_count": null,
      "outputs": []
    },
    {
      "metadata": {
        "_uuid": "7e94630ad3f98043001f47295301c4fbecc557ba"
      },
      "cell_type": "markdown",
      "source": "Based on the observations and each value's frequency, we could say prices between 100 and 100000 dollars is a good interval. Anything outside that interval will be excluded as an outlier."
    },
    {
      "metadata": {
        "trusted": true,
        "_uuid": "3bc3cd2dce22e8dfd2cbcfa912b512ccf8de2d05"
      },
      "cell_type": "code",
      "source": "price_interval = [100,100000]\n\nautos = autos.loc[autos[\"price_dollars\"].between(price_interval[0],price_interval[1])]\nautos[\"odometer_km\"].value_counts(ascending=False)",
      "execution_count": null,
      "outputs": []
    },
    {
      "metadata": {
        "collapsed": true,
        "_uuid": "e3836fff28518e83f81a5ec6654bb43f3b9fedd9"
      },
      "cell_type": "markdown",
      "source": "The 'odemeter_km' values seem reasonable for their nature, so I'll leave them like that.\n\nFinally, we can drop the 'number_of_pictures' column."
    },
    {
      "metadata": {
        "trusted": true,
        "_uuid": "cfa431d98a8d689e0c3fa1cac62d97f4107965a4"
      },
      "cell_type": "code",
      "source": "autos.drop('number_of_pictures', axis=1, inplace=True)",
      "execution_count": null,
      "outputs": []
    },
    {
      "metadata": {
        "_uuid": "6b4c555ce4e7e563a98b14276535cdcaddb574d3"
      },
      "cell_type": "markdown",
      "source": "# Analysis\n\nLet's start out by taking a look at the date columns: \"date_crawled\", \"ad_created\", \"date_last_seen\", \"registration_month\" and \"registration_year\". First, by using value_counts() I have created a normalized distribution of the values in each column, in order to use percentages instead of counts:"
    },
    {
      "metadata": {
        "trusted": true,
        "_uuid": "79bd78c9dac9b9b1d0d3ea1d353ec137bdda56b8"
      },
      "cell_type": "code",
      "source": "date_crawled_dist = autos[\"date_crawled\"].value_counts(normalize=True, dropna=False)\nad_created_dist = autos[\"ad_created\"].value_counts(normalize=True, dropna=False)\nlast_seen_dist = autos[\"date_last_seen\"].value_counts(normalize=True, dropna=False)\n\nprint(date_crawled_dist,ad_created_dist,last_seen_dist)",
      "execution_count": null,
      "outputs": []
    },
    {
      "metadata": {
        "_uuid": "78a3ad708ba4d9845ba3a9e89606f586f93144c1"
      },
      "cell_type": "markdown",
      "source": "Now, let's sort the distributions by index:"
    },
    {
      "metadata": {
        "trusted": true,
        "_uuid": "eb55a322730d06bc6398b4dfbf78ca45719d1d7a"
      },
      "cell_type": "code",
      "source": "sorted_date_crawled = date_crawled_dist.sort_index()\nsorted_ad_created = ad_created_dist.sort_index()\nsorted_last_seen = last_seen_dist.sort_index()\n\nprint(sorted_date_crawled,sorted_ad_created,sorted_last_seen)",
      "execution_count": null,
      "outputs": []
    },
    {
      "metadata": {
        "_uuid": "8d2a7b2c1455e1ecc7557d2404b8b8101a00eae9"
      },
      "cell_type": "markdown",
      "source": "Based on the observations above, we can see that most the values were uniformly crawled (data_crawled) in March and April, 2016, whereas the date_last_seen column includes values from April, for the most part. The ads have been created since August, 2015, but the majority of them have also been created in March-April. \n\nAnother important observation is that for the date the ads were created the dataset does not include the exact time at that particular day in the timestamp.\n\nNow, let's take a look at the registration year column:"
    },
    {
      "metadata": {
        "trusted": true,
        "_uuid": "8a5f0918e15f6365899a687b3ecf8bfa5b8d9ce6"
      },
      "cell_type": "code",
      "source": "autos[\"registration_year\"].describe()",
      "execution_count": null,
      "outputs": []
    },
    {
      "metadata": {
        "_uuid": "e48479c8563fbb5fc8797e6df05eb1a02903b0a4"
      },
      "cell_type": "markdown",
      "source": "We can see how the minimum and maximum year values do not make sense at all, since in year 1000 cars were still not invented and we cannot have data from year 9999.\n\nAlso, because a car can't be first registered before the listing was seen, any vehicle with a registration year above 2016 is definitely inaccurate. For that reason, let's count the number of listings with cars that fall outside the 1900 - 2016 interval (which sounds reasonable dates considering when cars were invented) and see if it's safe to remove those rows entirely"
    },
    {
      "metadata": {
        "trusted": true,
        "_uuid": "e67d2849174c927b771f7386faeeaa34ac23370a"
      },
      "cell_type": "code",
      "source": "autos.loc[autos[\"registration_year\"].between(1900,2016)].shape",
      "execution_count": null,
      "outputs": []
    },
    {
      "metadata": {
        "_uuid": "9467973db76ea2ff485ce228544820b909072ae5"
      },
      "cell_type": "markdown",
      "source": "Out of 50000, only about 3700 cars fall outside the interval, so I would say it is safe to remove those rows."
    },
    {
      "metadata": {
        "trusted": true,
        "_uuid": "a80df89086a832b58a3b77fba5086645ed31262e"
      },
      "cell_type": "code",
      "source": "autos.drop(autos[~autos[\"registration_year\"].between(1900,2016)].index, inplace=True)",
      "execution_count": null,
      "outputs": []
    },
    {
      "metadata": {
        "_uuid": "96b4564a486161d20196ab37f6237cc20bcb611b"
      },
      "cell_type": "markdown",
      "source": "Let's now see how the registration year distribution looks like after cleaning:"
    },
    {
      "metadata": {
        "trusted": true,
        "_uuid": "aaf63fcb2a2a45c3cd8afb65c712ec2bcd2e0501"
      },
      "cell_type": "code",
      "source": "autos[\"registration_year\"].value_counts(normalize=True)",
      "execution_count": null,
      "outputs": []
    },
    {
      "metadata": {
        "_uuid": "dbe04c9165fa6a075fe9b78d925c14dba50beaa5"
      },
      "cell_type": "markdown",
      "source": "Most of the registration years are dated from the 1990s on, showing year 2000 as the leader with close to a 7% percent of registered cars."
    },
    {
      "metadata": {
        "_uuid": "7ebb5213ad263ef62c39d20f5b14d3f719b751e7"
      },
      "cell_type": "markdown",
      "source": "Now, let's explore variations across those car brands that have over a 5% of the total values."
    },
    {
      "metadata": {
        "trusted": true,
        "_uuid": "7cd89fafb9c53454e31e52293cba0fe15fe46c15"
      },
      "cell_type": "code",
      "source": "autos[\"brand\"].value_counts(normalize=True)>0.05",
      "execution_count": null,
      "outputs": []
    },
    {
      "metadata": {
        "_uuid": "6954dcad9a01e5ec2a0a8e6021720fffab2671c7"
      },
      "cell_type": "markdown",
      "source": "As seen above, the selected brands to aggregate on are 'volkswagen','bmw','opel','mercedes_benz','audi' and 'ford'. Let's take a look at the mean price for those brands:"
    },
    {
      "metadata": {
        "trusted": true,
        "_uuid": "81354d060acc646433acbf51b5333d0925588030"
      },
      "cell_type": "code",
      "source": "aggregate_brands = ['volkswagen','bmw','opel','mercedes_benz','audi','ford']\nbrand_mean_prices = {}\nbrand_mean_mileage = {}\n\nfor brand in aggregate_brands:\n    analyzed_brand = autos.loc[autos[\"brand\"]==brand]\n    mean_price = analyzed_brand[\"price_dollars\"].mean()\n    mean_mileage = (analyzed_brand[\"odometer_km\"].mean())*0.621371 #Convert to miles\n    brand_mean_prices[brand] = mean_price\n    brand_mean_mileage[brand] = mean_mileage\n    \nprint(brand_mean_prices,\"\\n\\n\",brand_mean_mileage)",
      "execution_count": null,
      "outputs": []
    },
    {
      "metadata": {
        "_uuid": "9d9691c67edc35aa0f2bef0c7b69b5ba9a807adb"
      },
      "cell_type": "markdown",
      "source": "We can see that, on average, high-end/luxury car brands such us audi, bmw or mercedes_benz have a higher price (8000-9000 dollars), whereas more affordable brands like ford, opel and volkswagen offer lower prices (3000-5000 dollars), where volkswagen is sort of in between. However, as shown before in the brand distribution, the difference in price does not affect that significantly to buyers, since both brand levels have similar percentages of the total values. \n\nLet's put that along with the brands mean mileage together in a new dataframe, for an easier analysis."
    },
    {
      "metadata": {
        "trusted": true,
        "_uuid": "020327b14505fc014c087535d968cb3e1aa52fee"
      },
      "cell_type": "code",
      "source": "brand_mean_prices = pd.Series(brand_mean_prices)\nbrand_mean_mileage = pd.Series(brand_mean_mileage)\n\nnew_df = pd.DataFrame(brand_mean_prices, columns=[\"mean_price\"])\nnew_df[\"mean_mileage\"] = brand_mean_mileage\n\nnew_df",
      "execution_count": null,
      "outputs": []
    },
    {
      "metadata": {
        "_uuid": "41aca072bc3a4917cef134a47a4930c4f85ad390"
      },
      "cell_type": "markdown",
      "source": "We can see how regardless of the price every brand has, on average, a mileage of around 8000 miles."
    },
    {
      "metadata": {
        "_uuid": "fc206faea34d85fcc088657855ded4d09aa8a647"
      },
      "cell_type": "markdown",
      "source": "Next, let's clean the data a little more, starting by translating any German words."
    },
    {
      "metadata": {
        "trusted": true,
        "_uuid": "de72acc0e325c9c61c7870cd5b9bc2c155adff9c"
      },
      "cell_type": "code",
      "source": "autos.head()",
      "execution_count": null,
      "outputs": []
    },
    {
      "metadata": {
        "trusted": true,
        "_uuid": "13b14ab2db8a5db067b7ce21c75440dc1e3b9fda"
      },
      "cell_type": "code",
      "source": "#'seller' column\nautos[\"seller\"].unique()",
      "execution_count": null,
      "outputs": []
    },
    {
      "metadata": {
        "trusted": true,
        "_uuid": "3b551a2cb059294a46f41cc4b20dd30829968a39"
      },
      "cell_type": "code",
      "source": "autos.loc[autos[\"seller\"]=='privat',\"seller\"] = 'private'\nautos.loc[autos[\"seller\"]=='gewerblich',\"seller\"] = 'commercial'",
      "execution_count": null,
      "outputs": []
    },
    {
      "metadata": {
        "trusted": true,
        "_uuid": "2a4d6be78714e5af063718acfb883f3c4f144b8d"
      },
      "cell_type": "code",
      "source": "#'offer_type' column\nautos[\"offer_type\"].unique()",
      "execution_count": null,
      "outputs": []
    },
    {
      "metadata": {
        "trusted": true,
        "_uuid": "e85909e4073f9772420e9f3a0a1c416ae29a99de"
      },
      "cell_type": "code",
      "source": "autos[\"offer_type\"] = 'offer'",
      "execution_count": null,
      "outputs": []
    },
    {
      "metadata": {
        "trusted": true,
        "_uuid": "d4e6c4f80a3326df4338f3d880a855292be6f1f2"
      },
      "cell_type": "code",
      "source": "#'offer_type' column\nautos[\"vehicle_type\"].unique()",
      "execution_count": null,
      "outputs": []
    },
    {
      "metadata": {
        "trusted": true,
        "_uuid": "41770780d49740d5d63525cd49ea29813c1c952f"
      },
      "cell_type": "code",
      "source": "autos.loc[autos[\"vehicle_type\"]=='kleinwagen',\"vehicle_type\"] = 'compact car'\nautos.loc[autos[\"vehicle_type\"]=='kombi',\"vehicle_type\"] = 'caravan'\nautos.loc[autos[\"vehicle_type\"]=='andere',\"vehicle_type\"] = 'other'",
      "execution_count": null,
      "outputs": []
    },
    {
      "metadata": {
        "trusted": true,
        "_uuid": "7289dbf1e37948a6d294c1bc56035c4c8973758a"
      },
      "cell_type": "code",
      "source": "#'gearbox' column\nautos[\"gearbox\"].unique()",
      "execution_count": null,
      "outputs": []
    },
    {
      "metadata": {
        "trusted": true,
        "_uuid": "bd1840c4909c1ea83f440be395ac0899390a7023"
      },
      "cell_type": "code",
      "source": "autos.loc[autos[\"gearbox\"]=='manuell',\"gearbox\"] = 'manual'\nautos.loc[autos[\"gearbox\"]=='automatik',\"gearbox\"] = 'automatic'",
      "execution_count": null,
      "outputs": []
    },
    {
      "metadata": {
        "trusted": true,
        "_uuid": "b102de8fe875c32ae6596de9705348612c6204f4"
      },
      "cell_type": "code",
      "source": "#'model' column\nautos.loc[autos[\"model\"]=='andere',\"model\"] = 'other'",
      "execution_count": null,
      "outputs": []
    },
    {
      "metadata": {
        "trusted": true,
        "_uuid": "78207398c87734ccbe20bfaf2d4672330bbd81b0"
      },
      "cell_type": "code",
      "source": "#'fuel_type' column\nautos[\"fuel_type\"].unique()",
      "execution_count": null,
      "outputs": []
    },
    {
      "metadata": {
        "trusted": true,
        "_uuid": "e6fdffd7243dee13598cec708c56fa807ac4ac13"
      },
      "cell_type": "code",
      "source": "autos.loc[autos[\"fuel_type\"]=='benzin',\"fuel_type\"] = 'gasoline'\nautos.loc[autos[\"fuel_type\"]=='elektro',\"fuel_type\"] = 'electric'\nautos.loc[autos[\"fuel_type\"]=='andere',\"fuel_type\"] = 'other'",
      "execution_count": null,
      "outputs": []
    },
    {
      "metadata": {
        "trusted": true,
        "_uuid": "4fec5ec8f67c8496e0114597695340e8405c5223"
      },
      "cell_type": "code",
      "source": "#'unrepaired_damage' column\nautos[\"unrepaired_damage\"].unique()",
      "execution_count": null,
      "outputs": []
    },
    {
      "metadata": {
        "trusted": true,
        "_uuid": "ea76c829521c52049c61013b607b7762f7210562"
      },
      "cell_type": "code",
      "source": "autos.loc[autos[\"unrepaired_damage\"]=='nein',\"unrepaired_damage\"] = 'no'\nautos.loc[autos[\"unrepaired_damage\"]=='ja',\"unrepaired_damage\"] = 'yes'",
      "execution_count": null,
      "outputs": []
    },
    {
      "metadata": {
        "_uuid": "c419f5ad9db3b4437f17a816f53b643a1cd4d16e"
      },
      "cell_type": "markdown",
      "source": "Let's see how the dataframe looks like after translating from German:"
    },
    {
      "metadata": {
        "trusted": true,
        "_uuid": "f2faaf9fe37a7d0e2746b08250e18edd83cadebe"
      },
      "cell_type": "code",
      "source": "autos.head()",
      "execution_count": null,
      "outputs": []
    },
    {
      "metadata": {
        "_uuid": "ab102851d6505f8cdce4836dfcdadbe064e9ce65"
      },
      "cell_type": "markdown",
      "source": "Next, let's convert the dates to be uniform numeric data, starting by splitting date and time into two different columns."
    },
    {
      "metadata": {
        "trusted": true,
        "_uuid": "a705259fb9a74e5aa66d490f4083d0e7e6b3a15e"
      },
      "cell_type": "code",
      "source": "#Separate date and time into two different columns\nautos[\"date_crawled\"] = pd.Series(autos[\"date_crawled\"]).astype(object).astype(str)\nautos[\"ad_created\"] = pd.Series(autos[\"ad_created\"]).astype(object).astype(str)\nautos[\"date_last_seen\"] = pd.Series(autos[\"date_last_seen\"]).astype(object).astype(str)\n\nautos[[\"date_crawled\",\"time_crawled\"]] = autos[\"date_crawled\"].str.split(expand=True)\nautos[[\"ad_created\",\"time_ad_created\"]] = autos[\"ad_created\"].str.split(expand=True)\nautos[[\"date_last_seen\",\"time_last_seen\"]] = autos[\"date_last_seen\"].str.split(expand=True)",
      "execution_count": null,
      "outputs": []
    },
    {
      "metadata": {
        "_uuid": "3028f74276eeb8111a10095950f517de94553d04"
      },
      "cell_type": "markdown",
      "source": "Since in the 'time_ad_created' column the time does not give us any relevant information (all zeros), we can drop it."
    },
    {
      "metadata": {
        "trusted": true,
        "_uuid": "22897f2c52e6fb9d3a7c342e0f8b12f716afb3f4"
      },
      "cell_type": "code",
      "source": "autos.drop(\"time_ad_created\", axis=1, inplace=True)",
      "execution_count": null,
      "outputs": []
    },
    {
      "metadata": {
        "_uuid": "995faef5596bd1543d152489fc2b59eeac117f12"
      },
      "cell_type": "markdown",
      "source": "Lastly, let's convert the 'date_crawled', 'ad_created' and 'date_last_seen' columns to integer datatypes."
    },
    {
      "metadata": {
        "trusted": true,
        "_uuid": "ce771f5636bbefdedd40e8ad8048f12c13c4ea67"
      },
      "cell_type": "code",
      "source": "autos[\"date_crawled\"] = autos[\"date_crawled\"].str.replace(\"-\",\"\").astype(int)\nautos[\"ad_created\"] = autos[\"ad_created\"].str.replace(\"-\",\"\").astype(int)\nautos[\"date_last_seen\"] = autos[\"date_last_seen\"].str.replace(\"-\",\"\").astype(int)",
      "execution_count": null,
      "outputs": []
    },
    {
      "metadata": {
        "_uuid": "66ed2e9eb23e5a284c573eba23ff953ab5b9a0b4"
      },
      "cell_type": "markdown",
      "source": "After this last cleaning step, let's take a look at how the dataframe looks like:"
    },
    {
      "metadata": {
        "trusted": true,
        "_uuid": "2f89d7ae47759a8082c95b826393f7046f14a2da"
      },
      "cell_type": "code",
      "source": "autos",
      "execution_count": null,
      "outputs": []
    },
    {
      "metadata": {
        "_uuid": "0d4bbb4fe0835b49806c8c7f2c7f2de8fd32e012"
      },
      "cell_type": "markdown",
      "source": "Now, in terms of analysis, it is of interest to figure out the following things:\n\n- What the most common brand/model combinations are.\n- See if average prices follows any patterns based on the milage.\n- How much cheaper than their non-damaged counterparts cars with damage are.\n\nLet's start out by finding what the most common brand/model combinations are. In order to do this, we need to find how many times each brand is combined with a certain model."
    },
    {
      "metadata": {
        "trusted": true,
        "_uuid": "3aa49c9729e3a7fff1ca0293ede16e296e372476"
      },
      "cell_type": "code",
      "source": "aux_df = pd.concat([autos[\"brand\"],autos[\"model\"]], axis=1)\naux_df = aux_df.groupby(['brand','model']).size().reset_index().rename(columns={0:'count'})\naux_df",
      "execution_count": null,
      "outputs": []
    },
    {
      "metadata": {
        "_uuid": "cba9fd4d259b16023f56682f32edeec5809cf558"
      },
      "cell_type": "markdown",
      "source": "Column 'count' contains the values we want. In order for the analysis to be easier, let's sort the new dataframe created in descending order by column 'count' to find the most common brand/model combinations. "
    },
    {
      "metadata": {
        "trusted": true,
        "_uuid": "ff02902bc8053cc5789273912c35304413d182f8"
      },
      "cell_type": "code",
      "source": "aux_df.sort_values('count', ascending=False)",
      "execution_count": null,
      "outputs": []
    },
    {
      "metadata": {
        "_uuid": "1598ec31808a59e0c8c30b9c5deb71f7c03a360b"
      },
      "cell_type": "markdown",
      "source": "Now we can tell that Volkswagen's most common model is the Golf, with 3684 units, BMW is 3 Series with 2602 units, etc.\n\nNext, let's find out whether average prices follows any patterns based on the milage, starting by splitting the 'odometer_km' column into the following groups:\n\n- (g1) 0 - 50000 km \n- (g2) 50000 - 100000 km \n- (g3) 100000 - 125000 km\n- (g4) 125000 - 15000 km"
    },
    {
      "metadata": {
        "trusted": true,
        "_uuid": "f69e4608a27f0590a9de6dd0dc3c401cb1c2dc68"
      },
      "cell_type": "code",
      "source": "g1 = autos.loc[autos[\"odometer_km\"]<50000,'odometer_km']\ng2 = autos.loc[autos[\"odometer_km\"].between(50000,100000),'odometer_km']\ng3 = autos.loc[autos[\"odometer_km\"].between(100000,125000),'odometer_km']\ng4 = autos.loc[autos[\"odometer_km\"].between(125000,150000),'odometer_km']",
      "execution_count": null,
      "outputs": []
    },
    {
      "metadata": {
        "_uuid": "f8b1c642624e038977ed7a2081b0dcf93089cfcb"
      },
      "cell_type": "markdown",
      "source": "Now, using aggregation, let's calculate average prices for each group:"
    },
    {
      "metadata": {
        "scrolled": true,
        "trusted": true,
        "_uuid": "1c017f02db1d91d35c98c00dea4a00dc29b5190d"
      },
      "cell_type": "code",
      "source": "mileage_avg_prices = {}\ngroups = [g1,g2,g3,g4]\ngroup_number = 1\n\nfor group in groups:\n    av_price = autos.loc[group.index, \"price_dollars\"].mean()\n    mileage_avg_prices['g'+str(group_number)] = av_price\n    group_number+=1\n    \nmileage_avg_prices\n    ",
      "execution_count": null,
      "outputs": []
    },
    {
      "metadata": {
        "_uuid": "aaf6756f69715983eb03167e856262524dbf192a"
      },
      "cell_type": "markdown",
      "source": "We can see how average prices clearly depend on the milage. On average, cars with under 50000 miles (newer ones) cost about 15000 dollars, whereas those between 50000 and 100000 miles cost 10000 dollars, those between 100000 miles cost close to 7000 dollars and finally those with over 125000 miles cost 4000 dollars. \n\nTherefore, we can conclude that there is a significant pattern followed by the price based on the milage, where the bigger the m"
    },
    {
      "metadata": {
        "_uuid": "6199f958ac03e64bac4d310634b9a9265fb06013"
      },
      "cell_type": "markdown",
      "source": "Finally, let's find out how much cheaper than their non-damaged counterparts cars with damage are."
    },
    {
      "metadata": {
        "trusted": true,
        "_uuid": "d91e04332f9b8b953aabefd570b3f5cd1dccd509"
      },
      "cell_type": "code",
      "source": "#Find what models are/are not damaged\ndamaged_models = autos.loc[autos['unrepaired_damage']=='yes',\"model\"]\nnon_damaged_models = autos.loc[autos['unrepaired_damage']=='no',\"model\"]\n\n#Get the price for those models\nprice_damaged = autos.loc[damaged_models.index,\"price_dollars\"]\nnon_damaged_price = autos.loc[non_damaged_models.index,\"price_dollars\"]\n\nprint(\"\\n\\nDAMAGED:\\n\\n\",price_damaged.describe(),\"\\n\\n\\nNON-DAMAGED:\\n\\n\",non_damaged_price.describe())",
      "execution_count": null,
      "outputs": []
    },
    {
      "metadata": {
        "collapsed": true,
        "_uuid": "838d4f36b275d6960b9f8bdc34ee28bde6c833de"
      },
      "cell_type": "markdown",
      "source": "Based on the analysis above, we can conclude unrepaired damage can significantly lower car prices. On average, damaged models are priced at around 2000 dollars up to close to 45000, while non-damaged are worth 7000 dollars, up to 100000."
    },
    {
      "metadata": {
        "trusted": true,
        "_uuid": "f78d20f217b3f0a6f835afef065ab036fc053d9e"
      },
      "cell_type": "code",
      "source": "",
      "execution_count": null,
      "outputs": []
    }
  ],
  "metadata": {
    "kernelspec": {
      "display_name": "Python 3",
      "language": "python",
      "name": "python3"
    },
    "language_info": {
      "name": "python",
      "version": "3.6.6",
      "mimetype": "text/x-python",
      "codemirror_mode": {
        "name": "ipython",
        "version": 3
      },
      "pygments_lexer": "ipython3",
      "nbconvert_exporter": "python",
      "file_extension": ".py"
    }
  },
  "nbformat": 4,
  "nbformat_minor": 1
}